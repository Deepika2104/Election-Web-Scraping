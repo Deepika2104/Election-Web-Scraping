{
 "cells": [
  {
   "cell_type": "code",
   "execution_count": 16,
   "id": "87aa3181",
   "metadata": {},
   "outputs": [],
   "source": [
    "from bs4 import BeautifulSoup\n",
    "import requests\n",
    "import pandas as pd\n",
    "import numpy as np"
   ]
  },
  {
   "cell_type": "markdown",
   "id": "22f25401",
   "metadata": {},
   "source": [
    "#  PARLIAMENT CONSTITUENCY"
   ]
  },
  {
   "cell_type": "code",
   "execution_count": 4,
   "id": "b9814385",
   "metadata": {},
   "outputs": [],
   "source": [
    "url='https://results.eci.gov.in/PcResultGenJune2024/index.htm'\n",
    "page=requests.get(url)\n",
    "soup=BeautifulSoup(page.text,'html')"
   ]
  },
  {
   "cell_type": "code",
   "execution_count": 5,
   "id": "c120038c",
   "metadata": {},
   "outputs": [
    {
     "data": {
      "text/plain": [
       "['Party', 'Won', 'Leading', 'Total']"
      ]
     },
     "execution_count": 5,
     "metadata": {},
     "output_type": "execute_result"
    }
   ],
   "source": [
    "titles=soup.find_all('th')\n",
    "titles=[title.text for title in titles]\n",
    "titles=titles[0:4]\n",
    "titles"
   ]
  },
  {
   "cell_type": "code",
   "execution_count": 6,
   "id": "7b687e65",
   "metadata": {},
   "outputs": [],
   "source": [
    "def data(var):\n",
    "    var=[row.text.strip() for row in var]\n",
    "    for i in var:\n",
    "        if i=='':\n",
    "            var.remove(i)\n",
    "    return var"
   ]
  },
  {
   "cell_type": "code",
   "execution_count": 7,
   "id": "72500ba8",
   "metadata": {},
   "outputs": [],
   "source": [
    "dat=[]\n",
    "for i in range(1,len(soup.find_all('tr'))):\n",
    "    dat.append(data(soup.find_all('tr')[i]))"
   ]
  },
  {
   "cell_type": "code",
   "execution_count": 8,
   "id": "32d20fa5",
   "metadata": {},
   "outputs": [
    {
     "data": {
      "text/plain": [
       "43"
      ]
     },
     "execution_count": 8,
     "metadata": {},
     "output_type": "execute_result"
    }
   ],
   "source": [
    "len(dat)"
   ]
  },
  {
   "cell_type": "code",
   "execution_count": 9,
   "id": "8c209379",
   "metadata": {},
   "outputs": [
    {
     "data": {
      "text/plain": [
       "[['Bharatiya Janata Party - BJP', '240', '0', '240'],\n",
       " ['Indian National Congress - INC', '99', '0', '99'],\n",
       " ['Samajwadi Party - SP', '37', '0', '37'],\n",
       " ['All India Trinamool Congress - AITC', '29', '0', '29'],\n",
       " ['Dravida Munnetra Kazhagam - DMK', '22', '0', '22'],\n",
       " ['Telugu Desam - TDP', '16', '0', '16'],\n",
       " ['Janata Dal  (United) - JD(U)', '12', '0', '12'],\n",
       " ['Shiv Sena (Uddhav Balasaheb Thackrey) - SHSUBT', '9', '0', '9'],\n",
       " ['Nationalist Congress Party – Sharadchandra Pawar - NCPSP', '8', '0', '8'],\n",
       " ['Shiv Sena - SHS', '7', '0', '7'],\n",
       " ['Lok Janshakti Party(Ram Vilas) - LJPRV', '5', '0', '5'],\n",
       " ['Yuvajana Sramika Rythu Congress Party - YSRCP', '4', '0', '4'],\n",
       " ['Rashtriya Janata Dal - RJD', '4', '0', '4'],\n",
       " ['Communist Party of India  (Marxist) - CPI(M)', '4', '0', '4'],\n",
       " ['Indian Union Muslim League - IUML', '3', '0', '3'],\n",
       " ['Aam Aadmi Party - AAAP', '3', '0', '3'],\n",
       " ['Jharkhand Mukti Morcha - JMM', '3', '0', '3'],\n",
       " ['Janasena Party - JnP', '2', '0', '2'],\n",
       " ['Communist Party of India  (Marxist-Leninist)  (Liberation) - CPI(ML)(L)',\n",
       "  '2',\n",
       "  '0',\n",
       "  '2'],\n",
       " ['Janata Dal  (Secular) - JD(S)', '2', '0', '2'],\n",
       " ['Viduthalai Chiruthaigal Katchi - VCK', '2', '0', '2'],\n",
       " ['Communist Party of India - CPI', '2', '0', '2'],\n",
       " ['Rashtriya Lok Dal - RLD', '2', '0', '2'],\n",
       " ['Jammu & Kashmir National Conference - JKN', '2', '0', '2'],\n",
       " ['United People’s Party, Liberal - UPPL', '1', '0', '1'],\n",
       " ['Asom Gana Parishad - AGP', '1', '0', '1'],\n",
       " ['Hindustani Awam Morcha (Secular) - HAMS', '1', '0', '1'],\n",
       " ['Kerala Congress - KEC', '1', '0', '1'],\n",
       " ['Revolutionary Socialist Party - RSP', '1', '0', '1'],\n",
       " ['Nationalist Congress Party - NCP', '1', '0', '1'],\n",
       " ['Voice of the People Party - VOTPP', '1', '0', '1'],\n",
       " ['Zoram People’s Movement - ZPM', '1', '0', '1'],\n",
       " ['Shiromani Akali Dal - SAD', '1', '0', '1'],\n",
       " ['Rashtriya Loktantrik Party - RLTP', '1', '0', '1'],\n",
       " ['Bharat Adivasi Party - BHRTADVSIP', '1', '0', '1'],\n",
       " ['Sikkim Krantikari Morcha - SKM', '1', '0', '1'],\n",
       " ['Marumalarchi Dravida Munnetra Kazhagam - MDMK', '1', '0', '1'],\n",
       " ['Aazad Samaj Party (Kanshi Ram) - ASPKR', '1', '0', '1'],\n",
       " ['Apna Dal (Soneylal) - ADAL', '1', '0', '1'],\n",
       " ['AJSU Party - AJSUP', '1', '0', '1'],\n",
       " ['All India Majlis-E-Ittehadul Muslimeen - AIMIM', '1', '0', '1'],\n",
       " ['Independent - IND', '7', '0', '7'],\n",
       " ['Total', '543', '0', '543']]"
      ]
     },
     "execution_count": 9,
     "metadata": {},
     "output_type": "execute_result"
    }
   ],
   "source": [
    "dat"
   ]
  },
  {
   "cell_type": "code",
   "execution_count": 10,
   "id": "61806ec3",
   "metadata": {},
   "outputs": [
    {
     "data": {
      "text/plain": [
       "['Total', '543', '0', '543']"
      ]
     },
     "execution_count": 10,
     "metadata": {},
     "output_type": "execute_result"
    }
   ],
   "source": [
    "dat.pop(42)"
   ]
  },
  {
   "cell_type": "code",
   "execution_count": 11,
   "id": "ddde7d60",
   "metadata": {},
   "outputs": [
    {
     "data": {
      "text/html": [
       "<div>\n",
       "<style scoped>\n",
       "    .dataframe tbody tr th:only-of-type {\n",
       "        vertical-align: middle;\n",
       "    }\n",
       "\n",
       "    .dataframe tbody tr th {\n",
       "        vertical-align: top;\n",
       "    }\n",
       "\n",
       "    .dataframe thead th {\n",
       "        text-align: right;\n",
       "    }\n",
       "</style>\n",
       "<table border=\"1\" class=\"dataframe\">\n",
       "  <thead>\n",
       "    <tr style=\"text-align: right;\">\n",
       "      <th></th>\n",
       "      <th>Party</th>\n",
       "      <th>Won</th>\n",
       "      <th>Leading</th>\n",
       "      <th>Total</th>\n",
       "    </tr>\n",
       "  </thead>\n",
       "  <tbody>\n",
       "    <tr>\n",
       "      <th>0</th>\n",
       "      <td>Bharatiya Janata Party - BJP</td>\n",
       "      <td>240</td>\n",
       "      <td>0</td>\n",
       "      <td>240</td>\n",
       "    </tr>\n",
       "    <tr>\n",
       "      <th>1</th>\n",
       "      <td>Indian National Congress - INC</td>\n",
       "      <td>99</td>\n",
       "      <td>0</td>\n",
       "      <td>99</td>\n",
       "    </tr>\n",
       "    <tr>\n",
       "      <th>2</th>\n",
       "      <td>Samajwadi Party - SP</td>\n",
       "      <td>37</td>\n",
       "      <td>0</td>\n",
       "      <td>37</td>\n",
       "    </tr>\n",
       "    <tr>\n",
       "      <th>3</th>\n",
       "      <td>All India Trinamool Congress - AITC</td>\n",
       "      <td>29</td>\n",
       "      <td>0</td>\n",
       "      <td>29</td>\n",
       "    </tr>\n",
       "    <tr>\n",
       "      <th>4</th>\n",
       "      <td>Dravida Munnetra Kazhagam - DMK</td>\n",
       "      <td>22</td>\n",
       "      <td>0</td>\n",
       "      <td>22</td>\n",
       "    </tr>\n",
       "  </tbody>\n",
       "</table>\n",
       "</div>"
      ],
      "text/plain": [
       "                                 Party  Won Leading Total\n",
       "0         Bharatiya Janata Party - BJP  240       0   240\n",
       "1       Indian National Congress - INC   99       0    99\n",
       "2                 Samajwadi Party - SP   37       0    37\n",
       "3  All India Trinamool Congress - AITC   29       0    29\n",
       "4      Dravida Munnetra Kazhagam - DMK   22       0    22"
      ]
     },
     "execution_count": 11,
     "metadata": {},
     "output_type": "execute_result"
    }
   ],
   "source": [
    "df=pd.DataFrame(data=dat,columns=titles)\n",
    "df.head()"
   ]
  },
  {
   "cell_type": "code",
   "execution_count": 12,
   "id": "edb90d56",
   "metadata": {},
   "outputs": [],
   "source": [
    "def code(var):\n",
    "    res=var.split(' ')\n",
    "    result=res[-1]\n",
    "    return result\n",
    "df['Party_Code']=df['Party'].apply(code)"
   ]
  },
  {
   "cell_type": "code",
   "execution_count": 13,
   "id": "bd81773d",
   "metadata": {},
   "outputs": [
    {
     "data": {
      "text/html": [
       "<div>\n",
       "<style scoped>\n",
       "    .dataframe tbody tr th:only-of-type {\n",
       "        vertical-align: middle;\n",
       "    }\n",
       "\n",
       "    .dataframe tbody tr th {\n",
       "        vertical-align: top;\n",
       "    }\n",
       "\n",
       "    .dataframe thead th {\n",
       "        text-align: right;\n",
       "    }\n",
       "</style>\n",
       "<table border=\"1\" class=\"dataframe\">\n",
       "  <thead>\n",
       "    <tr style=\"text-align: right;\">\n",
       "      <th></th>\n",
       "      <th>Party</th>\n",
       "      <th>Won</th>\n",
       "      <th>Leading</th>\n",
       "      <th>Total</th>\n",
       "      <th>Party_Code</th>\n",
       "    </tr>\n",
       "  </thead>\n",
       "  <tbody>\n",
       "    <tr>\n",
       "      <th>0</th>\n",
       "      <td>Bharatiya Janata Party - BJP</td>\n",
       "      <td>240</td>\n",
       "      <td>0</td>\n",
       "      <td>240</td>\n",
       "      <td>BJP</td>\n",
       "    </tr>\n",
       "    <tr>\n",
       "      <th>1</th>\n",
       "      <td>Indian National Congress - INC</td>\n",
       "      <td>99</td>\n",
       "      <td>0</td>\n",
       "      <td>99</td>\n",
       "      <td>INC</td>\n",
       "    </tr>\n",
       "    <tr>\n",
       "      <th>2</th>\n",
       "      <td>Samajwadi Party - SP</td>\n",
       "      <td>37</td>\n",
       "      <td>0</td>\n",
       "      <td>37</td>\n",
       "      <td>SP</td>\n",
       "    </tr>\n",
       "    <tr>\n",
       "      <th>3</th>\n",
       "      <td>All India Trinamool Congress - AITC</td>\n",
       "      <td>29</td>\n",
       "      <td>0</td>\n",
       "      <td>29</td>\n",
       "      <td>AITC</td>\n",
       "    </tr>\n",
       "    <tr>\n",
       "      <th>4</th>\n",
       "      <td>Dravida Munnetra Kazhagam - DMK</td>\n",
       "      <td>22</td>\n",
       "      <td>0</td>\n",
       "      <td>22</td>\n",
       "      <td>DMK</td>\n",
       "    </tr>\n",
       "  </tbody>\n",
       "</table>\n",
       "</div>"
      ],
      "text/plain": [
       "                                 Party  Won Leading Total Party_Code\n",
       "0         Bharatiya Janata Party - BJP  240       0   240        BJP\n",
       "1       Indian National Congress - INC   99       0    99        INC\n",
       "2                 Samajwadi Party - SP   37       0    37         SP\n",
       "3  All India Trinamool Congress - AITC   29       0    29       AITC\n",
       "4      Dravida Munnetra Kazhagam - DMK   22       0    22        DMK"
      ]
     },
     "execution_count": 13,
     "metadata": {},
     "output_type": "execute_result"
    }
   ],
   "source": [
    "df.head()"
   ]
  },
  {
   "cell_type": "code",
   "execution_count": 14,
   "id": "b0878e23",
   "metadata": {},
   "outputs": [
    {
     "name": "stdout",
     "output_type": "stream",
     "text": [
      "<class 'pandas.core.frame.DataFrame'>\n",
      "RangeIndex: 42 entries, 0 to 41\n",
      "Data columns (total 5 columns):\n",
      " #   Column      Non-Null Count  Dtype \n",
      "---  ------      --------------  ----- \n",
      " 0   Party       42 non-null     object\n",
      " 1   Won         42 non-null     object\n",
      " 2   Leading     42 non-null     object\n",
      " 3   Total       42 non-null     object\n",
      " 4   Party_Code  42 non-null     object\n",
      "dtypes: object(5)\n",
      "memory usage: 1.8+ KB\n"
     ]
    }
   ],
   "source": [
    "df.info()"
   ]
  },
  {
   "cell_type": "code",
   "execution_count": 17,
   "id": "7f95fbdb",
   "metadata": {},
   "outputs": [],
   "source": [
    "df['Won']=df['Won'].astype(np.int64)\n",
    "df['Leading']=df['Leading'].astype(np.int64)\n",
    "df['Total']=df['Total'].astype(np.int64)"
   ]
  },
  {
   "cell_type": "markdown",
   "id": "816250e0",
   "metadata": {},
   "source": [
    "# BJP"
   ]
  },
  {
   "cell_type": "code",
   "execution_count": 18,
   "id": "ea74b07f",
   "metadata": {},
   "outputs": [],
   "source": [
    "url='https://results.eci.gov.in/PcResultGenJune2024/partywisewinresultState-369.htm'\n",
    "page=requests.get(url)\n",
    "soup=BeautifulSoup(page.text,'html')"
   ]
  },
  {
   "cell_type": "code",
   "execution_count": 19,
   "id": "ff0c2c3a",
   "metadata": {},
   "outputs": [
    {
     "data": {
      "text/plain": [
       "['S.No',\n",
       " 'Parliament Constituency',\n",
       " 'Winning Candidate',\n",
       " 'Total Votes',\n",
       " 'Margin']"
      ]
     },
     "execution_count": 19,
     "metadata": {},
     "output_type": "execute_result"
    }
   ],
   "source": [
    "titles=soup.find_all('th')\n",
    "titles=[title.text.strip() for title in titles]\n",
    "titles"
   ]
  },
  {
   "cell_type": "code",
   "execution_count": 20,
   "id": "c22eb4c5",
   "metadata": {},
   "outputs": [],
   "source": [
    "dat=[]\n",
    "for i in range(1,len(soup.find_all('tr'))):\n",
    "    dat.append(data(soup.find_all('tr')[i]))"
   ]
  },
  {
   "cell_type": "code",
   "execution_count": 21,
   "id": "42454ec5",
   "metadata": {},
   "outputs": [
    {
     "data": {
      "text/plain": [
       "[['1', 'Anakapalle(5)', 'C.M.RAMESH', '762069', '296530'],\n",
       " ['2', 'Rajahmundry(8)', 'DAGGUBATI PURANDHESHWARI', '726515', '239139'],\n",
       " ['3',\n",
       "  'Narsapuram(9)',\n",
       "  'BHUPATHI RAJU SRINIVASA VARMA (B.J.P.VARMA)',\n",
       "  '707343',\n",
       "  '276802'],\n",
       " ['4', 'Arunachal West(1)', 'KIREN RIJIJU', '205417', '100738'],\n",
       " ['5', 'Arunachal East(2)', 'TAPIR GAO', '145581', '30421'],\n",
       " ['6', 'Darrang-Udalguri(4)', 'DILIP SAIKIA', '868387', '329012'],\n",
       " ['7', 'Guwahati(5)', 'BIJULI KALITA MEDHI', '894887', '251090'],\n",
       " ['8', 'Diphu(6)', 'AMARSING TISSO', '334620', '147603'],\n",
       " ['9', 'Karimganj(7)', 'KRIPANATH MALLAH', '545093', '18360'],\n",
       " ['10', 'Silchar (8)', 'PARIMAL SUKLABAIDYA', '652405', '264311'],\n",
       " ['11', 'Kaziranga(10)', 'KAMAKHYA PRASAD TASA', '897043', '248947'],\n",
       " ['12', 'Sonitpur(11)', 'RANJIT DUTTA', '775788', '361408'],\n",
       " ['13', 'Lakhimpur(12)', 'PRADAN BARUAH', '663122', '201257'],\n",
       " ['14', 'Dibrugarh(13)', 'SARBANANDA SONOWAL', '693762', '279321'],\n",
       " ['15', 'Paschim Champaran(2)', 'DR.SANJAY JAISWAL', '580421', '136568'],\n",
       " ['16', 'Purvi Champaran(3)', 'RADHA MOHAN SINGH', '542193', '88287'],\n",
       " ['17', 'Madhubani(6)', 'ASHOK KUMAR YADAV', '553428', '151945'],\n",
       " ['18', 'Araria(9)', 'PRADEEP KUMAR SINGH', '600146', '20094'],\n",
       " ['19', 'Darbhanga(14)', 'GOPAL JEE THAKUR', '566630', '178156'],\n",
       " ['20', 'Muzaffarpur(15)', 'RAJ BHUSHAN CHOUDHARY', '619749', '234927'],\n",
       " ['21', 'Maharajganj(19)', 'JANARDAN SINGH \"SIGRIWAL\"', '529533', '102651'],\n",
       " ['22', 'Saran(20)', 'RAJIV PRATAP RUDY', '471752', '13661'],\n",
       " ['23', 'Ujiarpur(22)', 'NITYANAND RAI', '515965', '60102'],\n",
       " ['24', 'Begusarai(24)', 'GIRIRAJ SINGH', '649331', '81480'],\n",
       " ['25', 'Patna Sahib(30)', 'RAVI SHANKAR PRASAD', '588270', '153846'],\n",
       " ['26', 'Nawada(39)', 'VIVEK THAKUR', '410608', '67670'],\n",
       " ['27', 'North Goa(1)', 'SHRIPAD YESSO NAIK', '257326', '116015'],\n",
       " ['28', 'Kachchh(1)', 'CHAVDA VINOD LAKHAMSHI', '659574', '268782'],\n",
       " ['29', 'Patan(3)', 'DABHI  BHARATSINHJI  SHANKARJI', '591947', '31876'],\n",
       " ['30', 'Mahesana(4)', 'HARIBHAI PATEL', '686406', '328046'],\n",
       " ['31',\n",
       "  'Sabarkantha(5)',\n",
       "  'SHOBHANABEN MAHENDRASINH BARAIYA',\n",
       "  '677318',\n",
       "  '155682'],\n",
       " ['32', 'Gandhinagar(6)', 'AMIT SHAH', '1010972', '744716'],\n",
       " ['33',\n",
       "  'Ahmedabad East(7)',\n",
       "  'HASMUKHBHAI PATEL (H.S.PATEL)',\n",
       "  '770459',\n",
       "  '461755'],\n",
       " ['34',\n",
       "  'Ahmedabad West(8)',\n",
       "  'DINESHBHAI MAKWANA (ADVOCATE)',\n",
       "  '611704',\n",
       "  '286437'],\n",
       " ['35',\n",
       "  'Surendranagar(9)',\n",
       "  'CHANDUBHAI CHHAGANBHAI SHIHORA',\n",
       "  '669749',\n",
       "  '261617'],\n",
       " ['36', 'Rajkot(10)', 'PARSHOTTAMBHAI RUPALA', '857984', '484260'],\n",
       " ['37', 'Porbandar(11)', 'DR. MANSUKH MANDAVIYA', '633118', '383360'],\n",
       " ['38', 'Jamnagar(12)', 'POONAMBEN HEMATBHAI MAADAM', '620049', '238008'],\n",
       " ['39', 'Junagadh(13)', 'CHUDASAMA RAJESHBHAI NARANBHAI', '584049', '135494'],\n",
       " ['40', 'Amreli(14)', 'BHARATBHAI MANUBHAI SUTARIYA', '580872', '321068'],\n",
       " ['41',\n",
       "  'Bhavnagar(15)',\n",
       "  'NIMUBEN JAYANTIBHAI BAMBHANIYA (NIMUBEN BAMBHANIYA)',\n",
       "  '716883',\n",
       "  '455289'],\n",
       " ['42', 'Anand(16)', 'MITESH PATEL (BAKABHAI)', '612484', '89939'],\n",
       " ['43', 'Kheda(17)', 'DEVUSINH CHAUHAN', '744435', '357758'],\n",
       " ['44', 'Panchmahal(18)', 'RAJPALSINH MAHENDRASINH JADAV', '794579', '509342'],\n",
       " ['45', 'Dahod(19)', 'JASWANTSINH SUMANBHAI BHABHOR', '688715', '333677'],\n",
       " ['46', 'Vadodara(20)', 'DR. HEMANG JOSHI', '873189', '582126'],\n",
       " ['47',\n",
       "  'Chhota Udaipur(21)',\n",
       "  'JASHUBHAI BHILUBHAI RATHVA',\n",
       "  '796589',\n",
       "  '398777'],\n",
       " ['48', 'Bharuch(22)', 'MANSUKHBHAI DHANJIBHAI VASAVA', '608157', '85696'],\n",
       " ['49', 'Bardoli(23)', 'PARBHUBHAI NAGARBHAI VASAVA', '763950', '230253'],\n",
       " ['50', 'Surat(24)', 'MUKESHKUMAR CHANDRAKAANT DALAL (Uncontested)', '-', '-'],\n",
       " ['51', 'Navsari(25)', 'C R PATIL', '1031065', '773551'],\n",
       " ['52', 'Valsad(26)', 'DHAVAL LAXMANBHAI PATEL', '764226', '210704'],\n",
       " ['53', 'KURUKSHETRA(2)', 'NAVEEN JINDAL', '542175', '29021'],\n",
       " ['54', 'KARNAL(5)', 'MANOHAR LAL', '739285', '232577'],\n",
       " ['55', 'BHIWANI-MAHENDRAGARH(8)', 'DHARAMBIR SINGH', '588664', '41510'],\n",
       " ['56', 'GURGAON(9)', 'RAO INDERJIT SINGH', '808336', '75079'],\n",
       " ['57', 'FARIDABAD(10)', 'KRISHAN PAL', '788569', '172914'],\n",
       " ['58', 'KANGRA(1)', 'DR RAJEEV BHARDWAJ', '632793', '251895'],\n",
       " ['59', 'MANDI(2)', 'KANGNA RANAUT', '537022', '74755'],\n",
       " ['60', 'HAMIRPUR(3)', 'ANURAG SINGH THAKUR', '607068', '182357'],\n",
       " ['61', 'SHIMLA(4)', 'Suresh Kumar Kashyap', '519748', '91451'],\n",
       " ['62', 'Belgaum(2)', 'JAGADISH SHETTAR', '762029', '178437'],\n",
       " ['63',\n",
       "  'Bagalkot(3)',\n",
       "  'GADDIGOUDAR. PARVATAGOUDA. CHANDANAGOUDA.',\n",
       "  '671039',\n",
       "  '68399'],\n",
       " ['64', 'Bijapur(4)', 'RAMESH JIGAJINAGI', '672781', '77229'],\n",
       " ['65', 'Haveri(10)', 'BASAVARAJ BOMMAI', '705538', '43513'],\n",
       " ['66', 'Dharwad(11)', 'PRALHAD JOSHI', '716231', '97324'],\n",
       " ['67', 'Uttara Kannada(12)', 'VISHWESHWAR HEGDE KAGERI', '782495', '337428'],\n",
       " ['68', 'Shimoga(14)', 'B.Y.RAGHAVENDRA', '778721', '243715'],\n",
       " ['69', 'Udupi Chikmagalur(15)', 'KOTA SRINIVAS POOJARY', '732234', '259175'],\n",
       " ['70', 'Dakshina Kannada(17)', 'CAPTAIN BRIJESH CHOWTA', '764132', '149208'],\n",
       " ['71', 'Chitradurga(18)', 'GOVIND MAKTHAPPA KARJOL', '684890', '48121'],\n",
       " ['72', 'Tumkur(19)', 'V. SOMANNA', '720946', '175594'],\n",
       " ['73',\n",
       "  'Mysore(21)',\n",
       "  'YADUVEER KRISHNADATTA CHAMARAJA WADIYAR',\n",
       "  '795503',\n",
       "  '139262'],\n",
       " ['74', 'Bangalore Rural(23)', 'DR C N MANJUNATH', '1079002', '269647'],\n",
       " ['75', 'Bangalore North(24)', 'SHOBHA KARANDLAJE', '986049', '259476'],\n",
       " ['76', 'Bangalore central(25)', 'P C MOHAN', '658915', '32707'],\n",
       " ['77', 'Bangalore South(26)', 'TEJASVI SURYA', '750830', '277083'],\n",
       " ['78', 'Chikkballapur(27)', 'DR.K.SUDHAKAR', '822619', '163460'],\n",
       " ['79', 'Thrissur(10)', 'SURESH GOPI', '412338', '74686'],\n",
       " ['80', 'MORENA(1)', 'SHIVMANGAL SINGH TOMAR', '515477', '52530'],\n",
       " ['81', 'BHIND(2)', 'SANDHYA RAY', '537065', '64840'],\n",
       " ['82', 'GWALIOR(3)', 'BHARAT SINGH KUSHWAH', '671535', '70210'],\n",
       " ['83', 'GUNA(4)', 'JYOTIRADITYA M. SCINDIA', '923302', '540929'],\n",
       " ['84', 'SAGAR(5)', 'DR. LATA WANKHEDE', '787979', '471222'],\n",
       " ['85', 'TIKAMGARH(6)', 'DR. VIRENDRA KUMAR', '715050', '403312'],\n",
       " ['86', 'DAMOH(7)', 'RAHUL SINGH LODHI', '709768', '406426'],\n",
       " ['87', 'KHAJURAHO(8)', 'VISHNU DATT SHARMA (V.D.SHARMA)', '772774', '541229'],\n",
       " ['88', 'SATNA(9)', 'GANESH SINGH', '459728', '84949'],\n",
       " ['89', 'REWA(10)', 'JANARDAN MISHRA', '477459', '193374'],\n",
       " ['90', 'SIDHI(11)', 'DR. RAJESH MISHRA', '583559', '206416'],\n",
       " ['91', 'SHAHDOL(12)', 'SMT. HIMADRI SINGH', '711143', '397340'],\n",
       " ['92', 'JABALPUR(13)', 'ASHISH DUBEY', '790133', '486674'],\n",
       " ['93', 'MANDLA(14)', 'FAGGAN SINGH KULASTE', '751375', '103846'],\n",
       " ['94', 'BALAGHAT(15)', 'BHARTI PARDHI', '712660', '174512'],\n",
       " ['95', 'CHHINDWARA(16)', 'BUNTY VIVEK SAHU', '644738', '113618'],\n",
       " ['96', 'HOSHANGABAD(17)', 'DARSHAN SINGH CHOUDHARY', '812147', '431696'],\n",
       " ['97', 'VIDISHA(18)', 'SHIVRAJ SINGH CHOUHAN', '1116460', '821408'],\n",
       " ['98', 'BHOPAL(19)', 'ALOK SHARMA', '981109', '501499'],\n",
       " ['99', 'RAJGARH(20)', 'RODMAL NAGAR', '758743', '146089'],\n",
       " ['100', 'DEWAS(21)', 'MAHENDRA SINGH SOLANKY', '928941', '425225'],\n",
       " ['101', 'UJJAIN(22)', 'ANIL FIROJIYA', '836104', '375860'],\n",
       " ['102', 'MANDSOUR(23)', 'SUDHEER GUPTA', '945761', '500655'],\n",
       " ['103', 'RATLAM(24)', 'ANITA NAGARSINGH CHOUHAN', '795863', '207232'],\n",
       " ['104', 'DHAR(25)', 'SAVITRI THAKUR', '794449', '218665'],\n",
       " ['105', 'INDORE(26)', 'SHANKAR LALWANI', '1226751', '1175092'],\n",
       " ['106', 'KHARGONE(27)', 'GAJENDRA SINGH PATEL', '819863', '135018'],\n",
       " ['107', 'KHANDWA(28)', 'GYANESHWAR PATIL', '862679', '269971'],\n",
       " ['108', 'BETUL(29)', 'DURGADAS (D. D.) UIKEY', '848236', '379761'],\n",
       " ['109', 'Jalgaon(3)', 'SMITA UDAY WAGH', '674428', '251594'],\n",
       " ['110', 'Raver(4)', 'KHADSE RAKSHA NIKHIL', '630879', '272183'],\n",
       " ['111', 'Akola(6)', 'ANUP SANJAY DHOTRE', '457030', '40626'],\n",
       " ['112', 'Nagpur(10)', 'NITIN JAIRAM GADKARI', '655027', '137603'],\n",
       " ['113', 'Palghar(22)', 'DR. HEMANT VISHNU SAVARA', '601244', '183306'],\n",
       " ['114', 'Mumbai North(26)', 'PIYUSH GOYAL', '680146', '357608'],\n",
       " ['115', 'Pune(34)', 'MURLIDHAR MOHOL', '584728', '123038'],\n",
       " ['116',\n",
       "  'Satara(45)',\n",
       "  'SHRIMANT CHH UDAYANRAJE PRATAPSINHAMAHARAJ BHONSLE',\n",
       "  '571134',\n",
       "  '32771'],\n",
       " ['117', 'Ratnagiri- Sindhudurg(46)', 'NARAYAN TATU RANE', '448514', '47858'],\n",
       " ['118', 'Bargarh(1)', 'PRADEEP PUROHIT', '716359', '251667'],\n",
       " ['119', 'Sundargarh(2)', 'JUAL ORAM', '494282', '138808'],\n",
       " ['120', 'Sambalpur(3)', 'DHARMENDRA PRADHAN', '592162', '119836'],\n",
       " ['121', 'Keonjhar(4)', 'ANANTA NAYAK', '573923', '97042'],\n",
       " ['122', 'Mayurbhanj(5)', 'NABA CHARAN MAJHI', '585971', '219334'],\n",
       " ['123', 'Balasore(6)', 'PRATAP CHANDRA SARANGI', '563865', '147156'],\n",
       " ['124', 'Bhadrak(7)', 'AVIMANYU SETHI', '573319', '91544'],\n",
       " ['125', 'Jajpur(8)', 'RABINDRA NARAYAN BEHERA', '534239', '1587'],\n",
       " ['126', 'Dhenkanal(9)', 'RUDRA NARAYAN PANY', '598721', '76567'],\n",
       " ['127', 'Bolangir(10)', 'SANGEETA KUMARI SINGH DEO', '617744', '132664'],\n",
       " ['128', 'Kalahandi(11)', 'MALVIKA DEVI', '544303', '133813'],\n",
       " ['129', 'Nabarangpur(12)', 'BALABHADRA MAJHI', '481396', '87536'],\n",
       " ['130', 'Kandhamal(13)', 'SUKANTA KUMAR PANIGRAHI', '416415', '21371'],\n",
       " ['131', 'Cuttack(14)', 'BHARTRUHARI MAHTAB', '531601', '57077'],\n",
       " ['132', 'Kendrapara(15)', 'BAIJAYANT PANDA', '615705', '66536'],\n",
       " ['133', 'Jagatsinghpur(16)', 'BIBHU PRASAD TARAI', '589093', '40696'],\n",
       " ['134', 'Puri(17)', 'SAMBIT PATRA', '629330', '104709'],\n",
       " ['135', 'Bhubaneswar(18)', 'APARAJITA SARANGI', '512519', '35152'],\n",
       " ['136', 'Aska(19)', 'ANITA SUBHADARSHINI', '494226', '99974'],\n",
       " ['137', 'Berhampur(20)', 'DR. PRADEEP KUMAR PANIGRAHY', '513102', '165476'],\n",
       " ['138', 'BIKANER (2)', 'ARJUN RAM MEGHWAL', '566737', '55711'],\n",
       " ['139', 'JAIPUR RURAL(6)', 'RAO RAJENDRA SINGH', '617877', '1615'],\n",
       " ['140', 'JAIPUR(7)', 'MANJU SHARMA', '886850', '331767'],\n",
       " ['141', 'ALWAR(8)', 'BHUPENDER YADAV', '631992', '48282'],\n",
       " ['142', 'AJMER (13)', 'BHAGIRATH CHOUDHARY', '747462', '329991'],\n",
       " ['143', 'PALI(15)', 'P. P. CHAUDHARY', '757389', '245351'],\n",
       " ['144', 'JODHPUR(16)', 'GAJENDRA SINGH SHEKHAWAT', '730056', '115677'],\n",
       " ['145', 'JALORE (18)', 'LUMBARAM', '796783', '201543'],\n",
       " ['146', 'UDAIPUR (19)', 'MANNA LAL RAWAT', '738286', '261608'],\n",
       " ['147', 'CHITTORGARH(21)', 'CHANDRA PRAKASH JOSHI', '888202', '389877'],\n",
       " ['148', 'RAJSAMAND(22)', 'MAHIMA KUMARI MEWAR', '781203', '392223'],\n",
       " ['149', 'BHILWARA(23)', 'DAMODAR AGARWAL', '807640', '354606'],\n",
       " ['150', 'KOTA(24)', 'OM BIRLA', '750496', '41974'],\n",
       " ['151', 'JHALAWAR-BARAN(25)', 'DUSHYANT SINGH', '865376', '370989'],\n",
       " ['152', 'Tripura West(1)', 'BIPLAB KUMAR DEB', '881341', '611578'],\n",
       " ['153', 'Tripura East(2)', 'KRITI DEVI DEBBARMAN', '777447', '486819'],\n",
       " ['154', 'Amroha(9)', 'KANWAR SINGH TANWAR', '476506', '28670'],\n",
       " ['155', 'Meerut(10)', 'ARUN GOVIL', '546469', '10585'],\n",
       " ['156', 'Ghaziabad(12)', 'ATUL GARG', '854170', '336965'],\n",
       " ['157', 'Gautam Buddha Nagar(13)', 'DR. MAHESH SHARMA', '857829', '559472'],\n",
       " ['158', 'Bulandshahr(14)', 'DR BHOLA SINGH', '597310', '275134'],\n",
       " ['159', 'Aligarh(15)', 'SATISH KUMAR GAUTAM', '501834', '15647'],\n",
       " ['160', 'Hathras(16)', 'ANOOP PRADHAN BALMIKI', '554746', '247318'],\n",
       " ['161', 'Mathura(17)', 'HEMAMALINI DHARMENDRA DEOL', '510064', '293407'],\n",
       " ['162', 'Agra(18)', 'PROF S P SINGH BAGHEL', '599397', '271294'],\n",
       " ['163', 'Fatehpur Sikri(19)', 'RAJKUMAR CHAHAR', '445657', '43405'],\n",
       " ['164', 'Bareilly(25)', 'CHHATRA PAL SINGH GANGWAR', '567127', '34804'],\n",
       " ['165', 'Pilibhit(26)', 'JITIN PRASADA', '607158', '164935'],\n",
       " ['166', 'Shahjahanpur(27)', 'ARUN KUMAR SAGAR', '592718', '55379'],\n",
       " ['167', 'Hardoi(31)', 'JAI PRAKASH', '486798', '27856'],\n",
       " ['168', 'Misrikh(32)', 'ASHOK KUMAR RAWAT', '475016', '33406'],\n",
       " ['169', 'Unnao(33)', 'SWAMI SACHCHIDANAND HARI SAKSHI', '616133', '35818'],\n",
       " ['170', 'Lucknow(35)', 'RAJ NATH SINGH', '612709', '135159'],\n",
       " ['171', 'Farrukhabad(40)', 'MUKESH RAJPUT', '487963', '2678'],\n",
       " ['172', 'Kanpur(43)', 'RAMESH AWASTHI', '443055', '20968'],\n",
       " ['173',\n",
       "  'Akbarpur(44)',\n",
       "  'DEVENDRA SINGH ALIAS BHOLE SINGH',\n",
       "  '517423',\n",
       "  '44345'],\n",
       " ['174', 'Jhansi(46)', 'ANURAG SHARMA', '690316', '102614'],\n",
       " ['175', 'Phulpur(51)', 'PRAVEEN PATEL', '452600', '4332'],\n",
       " ['176', 'Baharaich(56)', 'ANAND KUMAR', '518802', '64227'],\n",
       " ['177', 'Kaiserganj(57)', 'KARAN BHUSHAN SINGH', '571263', '148843'],\n",
       " ['178', 'Gonda(59)', 'KIRTIVARDHAN SINGH', '474258', '46224'],\n",
       " ['179', 'Domariyaganj(60)', 'JAGDAMBIKA PAL', '463303', '42728'],\n",
       " ['180', 'Maharajganj(63)', 'PANKAJ CHAUDHARY', '591310', '35451'],\n",
       " ['181',\n",
       "  'Gorakhpur(64)',\n",
       "  'RAVINDRA SHUKLA ALIAS RAVI KISHAN',\n",
       "  '585834',\n",
       "  '103526'],\n",
       " ['182', 'Kushi Nagar(65)', 'VIJAY KUMAR DUBAY', '516345', '81790'],\n",
       " ['183', 'Deoria(66)', 'SHASHANK MANI', '504541', '34842'],\n",
       " ['184', 'Bansgaon(67)', 'KAMLESH PASWAN', '428693', '3150'],\n",
       " ['185', 'Varanasi(77)', 'NARENDRA MODI', '612970', '152513'],\n",
       " ['186', 'Bhadohi(78)', 'DR. VINOD KUMAR BIND', '459982', '44072'],\n",
       " ['187', 'Alipurduars(2)', 'MANOJ TIGGA', '695314', '75447'],\n",
       " ['188', 'Jalpaiguri(3)', 'DR JAYANTA KUMAR ROY', '766568', '86693'],\n",
       " ['189', 'Darjeeling(4)', 'RAJU BISTA', '679331', '178525'],\n",
       " ['190', 'Raiganj(5)', 'KARTICK CHANDRA PAUL', '560897', '68197'],\n",
       " ['191', 'Balurghat(6)', 'SUKANTA MAJUMDAR', '574996', '10386'],\n",
       " ['192', 'Maldaha Uttar(7)', 'KHAGEN MURMU', '527023', '77708'],\n",
       " ['193', 'Ranaghat(13)', 'JAGANNATH SARKAR', '782396', '186899'],\n",
       " ['194', 'Bangaon(14)', 'SHANTANU THAKUR', '719505', '73693'],\n",
       " ['195', 'Tamluk(30)', 'ABHIJIT GANGOPADHYAY', '765584', '77733'],\n",
       " ['196', 'Kanthi(31)', 'ADHIKARI SOUMENDU', '763195', '47764'],\n",
       " ['197', 'Purulia(35)', 'JYOTIRMAY SINGH MAHATO', '578489', '17079'],\n",
       " ['198', 'Bishnupur(37)', 'KHAN SAUMITRA', '680130', '5567'],\n",
       " ['199', 'SURGUJA(1)', 'CHINTAMANI MAHARAJ', '713200', '64822'],\n",
       " ['200', 'RAIGARH(2)', 'RADHESHYAM RATHIYA', '808275', '240391'],\n",
       " ['201', 'JANJGIR-CHAMPA(3)', 'KAMLESH JANGDE', '678199', '60000'],\n",
       " ['202', 'BILASPUR(5)', 'TOKHAN SAHU', '724937', '164558'],\n",
       " ['203', 'RAJNANDGAON(6)', 'SANTOSH PANDEY', '712057', '44411'],\n",
       " ['204', 'DURG(7)', 'VIJAY BAGHEL', '956497', '438226'],\n",
       " ['205', 'RAIPUR(8)', 'BRIJMOHAN AGRAWAL', '1050351', '575285'],\n",
       " ['206', 'MAHASAMUND(9)', 'ROOP KUMARI CHOUDHARY', '703659', '145456'],\n",
       " ['207', 'BASTAR(10)', 'MAHESH KASHYAP', '458398', '55245'],\n",
       " ['208', 'KANKER(11)', 'BHOJRAJ NAG', '597624', '1884'],\n",
       " ['209', 'Godda(3)', 'NISHIKANT DUBEY', '693140', '101813'],\n",
       " ['210', 'Chatra(4)', 'KALI CHARAN SINGH', '574556', '220959'],\n",
       " ['211', 'Kodarma(5)', 'ANNPURNA DEVI', '791657', '377014'],\n",
       " ['212', 'Dhanbad(7)', 'DULU MAHATO', '789172', '331583'],\n",
       " ['213', 'Ranchi(8)', 'SANJAY SETH', '664732', '120512'],\n",
       " ['214', 'Jamshedpur(9)', 'BIDYUT BARAN MAHATO', '726174', '259782'],\n",
       " ['215', 'Palamau(13)', 'VISHNU DAYAL RAM', '770362', '288807'],\n",
       " ['216', 'Hazaribagh(14)', 'MANISH JAISWAL', '654613', '276686'],\n",
       " ['217', 'Tehri Garhwal(1)', 'MALA RAJYA LAKSHMI SHAH', '462603', '272493'],\n",
       " ['218', 'Garhwal(2)', 'ANIL BALUNI', '432159', '163503'],\n",
       " ['219', 'Almora(3)', 'AJAY TAMTA', '429167', '234097'],\n",
       " ['220', 'Nainital-Udhamsingh Nagar(4)', 'AJAY BHATT', '772671', '334548'],\n",
       " ['221', 'Haridwar(5)', 'TRIVENDRA SINGH RAWAT', '653808', '164056'],\n",
       " ['222', 'Adilabad (1)', 'GODAM NAGESH', '568168', '90652'],\n",
       " ['223', 'Karimnagar (3)', 'BANDI SANJAY KUMAR', '585116', '225209'],\n",
       " ['224', 'Nizamabad(4)', 'ARVIND DHARMAPURI', '592318', '109241'],\n",
       " ['225', 'Medak(6)', 'MADHAVANENI RAGHUNANDAN RAO', '471217', '39139'],\n",
       " ['226', 'Malkajgiri(7)', 'EATALA RAJENDER', '991042', '391475'],\n",
       " ['227', 'Secunderabad(8)', 'G. KISHAN REDDY', '473012', '49944'],\n",
       " ['228', 'Chevella(10)', 'KONDA VISHWESHWAR REDDY', '809882', '172897'],\n",
       " ['229', 'Mahbubnagar(11)', 'ARUNA. D. K', '510747', '4500'],\n",
       " ['230', 'Andaman & Nicobar Islands(1)', 'BISHNU PADA RAY', '102436', '24396'],\n",
       " ['231',\n",
       "  'Dadar & Nagar Haveli(2)',\n",
       "  'DELKAR KALABEN MOHANBHAI',\n",
       "  '121074',\n",
       "  '57584'],\n",
       " ['232', 'Chandni Chowk(1)', 'PRAVEEN KHANDELWAL', '516496', '89325'],\n",
       " ['233', 'North-East Delhi(2)', 'MANOJ TIWARI', '824451', '138778'],\n",
       " ['234', 'East Delhi(3)', 'HARSH MALHOTRA', '664819', '93663'],\n",
       " ['235', 'New Delhi(4)', 'BANSURI SWARAJ', '453185', '78370'],\n",
       " ['236', 'North-West Delhi(5)', 'YOGENDER CHANDOLIYA', '866483', '290849'],\n",
       " ['237', 'West Delhi(6)', 'KAMALJEET SEHRAWAT', '842658', '199013'],\n",
       " ['238', 'South Delhi(7)', 'RAMVIR SINGH BIDHURI', '692832', '124333'],\n",
       " ['239', 'UDHAMPUR(4)', 'DR JITENDRA SINGH', '571076', '124373'],\n",
       " ['240', 'JAMMU(5)', 'JUGAL KISHORE', '687588', '135498']]"
      ]
     },
     "execution_count": 21,
     "metadata": {},
     "output_type": "execute_result"
    }
   ],
   "source": [
    "dat"
   ]
  },
  {
   "cell_type": "code",
   "execution_count": 22,
   "id": "88602e36",
   "metadata": {},
   "outputs": [
    {
     "data": {
      "text/html": [
       "<div>\n",
       "<style scoped>\n",
       "    .dataframe tbody tr th:only-of-type {\n",
       "        vertical-align: middle;\n",
       "    }\n",
       "\n",
       "    .dataframe tbody tr th {\n",
       "        vertical-align: top;\n",
       "    }\n",
       "\n",
       "    .dataframe thead th {\n",
       "        text-align: right;\n",
       "    }\n",
       "</style>\n",
       "<table border=\"1\" class=\"dataframe\">\n",
       "  <thead>\n",
       "    <tr style=\"text-align: right;\">\n",
       "      <th></th>\n",
       "      <th>S.No</th>\n",
       "      <th>Parliament Constituency</th>\n",
       "      <th>Winning Candidate</th>\n",
       "      <th>Total Votes</th>\n",
       "      <th>Margin</th>\n",
       "    </tr>\n",
       "  </thead>\n",
       "  <tbody>\n",
       "    <tr>\n",
       "      <th>0</th>\n",
       "      <td>1</td>\n",
       "      <td>Anakapalle(5)</td>\n",
       "      <td>C.M.RAMESH</td>\n",
       "      <td>762069</td>\n",
       "      <td>296530</td>\n",
       "    </tr>\n",
       "    <tr>\n",
       "      <th>1</th>\n",
       "      <td>2</td>\n",
       "      <td>Rajahmundry(8)</td>\n",
       "      <td>DAGGUBATI PURANDHESHWARI</td>\n",
       "      <td>726515</td>\n",
       "      <td>239139</td>\n",
       "    </tr>\n",
       "    <tr>\n",
       "      <th>2</th>\n",
       "      <td>3</td>\n",
       "      <td>Narsapuram(9)</td>\n",
       "      <td>BHUPATHI RAJU SRINIVASA VARMA (B.J.P.VARMA)</td>\n",
       "      <td>707343</td>\n",
       "      <td>276802</td>\n",
       "    </tr>\n",
       "    <tr>\n",
       "      <th>3</th>\n",
       "      <td>4</td>\n",
       "      <td>Arunachal West(1)</td>\n",
       "      <td>KIREN RIJIJU</td>\n",
       "      <td>205417</td>\n",
       "      <td>100738</td>\n",
       "    </tr>\n",
       "    <tr>\n",
       "      <th>4</th>\n",
       "      <td>5</td>\n",
       "      <td>Arunachal East(2)</td>\n",
       "      <td>TAPIR GAO</td>\n",
       "      <td>145581</td>\n",
       "      <td>30421</td>\n",
       "    </tr>\n",
       "  </tbody>\n",
       "</table>\n",
       "</div>"
      ],
      "text/plain": [
       "  S.No Parliament Constituency                            Winning Candidate  \\\n",
       "0    1           Anakapalle(5)                                   C.M.RAMESH   \n",
       "1    2          Rajahmundry(8)                     DAGGUBATI PURANDHESHWARI   \n",
       "2    3           Narsapuram(9)  BHUPATHI RAJU SRINIVASA VARMA (B.J.P.VARMA)   \n",
       "3    4       Arunachal West(1)                                 KIREN RIJIJU   \n",
       "4    5       Arunachal East(2)                                    TAPIR GAO   \n",
       "\n",
       "  Total Votes  Margin  \n",
       "0      762069  296530  \n",
       "1      726515  239139  \n",
       "2      707343  276802  \n",
       "3      205417  100738  \n",
       "4      145581   30421  "
      ]
     },
     "execution_count": 22,
     "metadata": {},
     "output_type": "execute_result"
    }
   ],
   "source": [
    "bjp=pd.DataFrame(data=dat,columns=titles)\n",
    "bjp.head()"
   ]
  },
  {
   "cell_type": "code",
   "execution_count": 23,
   "id": "75a6384f",
   "metadata": {},
   "outputs": [],
   "source": [
    "bjp.drop('S.No',axis=1,inplace=True)"
   ]
  },
  {
   "cell_type": "code",
   "execution_count": 24,
   "id": "85ae8bc2",
   "metadata": {},
   "outputs": [],
   "source": [
    "def no_of_candidates(var):\n",
    "    s=''\n",
    "    for i in var:\n",
    "        if i.isdigit():\n",
    "            s+=i\n",
    "    return int(s)"
   ]
  },
  {
   "cell_type": "code",
   "execution_count": 25,
   "id": "1b0d984c",
   "metadata": {},
   "outputs": [],
   "source": [
    "bjp['No_of_candidates']=bjp['Parliament Constituency'].apply(no_of_candidates)"
   ]
  },
  {
   "cell_type": "code",
   "execution_count": 26,
   "id": "b67eac79",
   "metadata": {},
   "outputs": [
    {
     "data": {
      "text/html": [
       "<div>\n",
       "<style scoped>\n",
       "    .dataframe tbody tr th:only-of-type {\n",
       "        vertical-align: middle;\n",
       "    }\n",
       "\n",
       "    .dataframe tbody tr th {\n",
       "        vertical-align: top;\n",
       "    }\n",
       "\n",
       "    .dataframe thead th {\n",
       "        text-align: right;\n",
       "    }\n",
       "</style>\n",
       "<table border=\"1\" class=\"dataframe\">\n",
       "  <thead>\n",
       "    <tr style=\"text-align: right;\">\n",
       "      <th></th>\n",
       "      <th>Parliament Constituency</th>\n",
       "      <th>Winning Candidate</th>\n",
       "      <th>Total Votes</th>\n",
       "      <th>Margin</th>\n",
       "      <th>No_of_candidates</th>\n",
       "    </tr>\n",
       "  </thead>\n",
       "  <tbody>\n",
       "    <tr>\n",
       "      <th>0</th>\n",
       "      <td>Anakapalle(5)</td>\n",
       "      <td>C.M.RAMESH</td>\n",
       "      <td>762069</td>\n",
       "      <td>296530</td>\n",
       "      <td>5</td>\n",
       "    </tr>\n",
       "    <tr>\n",
       "      <th>1</th>\n",
       "      <td>Rajahmundry(8)</td>\n",
       "      <td>DAGGUBATI PURANDHESHWARI</td>\n",
       "      <td>726515</td>\n",
       "      <td>239139</td>\n",
       "      <td>8</td>\n",
       "    </tr>\n",
       "    <tr>\n",
       "      <th>2</th>\n",
       "      <td>Narsapuram(9)</td>\n",
       "      <td>BHUPATHI RAJU SRINIVASA VARMA (B.J.P.VARMA)</td>\n",
       "      <td>707343</td>\n",
       "      <td>276802</td>\n",
       "      <td>9</td>\n",
       "    </tr>\n",
       "    <tr>\n",
       "      <th>3</th>\n",
       "      <td>Arunachal West(1)</td>\n",
       "      <td>KIREN RIJIJU</td>\n",
       "      <td>205417</td>\n",
       "      <td>100738</td>\n",
       "      <td>1</td>\n",
       "    </tr>\n",
       "    <tr>\n",
       "      <th>4</th>\n",
       "      <td>Arunachal East(2)</td>\n",
       "      <td>TAPIR GAO</td>\n",
       "      <td>145581</td>\n",
       "      <td>30421</td>\n",
       "      <td>2</td>\n",
       "    </tr>\n",
       "  </tbody>\n",
       "</table>\n",
       "</div>"
      ],
      "text/plain": [
       "  Parliament Constituency                            Winning Candidate  \\\n",
       "0           Anakapalle(5)                                   C.M.RAMESH   \n",
       "1          Rajahmundry(8)                     DAGGUBATI PURANDHESHWARI   \n",
       "2           Narsapuram(9)  BHUPATHI RAJU SRINIVASA VARMA (B.J.P.VARMA)   \n",
       "3       Arunachal West(1)                                 KIREN RIJIJU   \n",
       "4       Arunachal East(2)                                    TAPIR GAO   \n",
       "\n",
       "  Total Votes  Margin  No_of_candidates  \n",
       "0      762069  296530                 5  \n",
       "1      726515  239139                 8  \n",
       "2      707343  276802                 9  \n",
       "3      205417  100738                 1  \n",
       "4      145581   30421                 2  "
      ]
     },
     "execution_count": 26,
     "metadata": {},
     "output_type": "execute_result"
    }
   ],
   "source": [
    "bjp.head()"
   ]
  },
  {
   "cell_type": "code",
   "execution_count": 27,
   "id": "391a5ee8",
   "metadata": {},
   "outputs": [
    {
     "name": "stdout",
     "output_type": "stream",
     "text": [
      "<class 'pandas.core.frame.DataFrame'>\n",
      "RangeIndex: 240 entries, 0 to 239\n",
      "Data columns (total 5 columns):\n",
      " #   Column                   Non-Null Count  Dtype \n",
      "---  ------                   --------------  ----- \n",
      " 0   Parliament Constituency  240 non-null    object\n",
      " 1   Winning Candidate        240 non-null    object\n",
      " 2   Total Votes              240 non-null    object\n",
      " 3   Margin                   240 non-null    object\n",
      " 4   No_of_candidates         240 non-null    int64 \n",
      "dtypes: int64(1), object(4)\n",
      "memory usage: 9.5+ KB\n"
     ]
    }
   ],
   "source": [
    "bjp.info()"
   ]
  },
  {
   "cell_type": "code",
   "execution_count": 28,
   "id": "f36b2023",
   "metadata": {},
   "outputs": [],
   "source": [
    "bjp['Total Votes']=bjp['Total Votes'].replace('-',np.nan)"
   ]
  },
  {
   "cell_type": "code",
   "execution_count": 29,
   "id": "6f78354b",
   "metadata": {},
   "outputs": [],
   "source": [
    "bjp.dropna(inplace=True)"
   ]
  },
  {
   "cell_type": "code",
   "execution_count": 30,
   "id": "4a7558b2",
   "metadata": {},
   "outputs": [],
   "source": [
    "bjp['Total Votes']=bjp['Total Votes'].astype(np.int64)\n",
    "bjp['Margin']=bjp['Margin'].astype(np.int64)"
   ]
  },
  {
   "cell_type": "code",
   "execution_count": 31,
   "id": "6d319b9d",
   "metadata": {},
   "outputs": [
    {
     "name": "stdout",
     "output_type": "stream",
     "text": [
      "<class 'pandas.core.frame.DataFrame'>\n",
      "Index: 239 entries, 0 to 239\n",
      "Data columns (total 5 columns):\n",
      " #   Column                   Non-Null Count  Dtype \n",
      "---  ------                   --------------  ----- \n",
      " 0   Parliament Constituency  239 non-null    object\n",
      " 1   Winning Candidate        239 non-null    object\n",
      " 2   Total Votes              239 non-null    int64 \n",
      " 3   Margin                   239 non-null    int64 \n",
      " 4   No_of_candidates         239 non-null    int64 \n",
      "dtypes: int64(3), object(2)\n",
      "memory usage: 11.2+ KB\n"
     ]
    }
   ],
   "source": [
    "bjp.info()"
   ]
  },
  {
   "cell_type": "markdown",
   "id": "b047eefd",
   "metadata": {},
   "source": [
    "# INC"
   ]
  },
  {
   "cell_type": "code",
   "execution_count": 65,
   "id": "c69de6b4",
   "metadata": {},
   "outputs": [],
   "source": [
    "def table(url):\n",
    "    page=requests.get(url)\n",
    "    soup=BeautifulSoup(page.text,'html')\n",
    "    titles=soup.find_all('th')\n",
    "    titles=[title.text.strip() for title in titles]\n",
    "    dat=[]\n",
    "    for i in range(1,len(soup.find_all('tr'))):\n",
    "        dat.append(data(soup.find_all('tr')[i]))\n",
    "    name=pd.DataFrame(data=dat,columns=titles)\n",
    "    name.drop('S.No',axis=1,inplace=True)\n",
    "    def no_of_candidates(var):\n",
    "        s=''\n",
    "        for i in var:\n",
    "            if i.isdigit():\n",
    "                s+=i\n",
    "        return int(s)\n",
    "    try:\n",
    "        name['No_of_candidates']=name['Parliament Constituency'].apply(no_of_candidates)\n",
    "    except:\n",
    "        name['No_of_candidates']=name['Constituency'].apply(no_of_candidates)\n",
    "    name['Total Votes']=name['Total Votes'].astype(np.int64)\n",
    "    name['Margin']=name['Margin'].astype(np.int64)\n",
    "    return name"
   ]
  },
  {
   "cell_type": "code",
   "execution_count": 33,
   "id": "8998e07b",
   "metadata": {},
   "outputs": [],
   "source": [
    "inc=table('https://results.eci.gov.in/PcResultGenJune2024/partywisewinresultState-742.htm')"
   ]
  },
  {
   "cell_type": "code",
   "execution_count": 34,
   "id": "b487a655",
   "metadata": {},
   "outputs": [
    {
     "data": {
      "text/html": [
       "<div>\n",
       "<style scoped>\n",
       "    .dataframe tbody tr th:only-of-type {\n",
       "        vertical-align: middle;\n",
       "    }\n",
       "\n",
       "    .dataframe tbody tr th {\n",
       "        vertical-align: top;\n",
       "    }\n",
       "\n",
       "    .dataframe thead th {\n",
       "        text-align: right;\n",
       "    }\n",
       "</style>\n",
       "<table border=\"1\" class=\"dataframe\">\n",
       "  <thead>\n",
       "    <tr style=\"text-align: right;\">\n",
       "      <th></th>\n",
       "      <th>Parliament Constituency</th>\n",
       "      <th>Winning Candidate</th>\n",
       "      <th>Total Votes</th>\n",
       "      <th>Margin</th>\n",
       "      <th>No_of_candidates</th>\n",
       "    </tr>\n",
       "  </thead>\n",
       "  <tbody>\n",
       "    <tr>\n",
       "      <th>0</th>\n",
       "      <td>Dhubri (2)</td>\n",
       "      <td>RAKIBUL HUSSAIN</td>\n",
       "      <td>1471885</td>\n",
       "      <td>1012476</td>\n",
       "      <td>2</td>\n",
       "    </tr>\n",
       "    <tr>\n",
       "      <th>1</th>\n",
       "      <td>Nagaon(9)</td>\n",
       "      <td>PRADYUT BORDOLOI</td>\n",
       "      <td>788850</td>\n",
       "      <td>212231</td>\n",
       "      <td>9</td>\n",
       "    </tr>\n",
       "    <tr>\n",
       "      <th>2</th>\n",
       "      <td>Jorhat(14)</td>\n",
       "      <td>GAURAV GOGOI</td>\n",
       "      <td>751771</td>\n",
       "      <td>144393</td>\n",
       "      <td>14</td>\n",
       "    </tr>\n",
       "    <tr>\n",
       "      <th>3</th>\n",
       "      <td>Kishanganj(10)</td>\n",
       "      <td>MOHAMMAD JAWED</td>\n",
       "      <td>402850</td>\n",
       "      <td>59692</td>\n",
       "      <td>10</td>\n",
       "    </tr>\n",
       "    <tr>\n",
       "      <th>4</th>\n",
       "      <td>Katihar(11)</td>\n",
       "      <td>TARIQ ANWAR</td>\n",
       "      <td>567092</td>\n",
       "      <td>49863</td>\n",
       "      <td>11</td>\n",
       "    </tr>\n",
       "  </tbody>\n",
       "</table>\n",
       "</div>"
      ],
      "text/plain": [
       "  Parliament Constituency Winning Candidate  Total Votes   Margin  \\\n",
       "0              Dhubri (2)   RAKIBUL HUSSAIN      1471885  1012476   \n",
       "1               Nagaon(9)  PRADYUT BORDOLOI       788850   212231   \n",
       "2              Jorhat(14)      GAURAV GOGOI       751771   144393   \n",
       "3          Kishanganj(10)    MOHAMMAD JAWED       402850    59692   \n",
       "4             Katihar(11)       TARIQ ANWAR       567092    49863   \n",
       "\n",
       "   No_of_candidates  \n",
       "0                 2  \n",
       "1                 9  \n",
       "2                14  \n",
       "3                10  \n",
       "4                11  "
      ]
     },
     "execution_count": 34,
     "metadata": {},
     "output_type": "execute_result"
    }
   ],
   "source": [
    "inc.head()"
   ]
  },
  {
   "cell_type": "code",
   "execution_count": 35,
   "id": "e24fc1c1",
   "metadata": {},
   "outputs": [
    {
     "name": "stdout",
     "output_type": "stream",
     "text": [
      "<class 'pandas.core.frame.DataFrame'>\n",
      "RangeIndex: 99 entries, 0 to 98\n",
      "Data columns (total 5 columns):\n",
      " #   Column                   Non-Null Count  Dtype \n",
      "---  ------                   --------------  ----- \n",
      " 0   Parliament Constituency  99 non-null     object\n",
      " 1   Winning Candidate        99 non-null     object\n",
      " 2   Total Votes              99 non-null     int64 \n",
      " 3   Margin                   99 non-null     int64 \n",
      " 4   No_of_candidates         99 non-null     int64 \n",
      "dtypes: int64(3), object(2)\n",
      "memory usage: 4.0+ KB\n"
     ]
    }
   ],
   "source": [
    "inc.info()"
   ]
  },
  {
   "cell_type": "markdown",
   "id": "bbf11512",
   "metadata": {},
   "source": [
    "# DMK"
   ]
  },
  {
   "cell_type": "code",
   "execution_count": 36,
   "id": "0d10b3cd",
   "metadata": {},
   "outputs": [
    {
     "data": {
      "text/html": [
       "<div>\n",
       "<style scoped>\n",
       "    .dataframe tbody tr th:only-of-type {\n",
       "        vertical-align: middle;\n",
       "    }\n",
       "\n",
       "    .dataframe tbody tr th {\n",
       "        vertical-align: top;\n",
       "    }\n",
       "\n",
       "    .dataframe thead th {\n",
       "        text-align: right;\n",
       "    }\n",
       "</style>\n",
       "<table border=\"1\" class=\"dataframe\">\n",
       "  <thead>\n",
       "    <tr style=\"text-align: right;\">\n",
       "      <th></th>\n",
       "      <th>Parliament Constituency</th>\n",
       "      <th>Winning Candidate</th>\n",
       "      <th>Total Votes</th>\n",
       "      <th>Margin</th>\n",
       "      <th>No_of_candidates</th>\n",
       "    </tr>\n",
       "  </thead>\n",
       "  <tbody>\n",
       "    <tr>\n",
       "      <th>0</th>\n",
       "      <td>CHENNAI NORTH(2)</td>\n",
       "      <td>DR.KALANIDHI VEERASWAMY</td>\n",
       "      <td>497333</td>\n",
       "      <td>339222</td>\n",
       "      <td>2</td>\n",
       "    </tr>\n",
       "    <tr>\n",
       "      <th>1</th>\n",
       "      <td>CHENNAI SOUTH(3)</td>\n",
       "      <td>T.SUMATHY (ALIAS) THAMIZHACHI THANGAPANDIAN</td>\n",
       "      <td>516628</td>\n",
       "      <td>225945</td>\n",
       "      <td>3</td>\n",
       "    </tr>\n",
       "    <tr>\n",
       "      <th>2</th>\n",
       "      <td>CHENNAI CENTRAL(4)</td>\n",
       "      <td>DAYANIDHI MARAN</td>\n",
       "      <td>413848</td>\n",
       "      <td>244689</td>\n",
       "      <td>4</td>\n",
       "    </tr>\n",
       "    <tr>\n",
       "      <th>3</th>\n",
       "      <td>SRIPERUMBUDUR(5)</td>\n",
       "      <td>T R BAALU</td>\n",
       "      <td>758611</td>\n",
       "      <td>487029</td>\n",
       "      <td>5</td>\n",
       "    </tr>\n",
       "    <tr>\n",
       "      <th>4</th>\n",
       "      <td>KANCHEEPURAM(6)</td>\n",
       "      <td>SELVAM. G</td>\n",
       "      <td>586044</td>\n",
       "      <td>221473</td>\n",
       "      <td>6</td>\n",
       "    </tr>\n",
       "  </tbody>\n",
       "</table>\n",
       "</div>"
      ],
      "text/plain": [
       "  Parliament Constituency                            Winning Candidate  \\\n",
       "0        CHENNAI NORTH(2)                      DR.KALANIDHI VEERASWAMY   \n",
       "1        CHENNAI SOUTH(3)  T.SUMATHY (ALIAS) THAMIZHACHI THANGAPANDIAN   \n",
       "2      CHENNAI CENTRAL(4)                              DAYANIDHI MARAN   \n",
       "3        SRIPERUMBUDUR(5)                                    T R BAALU   \n",
       "4         KANCHEEPURAM(6)                                    SELVAM. G   \n",
       "\n",
       "   Total Votes  Margin  No_of_candidates  \n",
       "0       497333  339222                 2  \n",
       "1       516628  225945                 3  \n",
       "2       413848  244689                 4  \n",
       "3       758611  487029                 5  \n",
       "4       586044  221473                 6  "
      ]
     },
     "execution_count": 36,
     "metadata": {},
     "output_type": "execute_result"
    }
   ],
   "source": [
    "dmk=table('https://results.eci.gov.in/PcResultGenJune2024/partywisewinresultState-582.htm')\n",
    "dmk.head()"
   ]
  },
  {
   "cell_type": "code",
   "execution_count": 37,
   "id": "6cacdb5c",
   "metadata": {},
   "outputs": [
    {
     "name": "stdout",
     "output_type": "stream",
     "text": [
      "<class 'pandas.core.frame.DataFrame'>\n",
      "RangeIndex: 22 entries, 0 to 21\n",
      "Data columns (total 5 columns):\n",
      " #   Column                   Non-Null Count  Dtype \n",
      "---  ------                   --------------  ----- \n",
      " 0   Parliament Constituency  22 non-null     object\n",
      " 1   Winning Candidate        22 non-null     object\n",
      " 2   Total Votes              22 non-null     int64 \n",
      " 3   Margin                   22 non-null     int64 \n",
      " 4   No_of_candidates         22 non-null     int64 \n",
      "dtypes: int64(3), object(2)\n",
      "memory usage: 1012.0+ bytes\n"
     ]
    }
   ],
   "source": [
    "dmk.info()"
   ]
  },
  {
   "cell_type": "markdown",
   "id": "9feb8b41",
   "metadata": {},
   "source": [
    "# TDP"
   ]
  },
  {
   "cell_type": "code",
   "execution_count": 38,
   "id": "d3e233ac",
   "metadata": {},
   "outputs": [
    {
     "data": {
      "text/html": [
       "<div>\n",
       "<style scoped>\n",
       "    .dataframe tbody tr th:only-of-type {\n",
       "        vertical-align: middle;\n",
       "    }\n",
       "\n",
       "    .dataframe tbody tr th {\n",
       "        vertical-align: top;\n",
       "    }\n",
       "\n",
       "    .dataframe thead th {\n",
       "        text-align: right;\n",
       "    }\n",
       "</style>\n",
       "<table border=\"1\" class=\"dataframe\">\n",
       "  <thead>\n",
       "    <tr style=\"text-align: right;\">\n",
       "      <th></th>\n",
       "      <th>Parliament Constituency</th>\n",
       "      <th>Winning Candidate</th>\n",
       "      <th>Total Votes</th>\n",
       "      <th>Margin</th>\n",
       "      <th>No_of_candidates</th>\n",
       "    </tr>\n",
       "  </thead>\n",
       "  <tbody>\n",
       "    <tr>\n",
       "      <th>0</th>\n",
       "      <td>Srikakulam(2)</td>\n",
       "      <td>KINJARAPU RAMMOHAN NAIDU</td>\n",
       "      <td>754328</td>\n",
       "      <td>327901</td>\n",
       "      <td>2</td>\n",
       "    </tr>\n",
       "    <tr>\n",
       "      <th>1</th>\n",
       "      <td>Vizianagaram(3)</td>\n",
       "      <td>APPALANAIDU KALISETTI</td>\n",
       "      <td>743113</td>\n",
       "      <td>249351</td>\n",
       "      <td>3</td>\n",
       "    </tr>\n",
       "    <tr>\n",
       "      <th>2</th>\n",
       "      <td>Visakhapatnam(4)</td>\n",
       "      <td>SRIBHARAT MATHUKUMILI</td>\n",
       "      <td>907467</td>\n",
       "      <td>504247</td>\n",
       "      <td>4</td>\n",
       "    </tr>\n",
       "    <tr>\n",
       "      <th>3</th>\n",
       "      <td>Amalapuram (SC)(7)</td>\n",
       "      <td>G M HARISH (BALAYOGI)</td>\n",
       "      <td>796981</td>\n",
       "      <td>342196</td>\n",
       "      <td>7</td>\n",
       "    </tr>\n",
       "    <tr>\n",
       "      <th>4</th>\n",
       "      <td>Eluru(10)</td>\n",
       "      <td>PUTTA MAHESH KUMAR</td>\n",
       "      <td>746351</td>\n",
       "      <td>181857</td>\n",
       "      <td>10</td>\n",
       "    </tr>\n",
       "  </tbody>\n",
       "</table>\n",
       "</div>"
      ],
      "text/plain": [
       "  Parliament Constituency         Winning Candidate  Total Votes  Margin  \\\n",
       "0           Srikakulam(2)  KINJARAPU RAMMOHAN NAIDU       754328  327901   \n",
       "1         Vizianagaram(3)     APPALANAIDU KALISETTI       743113  249351   \n",
       "2        Visakhapatnam(4)     SRIBHARAT MATHUKUMILI       907467  504247   \n",
       "3      Amalapuram (SC)(7)     G M HARISH (BALAYOGI)       796981  342196   \n",
       "4               Eluru(10)        PUTTA MAHESH KUMAR       746351  181857   \n",
       "\n",
       "   No_of_candidates  \n",
       "0                 2  \n",
       "1                 3  \n",
       "2                 4  \n",
       "3                 7  \n",
       "4                10  "
      ]
     },
     "execution_count": 38,
     "metadata": {},
     "output_type": "execute_result"
    }
   ],
   "source": [
    "tdp=table('https://results.eci.gov.in/PcResultGenJune2024/partywisewinresultState-1745.htm')\n",
    "tdp.head()"
   ]
  },
  {
   "cell_type": "code",
   "execution_count": 39,
   "id": "fc4b45bd",
   "metadata": {},
   "outputs": [
    {
     "name": "stdout",
     "output_type": "stream",
     "text": [
      "<class 'pandas.core.frame.DataFrame'>\n",
      "RangeIndex: 16 entries, 0 to 15\n",
      "Data columns (total 5 columns):\n",
      " #   Column                   Non-Null Count  Dtype \n",
      "---  ------                   --------------  ----- \n",
      " 0   Parliament Constituency  16 non-null     object\n",
      " 1   Winning Candidate        16 non-null     object\n",
      " 2   Total Votes              16 non-null     int64 \n",
      " 3   Margin                   16 non-null     int64 \n",
      " 4   No_of_candidates         16 non-null     int64 \n",
      "dtypes: int64(3), object(2)\n",
      "memory usage: 772.0+ bytes\n"
     ]
    }
   ],
   "source": [
    "tdp.info()"
   ]
  },
  {
   "cell_type": "markdown",
   "id": "3fd9e5f2",
   "metadata": {},
   "source": [
    "# MAKING INSIGHTS"
   ]
  },
  {
   "cell_type": "code",
   "execution_count": 40,
   "id": "3f574406",
   "metadata": {},
   "outputs": [
    {
     "data": {
      "text/html": [
       "        <script type=\"text/javascript\">\n",
       "        window.PlotlyConfig = {MathJaxConfig: 'local'};\n",
       "        if (window.MathJax && window.MathJax.Hub && window.MathJax.Hub.Config) {window.MathJax.Hub.Config({SVG: {font: \"STIX-Web\"}});}\n",
       "        if (typeof require !== 'undefined') {\n",
       "        require.undef(\"plotly\");\n",
       "        requirejs.config({\n",
       "            paths: {\n",
       "                'plotly': ['https://cdn.plot.ly/plotly-2.12.1.min']\n",
       "            }\n",
       "        });\n",
       "        require(['plotly'], function(Plotly) {\n",
       "            window._Plotly = Plotly;\n",
       "        });\n",
       "        }\n",
       "        </script>\n",
       "        "
      ]
     },
     "metadata": {},
     "output_type": "display_data"
    },
    {
     "data": {
      "text/html": [
       "        <script type=\"text/javascript\">\n",
       "        window.PlotlyConfig = {MathJaxConfig: 'local'};\n",
       "        if (window.MathJax && window.MathJax.Hub && window.MathJax.Hub.Config) {window.MathJax.Hub.Config({SVG: {font: \"STIX-Web\"}});}\n",
       "        if (typeof require !== 'undefined') {\n",
       "        require.undef(\"plotly\");\n",
       "        requirejs.config({\n",
       "            paths: {\n",
       "                'plotly': ['https://cdn.plot.ly/plotly-2.12.1.min']\n",
       "            }\n",
       "        });\n",
       "        require(['plotly'], function(Plotly) {\n",
       "            window._Plotly = Plotly;\n",
       "        });\n",
       "        }\n",
       "        </script>\n",
       "        "
      ]
     },
     "metadata": {},
     "output_type": "display_data"
    }
   ],
   "source": [
    "import seaborn as sns\n",
    "import matplotlib.pyplot as plt\n",
    "from plotly import __version__\n",
    "from plotly.offline import download_plotlyjs, init_notebook_mode, plot, iplot\n",
    "import plotly.graph_objs as go\n",
    "from plotly.subplots import make_subplots\n",
    "import plotly.express as px\n",
    "import cufflinks as cf\n",
    "init_notebook_mode(connected=True)\n",
    "cf.go_offline()"
   ]
  },
  {
   "cell_type": "code",
   "execution_count": 109,
   "id": "768f0b1a",
   "metadata": {},
   "outputs": [
    {
     "data": {
      "application/vnd.plotly.v1+json": {
       "config": {
        "linkText": "Export to plot.ly",
        "plotlyServerURL": "https://plot.ly",
        "showLink": true
       },
       "data": [
        {
         "labels": [
          "BJP",
          "INC",
          "SP",
          "AITC",
          "DMK",
          "TDP",
          "JD(U)",
          "SHSUBT",
          "NCPSP",
          "SHS",
          "LJPRV",
          "YSRCP",
          "RJD",
          "CPI(M)",
          "IUML",
          "AAAP",
          "JMM",
          "JnP",
          "CPI(ML)(L)",
          "JD(S)",
          "VCK",
          "CPI",
          "RLD",
          "JKN",
          "UPPL",
          "AGP",
          "HAMS",
          "KEC",
          "RSP",
          "NCP",
          "VOTPP",
          "ZPM",
          "SAD",
          "RLTP",
          "BHRTADVSIP",
          "SKM",
          "MDMK",
          "ASPKR",
          "ADAL",
          "AJSUP",
          "AIMIM",
          "IND"
         ],
         "marker": {
          "colors": [
           "rgba(255, 153, 51, 1.0)",
           "rgba(55, 128, 191, 1.0)",
           "rgba(50, 171, 96, 1.0)",
           "rgba(128, 0, 128, 1.0)",
           "rgba(219, 64, 82, 1.0)",
           "rgba(0, 128, 128, 1.0)",
           "rgba(255, 255, 51, 1.0)",
           "rgba(128, 128, 0, 1.0)",
           "rgba(251, 128, 114, 1.0)",
           "rgba(128, 177, 211, 1.0)",
           "rgba(128, 177, 211, 0.8999999999999999)",
           "rgba(255, 153, 51, 0.8999999999999999)",
           "rgba(55, 128, 191, 0.8999999999999999)",
           "rgba(50, 171, 96, 0.8999999999999999)",
           "rgba(128, 0, 128, 0.8999999999999999)",
           "rgba(219, 64, 82, 0.8999999999999999)",
           "rgba(0, 128, 128, 0.8999999999999999)",
           "rgba(255, 255, 51, 0.8999999999999999)",
           "rgba(128, 128, 0, 0.8999999999999999)",
           "rgba(251, 128, 114, 0.8999999999999999)",
           "rgba(251, 128, 114, 0.7999999999999998)",
           "rgba(128, 177, 211, 0.7999999999999998)",
           "rgba(255, 153, 51, 0.7999999999999998)",
           "rgba(55, 128, 191, 0.7999999999999998)",
           "rgba(50, 171, 96, 0.7999999999999998)",
           "rgba(128, 0, 128, 0.7999999999999998)",
           "rgba(219, 64, 82, 0.7999999999999998)",
           "rgba(0, 128, 128, 0.7999999999999998)",
           "rgba(255, 255, 51, 0.7999999999999998)",
           "rgba(128, 128, 0, 0.7999999999999998)",
           "rgba(128, 128, 0, 0.7)",
           "rgba(251, 128, 114, 0.7)",
           "rgba(128, 177, 211, 0.7)",
           "rgba(255, 153, 51, 0.7)",
           "rgba(55, 128, 191, 0.7)",
           "rgba(50, 171, 96, 0.7)",
           "rgba(128, 0, 128, 0.7)",
           "rgba(219, 64, 82, 0.7)",
           "rgba(0, 128, 128, 0.7)",
           "rgba(255, 255, 51, 0.7)",
           "rgba(255, 255, 51, 0.5999999999999999)",
           "rgba(128, 128, 0, 0.5999999999999999)"
          ]
         },
         "name": "",
         "type": "pie",
         "values": [
          "240",
          "99",
          "37",
          "29",
          "22",
          "16",
          "12",
          "9",
          "8",
          "7",
          "5",
          "4",
          "4",
          "4",
          "3",
          "3",
          "3",
          "2",
          "2",
          "2",
          "2",
          "2",
          "2",
          "2",
          "1",
          "1",
          "1",
          "1",
          "1",
          "1",
          "1",
          "1",
          "1",
          "1",
          "1",
          "1",
          "1",
          "1",
          "1",
          "1",
          "1",
          "7"
         ]
        }
       ],
       "layout": {
        "legend": {
         "bgcolor": "#F5F6F9",
         "font": {
          "color": "#4D5663"
         }
        },
        "paper_bgcolor": "#F5F6F9",
        "plot_bgcolor": "#F5F6F9",
        "titlefont": {
         "color": "#4D5663"
        }
       }
      },
      "text/html": [
       "<div>                            <div id=\"07354a51-d63e-495a-9568-d97cdfe836c2\" class=\"plotly-graph-div\" style=\"height:525px; width:100%;\"></div>            <script type=\"text/javascript\">                require([\"plotly\"], function(Plotly) {                    window.PLOTLYENV=window.PLOTLYENV || {};\n",
       "                    window.PLOTLYENV.BASE_URL='https://plot.ly';                                    if (document.getElementById(\"07354a51-d63e-495a-9568-d97cdfe836c2\")) {                    Plotly.newPlot(                        \"07354a51-d63e-495a-9568-d97cdfe836c2\",                        [{\"labels\":[\"BJP\",\"INC\",\"SP\",\"AITC\",\"DMK\",\"TDP\",\"JD(U)\",\"SHSUBT\",\"NCPSP\",\"SHS\",\"LJPRV\",\"YSRCP\",\"RJD\",\"CPI(M)\",\"IUML\",\"AAAP\",\"JMM\",\"JnP\",\"CPI(ML)(L)\",\"JD(S)\",\"VCK\",\"CPI\",\"RLD\",\"JKN\",\"UPPL\",\"AGP\",\"HAMS\",\"KEC\",\"RSP\",\"NCP\",\"VOTPP\",\"ZPM\",\"SAD\",\"RLTP\",\"BHRTADVSIP\",\"SKM\",\"MDMK\",\"ASPKR\",\"ADAL\",\"AJSUP\",\"AIMIM\",\"IND\"],\"marker\":{\"colors\":[\"rgba(255, 153, 51, 1.0)\",\"rgba(55, 128, 191, 1.0)\",\"rgba(50, 171, 96, 1.0)\",\"rgba(128, 0, 128, 1.0)\",\"rgba(219, 64, 82, 1.0)\",\"rgba(0, 128, 128, 1.0)\",\"rgba(255, 255, 51, 1.0)\",\"rgba(128, 128, 0, 1.0)\",\"rgba(251, 128, 114, 1.0)\",\"rgba(128, 177, 211, 1.0)\",\"rgba(128, 177, 211, 0.8999999999999999)\",\"rgba(255, 153, 51, 0.8999999999999999)\",\"rgba(55, 128, 191, 0.8999999999999999)\",\"rgba(50, 171, 96, 0.8999999999999999)\",\"rgba(128, 0, 128, 0.8999999999999999)\",\"rgba(219, 64, 82, 0.8999999999999999)\",\"rgba(0, 128, 128, 0.8999999999999999)\",\"rgba(255, 255, 51, 0.8999999999999999)\",\"rgba(128, 128, 0, 0.8999999999999999)\",\"rgba(251, 128, 114, 0.8999999999999999)\",\"rgba(251, 128, 114, 0.7999999999999998)\",\"rgba(128, 177, 211, 0.7999999999999998)\",\"rgba(255, 153, 51, 0.7999999999999998)\",\"rgba(55, 128, 191, 0.7999999999999998)\",\"rgba(50, 171, 96, 0.7999999999999998)\",\"rgba(128, 0, 128, 0.7999999999999998)\",\"rgba(219, 64, 82, 0.7999999999999998)\",\"rgba(0, 128, 128, 0.7999999999999998)\",\"rgba(255, 255, 51, 0.7999999999999998)\",\"rgba(128, 128, 0, 0.7999999999999998)\",\"rgba(128, 128, 0, 0.7)\",\"rgba(251, 128, 114, 0.7)\",\"rgba(128, 177, 211, 0.7)\",\"rgba(255, 153, 51, 0.7)\",\"rgba(55, 128, 191, 0.7)\",\"rgba(50, 171, 96, 0.7)\",\"rgba(128, 0, 128, 0.7)\",\"rgba(219, 64, 82, 0.7)\",\"rgba(0, 128, 128, 0.7)\",\"rgba(255, 255, 51, 0.7)\",\"rgba(255, 255, 51, 0.5999999999999999)\",\"rgba(128, 128, 0, 0.5999999999999999)\"]},\"name\":\"\",\"values\":[\"240\",\"99\",\"37\",\"29\",\"22\",\"16\",\"12\",\"9\",\"8\",\"7\",\"5\",\"4\",\"4\",\"4\",\"3\",\"3\",\"3\",\"2\",\"2\",\"2\",\"2\",\"2\",\"2\",\"2\",\"1\",\"1\",\"1\",\"1\",\"1\",\"1\",\"1\",\"1\",\"1\",\"1\",\"1\",\"1\",\"1\",\"1\",\"1\",\"1\",\"1\",\"7\"],\"type\":\"pie\"}],                        {\"legend\":{\"bgcolor\":\"#F5F6F9\",\"font\":{\"color\":\"#4D5663\"}},\"paper_bgcolor\":\"#F5F6F9\",\"plot_bgcolor\":\"#F5F6F9\",\"titlefont\":{\"color\":\"#4D5663\"}},                        {\"showLink\": true, \"linkText\": \"Export to plot.ly\", \"plotlyServerURL\": \"https://plot.ly\", \"responsive\": true}                    ).then(function(){\n",
       "                            \n",
       "var gd = document.getElementById('07354a51-d63e-495a-9568-d97cdfe836c2');\n",
       "var x = new MutationObserver(function (mutations, observer) {{\n",
       "        var display = window.getComputedStyle(gd).display;\n",
       "        if (!display || display === 'none') {{\n",
       "            console.log([gd, 'removed!']);\n",
       "            Plotly.purge(gd);\n",
       "            observer.disconnect();\n",
       "        }}\n",
       "}});\n",
       "\n",
       "// Listen for the removal of the full notebook cells\n",
       "var notebookContainer = gd.closest('#notebook-container');\n",
       "if (notebookContainer) {{\n",
       "    x.observe(notebookContainer, {childList: true});\n",
       "}}\n",
       "\n",
       "// Listen for the clearing of the current output cell\n",
       "var outputEl = gd.closest('.output');\n",
       "if (outputEl) {{\n",
       "    x.observe(outputEl, {childList: true});\n",
       "}}\n",
       "\n",
       "                        })                };                });            </script>        </div>"
      ]
     },
     "metadata": {},
     "output_type": "display_data"
    },
    {
     "data": {
      "text/plain": [
       "<Figure size 3000x4000 with 0 Axes>"
      ]
     },
     "metadata": {},
     "output_type": "display_data"
    }
   ],
   "source": [
    "df.iplot(kind='pie',values='Total',labels='Party_Code')"
   ]
  },
  {
   "cell_type": "markdown",
   "id": "8653cd33",
   "metadata": {},
   "source": [
    "**This chart shows that BJP has won in 44.2% of the total Parliament Constituencies. The party in the second place is Indian National Congress with 18% of the total Parliament Contituency. The difference in the percentages is large and hence BJP has larger chances to win in the next elections too.**"
   ]
  },
  {
   "cell_type": "code",
   "execution_count": 148,
   "id": "bc6eb1bb",
   "metadata": {},
   "outputs": [
    {
     "data": {
      "application/vnd.plotly.v1+json": {
       "config": {
        "linkText": "Export to plot.ly",
        "plotlyServerURL": "https://plot.ly",
        "showLink": true
       },
       "data": [
        {
         "marker": {
          "color": "rgba(255, 153, 51, 0.6)",
          "line": {
           "color": "rgba(255, 153, 51, 1.0)",
           "width": 1
          }
         },
         "name": "No_of_candidates",
         "orientation": "v",
         "text": "",
         "type": "bar",
         "x": [
          "Anakapalle(5)",
          "Rajahmundry(8)",
          "Narsapuram(9)",
          "Arunachal West(1)",
          "Arunachal East(2)",
          "Darrang-Udalguri(4)",
          "Guwahati(5)",
          "Diphu(6)",
          "Karimganj(7)",
          "Silchar (8)",
          "Kaziranga(10)",
          "Sonitpur(11)",
          "Lakhimpur(12)",
          "Dibrugarh(13)",
          "Paschim Champaran(2)",
          "Purvi Champaran(3)",
          "Madhubani(6)",
          "Araria(9)",
          "Darbhanga(14)",
          "Muzaffarpur(15)",
          "Maharajganj(19)",
          "Saran(20)",
          "Ujiarpur(22)",
          "Begusarai(24)",
          "Patna Sahib(30)",
          "Nawada(39)",
          "North Goa(1)",
          "Kachchh(1)",
          "Patan(3)",
          "Mahesana(4)",
          "Sabarkantha(5)",
          "Gandhinagar(6)",
          "Ahmedabad East(7)",
          "Ahmedabad West(8)",
          "Surendranagar(9)",
          "Rajkot(10)",
          "Porbandar(11)",
          "Jamnagar(12)",
          "Junagadh(13)",
          "Amreli(14)",
          "Bhavnagar(15)",
          "Anand(16)",
          "Kheda(17)",
          "Panchmahal(18)",
          "Dahod(19)",
          "Vadodara(20)",
          "Chhota Udaipur(21)",
          "Bharuch(22)",
          "Bardoli(23)",
          "Surat(24)",
          "Navsari(25)",
          "Valsad(26)",
          "KURUKSHETRA(2)",
          "KARNAL(5)",
          "BHIWANI-MAHENDRAGARH(8)",
          "GURGAON(9)",
          "FARIDABAD(10)",
          "KANGRA(1)",
          "MANDI(2)",
          "HAMIRPUR(3)",
          "SHIMLA(4)",
          "Belgaum(2)",
          "Bagalkot(3)",
          "Bijapur(4)",
          "Haveri(10)",
          "Dharwad(11)",
          "Uttara Kannada(12)",
          "Shimoga(14)",
          "Udupi Chikmagalur(15)",
          "Dakshina Kannada(17)",
          "Chitradurga(18)",
          "Tumkur(19)",
          "Mysore(21)",
          "Bangalore Rural(23)",
          "Bangalore North(24)",
          "Bangalore central(25)",
          "Bangalore South(26)",
          "Chikkballapur(27)",
          "Thrissur(10)",
          "MORENA(1)",
          "BHIND(2)",
          "GWALIOR(3)",
          "GUNA(4)",
          "SAGAR(5)",
          "TIKAMGARH(6)",
          "DAMOH(7)",
          "KHAJURAHO(8)",
          "SATNA(9)",
          "REWA(10)",
          "SIDHI(11)",
          "SHAHDOL(12)",
          "JABALPUR(13)",
          "MANDLA(14)",
          "BALAGHAT(15)",
          "CHHINDWARA(16)",
          "HOSHANGABAD(17)",
          "VIDISHA(18)",
          "BHOPAL(19)",
          "RAJGARH(20)",
          "DEWAS(21)",
          "UJJAIN(22)",
          "MANDSOUR(23)",
          "RATLAM(24)",
          "DHAR(25)",
          "INDORE(26)",
          "KHARGONE(27)",
          "KHANDWA(28)",
          "BETUL(29)",
          "Jalgaon(3)",
          "Raver(4)",
          "Akola(6)",
          "Nagpur(10)",
          "Palghar(22)",
          "Mumbai North(26)",
          "Pune(34)",
          "Satara(45)",
          "Ratnagiri- Sindhudurg(46)",
          "Bargarh(1)",
          "Sundargarh(2)",
          "Sambalpur(3)",
          "Keonjhar(4)",
          "Mayurbhanj(5)",
          "Balasore(6)",
          "Bhadrak(7)",
          "Jajpur(8)",
          "Dhenkanal(9)",
          "Bolangir(10)",
          "Kalahandi(11)",
          "Nabarangpur(12)",
          "Kandhamal(13)",
          "Cuttack(14)",
          "Kendrapara(15)",
          "Jagatsinghpur(16)",
          "Puri(17)",
          "Bhubaneswar(18)",
          "Aska(19)",
          "Berhampur(20)",
          "BIKANER (2)",
          "JAIPUR RURAL(6)",
          "JAIPUR(7)",
          "ALWAR(8)",
          "AJMER (13)",
          "PALI(15)",
          "JODHPUR(16)",
          "JALORE (18)",
          "UDAIPUR (19)",
          "CHITTORGARH(21)",
          "RAJSAMAND(22)",
          "BHILWARA(23)",
          "KOTA(24)",
          "JHALAWAR-BARAN(25)",
          "Tripura West(1)",
          "Tripura East(2)",
          "Amroha(9)",
          "Meerut(10)",
          "Ghaziabad(12)",
          "Gautam Buddha Nagar(13)",
          "Bulandshahr(14)",
          "Aligarh(15)",
          "Hathras(16)",
          "Mathura(17)",
          "Agra(18)",
          "Fatehpur Sikri(19)",
          "Bareilly(25)",
          "Pilibhit(26)",
          "Shahjahanpur(27)",
          "Hardoi(31)",
          "Misrikh(32)",
          "Unnao(33)",
          "Lucknow(35)",
          "Farrukhabad(40)",
          "Kanpur(43)",
          "Akbarpur(44)",
          "Jhansi(46)",
          "Phulpur(51)",
          "Baharaich(56)",
          "Kaiserganj(57)",
          "Gonda(59)",
          "Domariyaganj(60)",
          "Maharajganj(63)",
          "Gorakhpur(64)",
          "Kushi Nagar(65)",
          "Deoria(66)",
          "Bansgaon(67)",
          "Varanasi(77)",
          "Bhadohi(78)",
          "Alipurduars(2)",
          "Jalpaiguri(3)",
          "Darjeeling(4)",
          "Raiganj(5)",
          "Balurghat(6)",
          "Maldaha Uttar(7)",
          "Ranaghat(13)",
          "Bangaon(14)",
          "Tamluk(30)",
          "Kanthi(31)",
          "Purulia(35)",
          "Bishnupur(37)",
          "SURGUJA(1)",
          "RAIGARH(2)",
          "JANJGIR-CHAMPA(3)",
          "BILASPUR(5)",
          "RAJNANDGAON(6)",
          "DURG(7)",
          "RAIPUR(8)",
          "MAHASAMUND(9)",
          "BASTAR(10)",
          "KANKER(11)",
          "Godda(3)",
          "Chatra(4)",
          "Kodarma(5)",
          "Dhanbad(7)",
          "Ranchi(8)",
          "Jamshedpur(9)",
          "Palamau(13)",
          "Hazaribagh(14)",
          "Tehri Garhwal(1)",
          "Garhwal(2)",
          "Almora(3)",
          "Nainital-Udhamsingh Nagar(4)",
          "Haridwar(5)",
          "Adilabad (1)",
          "Karimnagar (3)",
          "Nizamabad(4)",
          "Medak(6)",
          "Malkajgiri(7)",
          "Secunderabad(8)",
          "Chevella(10)",
          "Mahbubnagar(11)",
          "Andaman & Nicobar Islands(1)",
          "Dadar & Nagar Haveli(2)",
          "Chandni Chowk(1)",
          "North-East Delhi(2)",
          "East Delhi(3)",
          "New Delhi(4)",
          "North-West Delhi(5)",
          "West Delhi(6)",
          "South Delhi(7)",
          "UDHAMPUR(4)",
          "JAMMU(5)"
         ],
         "y": [
          5,
          8,
          9,
          1,
          2,
          4,
          5,
          6,
          7,
          8,
          10,
          11,
          12,
          13,
          2,
          3,
          6,
          9,
          14,
          15,
          19,
          20,
          22,
          24,
          30,
          39,
          1,
          1,
          3,
          4,
          5,
          6,
          7,
          8,
          9,
          10,
          11,
          12,
          13,
          14,
          15,
          16,
          17,
          18,
          19,
          20,
          21,
          22,
          23,
          24,
          25,
          26,
          2,
          5,
          8,
          9,
          10,
          1,
          2,
          3,
          4,
          2,
          3,
          4,
          10,
          11,
          12,
          14,
          15,
          17,
          18,
          19,
          21,
          23,
          24,
          25,
          26,
          27,
          10,
          1,
          2,
          3,
          4,
          5,
          6,
          7,
          8,
          9,
          10,
          11,
          12,
          13,
          14,
          15,
          16,
          17,
          18,
          19,
          20,
          21,
          22,
          23,
          24,
          25,
          26,
          27,
          28,
          29,
          3,
          4,
          6,
          10,
          22,
          26,
          34,
          45,
          46,
          1,
          2,
          3,
          4,
          5,
          6,
          7,
          8,
          9,
          10,
          11,
          12,
          13,
          14,
          15,
          16,
          17,
          18,
          19,
          20,
          2,
          6,
          7,
          8,
          13,
          15,
          16,
          18,
          19,
          21,
          22,
          23,
          24,
          25,
          1,
          2,
          9,
          10,
          12,
          13,
          14,
          15,
          16,
          17,
          18,
          19,
          25,
          26,
          27,
          31,
          32,
          33,
          35,
          40,
          43,
          44,
          46,
          51,
          56,
          57,
          59,
          60,
          63,
          64,
          65,
          66,
          67,
          77,
          78,
          2,
          3,
          4,
          5,
          6,
          7,
          13,
          14,
          30,
          31,
          35,
          37,
          1,
          2,
          3,
          5,
          6,
          7,
          8,
          9,
          10,
          11,
          3,
          4,
          5,
          7,
          8,
          9,
          13,
          14,
          1,
          2,
          3,
          4,
          5,
          1,
          3,
          4,
          6,
          7,
          8,
          10,
          11,
          1,
          2,
          1,
          2,
          3,
          4,
          5,
          6,
          7,
          4,
          5
         ]
        }
       ],
       "layout": {
        "legend": {
         "bgcolor": "#F5F6F9",
         "font": {
          "color": "#4D5663"
         }
        },
        "paper_bgcolor": "#F5F6F9",
        "plot_bgcolor": "#F5F6F9",
        "template": {
         "data": {
          "bar": [
           {
            "error_x": {
             "color": "#2a3f5f"
            },
            "error_y": {
             "color": "#2a3f5f"
            },
            "marker": {
             "line": {
              "color": "#E5ECF6",
              "width": 0.5
             },
             "pattern": {
              "fillmode": "overlay",
              "size": 10,
              "solidity": 0.2
             }
            },
            "type": "bar"
           }
          ],
          "barpolar": [
           {
            "marker": {
             "line": {
              "color": "#E5ECF6",
              "width": 0.5
             },
             "pattern": {
              "fillmode": "overlay",
              "size": 10,
              "solidity": 0.2
             }
            },
            "type": "barpolar"
           }
          ],
          "carpet": [
           {
            "aaxis": {
             "endlinecolor": "#2a3f5f",
             "gridcolor": "white",
             "linecolor": "white",
             "minorgridcolor": "white",
             "startlinecolor": "#2a3f5f"
            },
            "baxis": {
             "endlinecolor": "#2a3f5f",
             "gridcolor": "white",
             "linecolor": "white",
             "minorgridcolor": "white",
             "startlinecolor": "#2a3f5f"
            },
            "type": "carpet"
           }
          ],
          "choropleth": [
           {
            "colorbar": {
             "outlinewidth": 0,
             "ticks": ""
            },
            "type": "choropleth"
           }
          ],
          "contour": [
           {
            "colorbar": {
             "outlinewidth": 0,
             "ticks": ""
            },
            "colorscale": [
             [
              0,
              "#0d0887"
             ],
             [
              0.1111111111111111,
              "#46039f"
             ],
             [
              0.2222222222222222,
              "#7201a8"
             ],
             [
              0.3333333333333333,
              "#9c179e"
             ],
             [
              0.4444444444444444,
              "#bd3786"
             ],
             [
              0.5555555555555556,
              "#d8576b"
             ],
             [
              0.6666666666666666,
              "#ed7953"
             ],
             [
              0.7777777777777778,
              "#fb9f3a"
             ],
             [
              0.8888888888888888,
              "#fdca26"
             ],
             [
              1,
              "#f0f921"
             ]
            ],
            "type": "contour"
           }
          ],
          "contourcarpet": [
           {
            "colorbar": {
             "outlinewidth": 0,
             "ticks": ""
            },
            "type": "contourcarpet"
           }
          ],
          "heatmap": [
           {
            "colorbar": {
             "outlinewidth": 0,
             "ticks": ""
            },
            "colorscale": [
             [
              0,
              "#0d0887"
             ],
             [
              0.1111111111111111,
              "#46039f"
             ],
             [
              0.2222222222222222,
              "#7201a8"
             ],
             [
              0.3333333333333333,
              "#9c179e"
             ],
             [
              0.4444444444444444,
              "#bd3786"
             ],
             [
              0.5555555555555556,
              "#d8576b"
             ],
             [
              0.6666666666666666,
              "#ed7953"
             ],
             [
              0.7777777777777778,
              "#fb9f3a"
             ],
             [
              0.8888888888888888,
              "#fdca26"
             ],
             [
              1,
              "#f0f921"
             ]
            ],
            "type": "heatmap"
           }
          ],
          "heatmapgl": [
           {
            "colorbar": {
             "outlinewidth": 0,
             "ticks": ""
            },
            "colorscale": [
             [
              0,
              "#0d0887"
             ],
             [
              0.1111111111111111,
              "#46039f"
             ],
             [
              0.2222222222222222,
              "#7201a8"
             ],
             [
              0.3333333333333333,
              "#9c179e"
             ],
             [
              0.4444444444444444,
              "#bd3786"
             ],
             [
              0.5555555555555556,
              "#d8576b"
             ],
             [
              0.6666666666666666,
              "#ed7953"
             ],
             [
              0.7777777777777778,
              "#fb9f3a"
             ],
             [
              0.8888888888888888,
              "#fdca26"
             ],
             [
              1,
              "#f0f921"
             ]
            ],
            "type": "heatmapgl"
           }
          ],
          "histogram": [
           {
            "marker": {
             "pattern": {
              "fillmode": "overlay",
              "size": 10,
              "solidity": 0.2
             }
            },
            "type": "histogram"
           }
          ],
          "histogram2d": [
           {
            "colorbar": {
             "outlinewidth": 0,
             "ticks": ""
            },
            "colorscale": [
             [
              0,
              "#0d0887"
             ],
             [
              0.1111111111111111,
              "#46039f"
             ],
             [
              0.2222222222222222,
              "#7201a8"
             ],
             [
              0.3333333333333333,
              "#9c179e"
             ],
             [
              0.4444444444444444,
              "#bd3786"
             ],
             [
              0.5555555555555556,
              "#d8576b"
             ],
             [
              0.6666666666666666,
              "#ed7953"
             ],
             [
              0.7777777777777778,
              "#fb9f3a"
             ],
             [
              0.8888888888888888,
              "#fdca26"
             ],
             [
              1,
              "#f0f921"
             ]
            ],
            "type": "histogram2d"
           }
          ],
          "histogram2dcontour": [
           {
            "colorbar": {
             "outlinewidth": 0,
             "ticks": ""
            },
            "colorscale": [
             [
              0,
              "#0d0887"
             ],
             [
              0.1111111111111111,
              "#46039f"
             ],
             [
              0.2222222222222222,
              "#7201a8"
             ],
             [
              0.3333333333333333,
              "#9c179e"
             ],
             [
              0.4444444444444444,
              "#bd3786"
             ],
             [
              0.5555555555555556,
              "#d8576b"
             ],
             [
              0.6666666666666666,
              "#ed7953"
             ],
             [
              0.7777777777777778,
              "#fb9f3a"
             ],
             [
              0.8888888888888888,
              "#fdca26"
             ],
             [
              1,
              "#f0f921"
             ]
            ],
            "type": "histogram2dcontour"
           }
          ],
          "mesh3d": [
           {
            "colorbar": {
             "outlinewidth": 0,
             "ticks": ""
            },
            "type": "mesh3d"
           }
          ],
          "parcoords": [
           {
            "line": {
             "colorbar": {
              "outlinewidth": 0,
              "ticks": ""
             }
            },
            "type": "parcoords"
           }
          ],
          "pie": [
           {
            "automargin": true,
            "type": "pie"
           }
          ],
          "scatter": [
           {
            "fillpattern": {
             "fillmode": "overlay",
             "size": 10,
             "solidity": 0.2
            },
            "type": "scatter"
           }
          ],
          "scatter3d": [
           {
            "line": {
             "colorbar": {
              "outlinewidth": 0,
              "ticks": ""
             }
            },
            "marker": {
             "colorbar": {
              "outlinewidth": 0,
              "ticks": ""
             }
            },
            "type": "scatter3d"
           }
          ],
          "scattercarpet": [
           {
            "marker": {
             "colorbar": {
              "outlinewidth": 0,
              "ticks": ""
             }
            },
            "type": "scattercarpet"
           }
          ],
          "scattergeo": [
           {
            "marker": {
             "colorbar": {
              "outlinewidth": 0,
              "ticks": ""
             }
            },
            "type": "scattergeo"
           }
          ],
          "scattergl": [
           {
            "marker": {
             "colorbar": {
              "outlinewidth": 0,
              "ticks": ""
             }
            },
            "type": "scattergl"
           }
          ],
          "scattermapbox": [
           {
            "marker": {
             "colorbar": {
              "outlinewidth": 0,
              "ticks": ""
             }
            },
            "type": "scattermapbox"
           }
          ],
          "scatterpolar": [
           {
            "marker": {
             "colorbar": {
              "outlinewidth": 0,
              "ticks": ""
             }
            },
            "type": "scatterpolar"
           }
          ],
          "scatterpolargl": [
           {
            "marker": {
             "colorbar": {
              "outlinewidth": 0,
              "ticks": ""
             }
            },
            "type": "scatterpolargl"
           }
          ],
          "scatterternary": [
           {
            "marker": {
             "colorbar": {
              "outlinewidth": 0,
              "ticks": ""
             }
            },
            "type": "scatterternary"
           }
          ],
          "surface": [
           {
            "colorbar": {
             "outlinewidth": 0,
             "ticks": ""
            },
            "colorscale": [
             [
              0,
              "#0d0887"
             ],
             [
              0.1111111111111111,
              "#46039f"
             ],
             [
              0.2222222222222222,
              "#7201a8"
             ],
             [
              0.3333333333333333,
              "#9c179e"
             ],
             [
              0.4444444444444444,
              "#bd3786"
             ],
             [
              0.5555555555555556,
              "#d8576b"
             ],
             [
              0.6666666666666666,
              "#ed7953"
             ],
             [
              0.7777777777777778,
              "#fb9f3a"
             ],
             [
              0.8888888888888888,
              "#fdca26"
             ],
             [
              1,
              "#f0f921"
             ]
            ],
            "type": "surface"
           }
          ],
          "table": [
           {
            "cells": {
             "fill": {
              "color": "#EBF0F8"
             },
             "line": {
              "color": "white"
             }
            },
            "header": {
             "fill": {
              "color": "#C8D4E3"
             },
             "line": {
              "color": "white"
             }
            },
            "type": "table"
           }
          ]
         },
         "layout": {
          "annotationdefaults": {
           "arrowcolor": "#2a3f5f",
           "arrowhead": 0,
           "arrowwidth": 1
          },
          "autotypenumbers": "strict",
          "coloraxis": {
           "colorbar": {
            "outlinewidth": 0,
            "ticks": ""
           }
          },
          "colorscale": {
           "diverging": [
            [
             0,
             "#8e0152"
            ],
            [
             0.1,
             "#c51b7d"
            ],
            [
             0.2,
             "#de77ae"
            ],
            [
             0.3,
             "#f1b6da"
            ],
            [
             0.4,
             "#fde0ef"
            ],
            [
             0.5,
             "#f7f7f7"
            ],
            [
             0.6,
             "#e6f5d0"
            ],
            [
             0.7,
             "#b8e186"
            ],
            [
             0.8,
             "#7fbc41"
            ],
            [
             0.9,
             "#4d9221"
            ],
            [
             1,
             "#276419"
            ]
           ],
           "sequential": [
            [
             0,
             "#0d0887"
            ],
            [
             0.1111111111111111,
             "#46039f"
            ],
            [
             0.2222222222222222,
             "#7201a8"
            ],
            [
             0.3333333333333333,
             "#9c179e"
            ],
            [
             0.4444444444444444,
             "#bd3786"
            ],
            [
             0.5555555555555556,
             "#d8576b"
            ],
            [
             0.6666666666666666,
             "#ed7953"
            ],
            [
             0.7777777777777778,
             "#fb9f3a"
            ],
            [
             0.8888888888888888,
             "#fdca26"
            ],
            [
             1,
             "#f0f921"
            ]
           ],
           "sequentialminus": [
            [
             0,
             "#0d0887"
            ],
            [
             0.1111111111111111,
             "#46039f"
            ],
            [
             0.2222222222222222,
             "#7201a8"
            ],
            [
             0.3333333333333333,
             "#9c179e"
            ],
            [
             0.4444444444444444,
             "#bd3786"
            ],
            [
             0.5555555555555556,
             "#d8576b"
            ],
            [
             0.6666666666666666,
             "#ed7953"
            ],
            [
             0.7777777777777778,
             "#fb9f3a"
            ],
            [
             0.8888888888888888,
             "#fdca26"
            ],
            [
             1,
             "#f0f921"
            ]
           ]
          },
          "colorway": [
           "#636efa",
           "#EF553B",
           "#00cc96",
           "#ab63fa",
           "#FFA15A",
           "#19d3f3",
           "#FF6692",
           "#B6E880",
           "#FF97FF",
           "#FECB52"
          ],
          "font": {
           "color": "#2a3f5f"
          },
          "geo": {
           "bgcolor": "white",
           "lakecolor": "white",
           "landcolor": "#E5ECF6",
           "showlakes": true,
           "showland": true,
           "subunitcolor": "white"
          },
          "hoverlabel": {
           "align": "left"
          },
          "hovermode": "closest",
          "mapbox": {
           "style": "light"
          },
          "paper_bgcolor": "white",
          "plot_bgcolor": "#E5ECF6",
          "polar": {
           "angularaxis": {
            "gridcolor": "white",
            "linecolor": "white",
            "ticks": ""
           },
           "bgcolor": "#E5ECF6",
           "radialaxis": {
            "gridcolor": "white",
            "linecolor": "white",
            "ticks": ""
           }
          },
          "scene": {
           "xaxis": {
            "backgroundcolor": "#E5ECF6",
            "gridcolor": "white",
            "gridwidth": 2,
            "linecolor": "white",
            "showbackground": true,
            "ticks": "",
            "zerolinecolor": "white"
           },
           "yaxis": {
            "backgroundcolor": "#E5ECF6",
            "gridcolor": "white",
            "gridwidth": 2,
            "linecolor": "white",
            "showbackground": true,
            "ticks": "",
            "zerolinecolor": "white"
           },
           "zaxis": {
            "backgroundcolor": "#E5ECF6",
            "gridcolor": "white",
            "gridwidth": 2,
            "linecolor": "white",
            "showbackground": true,
            "ticks": "",
            "zerolinecolor": "white"
           }
          },
          "shapedefaults": {
           "line": {
            "color": "#2a3f5f"
           }
          },
          "ternary": {
           "aaxis": {
            "gridcolor": "white",
            "linecolor": "white",
            "ticks": ""
           },
           "baxis": {
            "gridcolor": "white",
            "linecolor": "white",
            "ticks": ""
           },
           "bgcolor": "#E5ECF6",
           "caxis": {
            "gridcolor": "white",
            "linecolor": "white",
            "ticks": ""
           }
          },
          "title": {
           "x": 0.05
          },
          "xaxis": {
           "automargin": true,
           "gridcolor": "white",
           "linecolor": "white",
           "ticks": "",
           "title": {
            "standoff": 15
           },
           "zerolinecolor": "white",
           "zerolinewidth": 2
          },
          "yaxis": {
           "automargin": true,
           "gridcolor": "white",
           "linecolor": "white",
           "ticks": "",
           "title": {
            "standoff": 15
           },
           "zerolinecolor": "white",
           "zerolinewidth": 2
          }
         }
        },
        "title": {
         "font": {
          "color": "#4D5663"
         }
        },
        "xaxis": {
         "gridcolor": "#E1E5ED",
         "showgrid": true,
         "tickfont": {
          "color": "#4D5663"
         },
         "title": {
          "font": {
           "color": "#4D5663"
          },
          "text": ""
         },
         "zerolinecolor": "#E1E5ED"
        },
        "yaxis": {
         "gridcolor": "#E1E5ED",
         "showgrid": true,
         "tickfont": {
          "color": "#4D5663"
         },
         "title": {
          "font": {
           "color": "#4D5663"
          },
          "text": ""
         },
         "zerolinecolor": "#E1E5ED"
        }
       }
      },
      "text/html": [
       "<div>                            <div id=\"e8148900-1264-43af-bf63-ee8f2be2c813\" class=\"plotly-graph-div\" style=\"height:525px; width:100%;\"></div>            <script type=\"text/javascript\">                require([\"plotly\"], function(Plotly) {                    window.PLOTLYENV=window.PLOTLYENV || {};\n",
       "                    window.PLOTLYENV.BASE_URL='https://plot.ly';                                    if (document.getElementById(\"e8148900-1264-43af-bf63-ee8f2be2c813\")) {                    Plotly.newPlot(                        \"e8148900-1264-43af-bf63-ee8f2be2c813\",                        [{\"marker\":{\"color\":\"rgba(255, 153, 51, 0.6)\",\"line\":{\"color\":\"rgba(255, 153, 51, 1.0)\",\"width\":1}},\"name\":\"No_of_candidates\",\"orientation\":\"v\",\"text\":\"\",\"x\":[\"Anakapalle(5)\",\"Rajahmundry(8)\",\"Narsapuram(9)\",\"Arunachal West(1)\",\"Arunachal East(2)\",\"Darrang-Udalguri(4)\",\"Guwahati(5)\",\"Diphu(6)\",\"Karimganj(7)\",\"Silchar (8)\",\"Kaziranga(10)\",\"Sonitpur(11)\",\"Lakhimpur(12)\",\"Dibrugarh(13)\",\"Paschim Champaran(2)\",\"Purvi Champaran(3)\",\"Madhubani(6)\",\"Araria(9)\",\"Darbhanga(14)\",\"Muzaffarpur(15)\",\"Maharajganj(19)\",\"Saran(20)\",\"Ujiarpur(22)\",\"Begusarai(24)\",\"Patna Sahib(30)\",\"Nawada(39)\",\"North Goa(1)\",\"Kachchh(1)\",\"Patan(3)\",\"Mahesana(4)\",\"Sabarkantha(5)\",\"Gandhinagar(6)\",\"Ahmedabad East(7)\",\"Ahmedabad West(8)\",\"Surendranagar(9)\",\"Rajkot(10)\",\"Porbandar(11)\",\"Jamnagar(12)\",\"Junagadh(13)\",\"Amreli(14)\",\"Bhavnagar(15)\",\"Anand(16)\",\"Kheda(17)\",\"Panchmahal(18)\",\"Dahod(19)\",\"Vadodara(20)\",\"Chhota Udaipur(21)\",\"Bharuch(22)\",\"Bardoli(23)\",\"Surat(24)\",\"Navsari(25)\",\"Valsad(26)\",\"KURUKSHETRA(2)\",\"KARNAL(5)\",\"BHIWANI-MAHENDRAGARH(8)\",\"GURGAON(9)\",\"FARIDABAD(10)\",\"KANGRA(1)\",\"MANDI(2)\",\"HAMIRPUR(3)\",\"SHIMLA(4)\",\"Belgaum(2)\",\"Bagalkot(3)\",\"Bijapur(4)\",\"Haveri(10)\",\"Dharwad(11)\",\"Uttara Kannada(12)\",\"Shimoga(14)\",\"Udupi Chikmagalur(15)\",\"Dakshina Kannada(17)\",\"Chitradurga(18)\",\"Tumkur(19)\",\"Mysore(21)\",\"Bangalore Rural(23)\",\"Bangalore North(24)\",\"Bangalore central(25)\",\"Bangalore South(26)\",\"Chikkballapur(27)\",\"Thrissur(10)\",\"MORENA(1)\",\"BHIND(2)\",\"GWALIOR(3)\",\"GUNA(4)\",\"SAGAR(5)\",\"TIKAMGARH(6)\",\"DAMOH(7)\",\"KHAJURAHO(8)\",\"SATNA(9)\",\"REWA(10)\",\"SIDHI(11)\",\"SHAHDOL(12)\",\"JABALPUR(13)\",\"MANDLA(14)\",\"BALAGHAT(15)\",\"CHHINDWARA(16)\",\"HOSHANGABAD(17)\",\"VIDISHA(18)\",\"BHOPAL(19)\",\"RAJGARH(20)\",\"DEWAS(21)\",\"UJJAIN(22)\",\"MANDSOUR(23)\",\"RATLAM(24)\",\"DHAR(25)\",\"INDORE(26)\",\"KHARGONE(27)\",\"KHANDWA(28)\",\"BETUL(29)\",\"Jalgaon(3)\",\"Raver(4)\",\"Akola(6)\",\"Nagpur(10)\",\"Palghar(22)\",\"Mumbai North(26)\",\"Pune(34)\",\"Satara(45)\",\"Ratnagiri- Sindhudurg(46)\",\"Bargarh(1)\",\"Sundargarh(2)\",\"Sambalpur(3)\",\"Keonjhar(4)\",\"Mayurbhanj(5)\",\"Balasore(6)\",\"Bhadrak(7)\",\"Jajpur(8)\",\"Dhenkanal(9)\",\"Bolangir(10)\",\"Kalahandi(11)\",\"Nabarangpur(12)\",\"Kandhamal(13)\",\"Cuttack(14)\",\"Kendrapara(15)\",\"Jagatsinghpur(16)\",\"Puri(17)\",\"Bhubaneswar(18)\",\"Aska(19)\",\"Berhampur(20)\",\"BIKANER (2)\",\"JAIPUR RURAL(6)\",\"JAIPUR(7)\",\"ALWAR(8)\",\"AJMER (13)\",\"PALI(15)\",\"JODHPUR(16)\",\"JALORE (18)\",\"UDAIPUR (19)\",\"CHITTORGARH(21)\",\"RAJSAMAND(22)\",\"BHILWARA(23)\",\"KOTA(24)\",\"JHALAWAR-BARAN(25)\",\"Tripura West(1)\",\"Tripura East(2)\",\"Amroha(9)\",\"Meerut(10)\",\"Ghaziabad(12)\",\"Gautam Buddha Nagar(13)\",\"Bulandshahr(14)\",\"Aligarh(15)\",\"Hathras(16)\",\"Mathura(17)\",\"Agra(18)\",\"Fatehpur Sikri(19)\",\"Bareilly(25)\",\"Pilibhit(26)\",\"Shahjahanpur(27)\",\"Hardoi(31)\",\"Misrikh(32)\",\"Unnao(33)\",\"Lucknow(35)\",\"Farrukhabad(40)\",\"Kanpur(43)\",\"Akbarpur(44)\",\"Jhansi(46)\",\"Phulpur(51)\",\"Baharaich(56)\",\"Kaiserganj(57)\",\"Gonda(59)\",\"Domariyaganj(60)\",\"Maharajganj(63)\",\"Gorakhpur(64)\",\"Kushi Nagar(65)\",\"Deoria(66)\",\"Bansgaon(67)\",\"Varanasi(77)\",\"Bhadohi(78)\",\"Alipurduars(2)\",\"Jalpaiguri(3)\",\"Darjeeling(4)\",\"Raiganj(5)\",\"Balurghat(6)\",\"Maldaha Uttar(7)\",\"Ranaghat(13)\",\"Bangaon(14)\",\"Tamluk(30)\",\"Kanthi(31)\",\"Purulia(35)\",\"Bishnupur(37)\",\"SURGUJA(1)\",\"RAIGARH(2)\",\"JANJGIR-CHAMPA(3)\",\"BILASPUR(5)\",\"RAJNANDGAON(6)\",\"DURG(7)\",\"RAIPUR(8)\",\"MAHASAMUND(9)\",\"BASTAR(10)\",\"KANKER(11)\",\"Godda(3)\",\"Chatra(4)\",\"Kodarma(5)\",\"Dhanbad(7)\",\"Ranchi(8)\",\"Jamshedpur(9)\",\"Palamau(13)\",\"Hazaribagh(14)\",\"Tehri Garhwal(1)\",\"Garhwal(2)\",\"Almora(3)\",\"Nainital-Udhamsingh Nagar(4)\",\"Haridwar(5)\",\"Adilabad (1)\",\"Karimnagar (3)\",\"Nizamabad(4)\",\"Medak(6)\",\"Malkajgiri(7)\",\"Secunderabad(8)\",\"Chevella(10)\",\"Mahbubnagar(11)\",\"Andaman & Nicobar Islands(1)\",\"Dadar & Nagar Haveli(2)\",\"Chandni Chowk(1)\",\"North-East Delhi(2)\",\"East Delhi(3)\",\"New Delhi(4)\",\"North-West Delhi(5)\",\"West Delhi(6)\",\"South Delhi(7)\",\"UDHAMPUR(4)\",\"JAMMU(5)\"],\"y\":[5,8,9,1,2,4,5,6,7,8,10,11,12,13,2,3,6,9,14,15,19,20,22,24,30,39,1,1,3,4,5,6,7,8,9,10,11,12,13,14,15,16,17,18,19,20,21,22,23,24,25,26,2,5,8,9,10,1,2,3,4,2,3,4,10,11,12,14,15,17,18,19,21,23,24,25,26,27,10,1,2,3,4,5,6,7,8,9,10,11,12,13,14,15,16,17,18,19,20,21,22,23,24,25,26,27,28,29,3,4,6,10,22,26,34,45,46,1,2,3,4,5,6,7,8,9,10,11,12,13,14,15,16,17,18,19,20,2,6,7,8,13,15,16,18,19,21,22,23,24,25,1,2,9,10,12,13,14,15,16,17,18,19,25,26,27,31,32,33,35,40,43,44,46,51,56,57,59,60,63,64,65,66,67,77,78,2,3,4,5,6,7,13,14,30,31,35,37,1,2,3,5,6,7,8,9,10,11,3,4,5,7,8,9,13,14,1,2,3,4,5,1,3,4,6,7,8,10,11,1,2,1,2,3,4,5,6,7,4,5],\"type\":\"bar\"}],                        {\"legend\":{\"bgcolor\":\"#F5F6F9\",\"font\":{\"color\":\"#4D5663\"}},\"paper_bgcolor\":\"#F5F6F9\",\"plot_bgcolor\":\"#F5F6F9\",\"template\":{\"data\":{\"barpolar\":[{\"marker\":{\"line\":{\"color\":\"#E5ECF6\",\"width\":0.5},\"pattern\":{\"fillmode\":\"overlay\",\"size\":10,\"solidity\":0.2}},\"type\":\"barpolar\"}],\"bar\":[{\"error_x\":{\"color\":\"#2a3f5f\"},\"error_y\":{\"color\":\"#2a3f5f\"},\"marker\":{\"line\":{\"color\":\"#E5ECF6\",\"width\":0.5},\"pattern\":{\"fillmode\":\"overlay\",\"size\":10,\"solidity\":0.2}},\"type\":\"bar\"}],\"carpet\":[{\"aaxis\":{\"endlinecolor\":\"#2a3f5f\",\"gridcolor\":\"white\",\"linecolor\":\"white\",\"minorgridcolor\":\"white\",\"startlinecolor\":\"#2a3f5f\"},\"baxis\":{\"endlinecolor\":\"#2a3f5f\",\"gridcolor\":\"white\",\"linecolor\":\"white\",\"minorgridcolor\":\"white\",\"startlinecolor\":\"#2a3f5f\"},\"type\":\"carpet\"}],\"choropleth\":[{\"colorbar\":{\"outlinewidth\":0,\"ticks\":\"\"},\"type\":\"choropleth\"}],\"contourcarpet\":[{\"colorbar\":{\"outlinewidth\":0,\"ticks\":\"\"},\"type\":\"contourcarpet\"}],\"contour\":[{\"colorbar\":{\"outlinewidth\":0,\"ticks\":\"\"},\"colorscale\":[[0.0,\"#0d0887\"],[0.1111111111111111,\"#46039f\"],[0.2222222222222222,\"#7201a8\"],[0.3333333333333333,\"#9c179e\"],[0.4444444444444444,\"#bd3786\"],[0.5555555555555556,\"#d8576b\"],[0.6666666666666666,\"#ed7953\"],[0.7777777777777778,\"#fb9f3a\"],[0.8888888888888888,\"#fdca26\"],[1.0,\"#f0f921\"]],\"type\":\"contour\"}],\"heatmapgl\":[{\"colorbar\":{\"outlinewidth\":0,\"ticks\":\"\"},\"colorscale\":[[0.0,\"#0d0887\"],[0.1111111111111111,\"#46039f\"],[0.2222222222222222,\"#7201a8\"],[0.3333333333333333,\"#9c179e\"],[0.4444444444444444,\"#bd3786\"],[0.5555555555555556,\"#d8576b\"],[0.6666666666666666,\"#ed7953\"],[0.7777777777777778,\"#fb9f3a\"],[0.8888888888888888,\"#fdca26\"],[1.0,\"#f0f921\"]],\"type\":\"heatmapgl\"}],\"heatmap\":[{\"colorbar\":{\"outlinewidth\":0,\"ticks\":\"\"},\"colorscale\":[[0.0,\"#0d0887\"],[0.1111111111111111,\"#46039f\"],[0.2222222222222222,\"#7201a8\"],[0.3333333333333333,\"#9c179e\"],[0.4444444444444444,\"#bd3786\"],[0.5555555555555556,\"#d8576b\"],[0.6666666666666666,\"#ed7953\"],[0.7777777777777778,\"#fb9f3a\"],[0.8888888888888888,\"#fdca26\"],[1.0,\"#f0f921\"]],\"type\":\"heatmap\"}],\"histogram2dcontour\":[{\"colorbar\":{\"outlinewidth\":0,\"ticks\":\"\"},\"colorscale\":[[0.0,\"#0d0887\"],[0.1111111111111111,\"#46039f\"],[0.2222222222222222,\"#7201a8\"],[0.3333333333333333,\"#9c179e\"],[0.4444444444444444,\"#bd3786\"],[0.5555555555555556,\"#d8576b\"],[0.6666666666666666,\"#ed7953\"],[0.7777777777777778,\"#fb9f3a\"],[0.8888888888888888,\"#fdca26\"],[1.0,\"#f0f921\"]],\"type\":\"histogram2dcontour\"}],\"histogram2d\":[{\"colorbar\":{\"outlinewidth\":0,\"ticks\":\"\"},\"colorscale\":[[0.0,\"#0d0887\"],[0.1111111111111111,\"#46039f\"],[0.2222222222222222,\"#7201a8\"],[0.3333333333333333,\"#9c179e\"],[0.4444444444444444,\"#bd3786\"],[0.5555555555555556,\"#d8576b\"],[0.6666666666666666,\"#ed7953\"],[0.7777777777777778,\"#fb9f3a\"],[0.8888888888888888,\"#fdca26\"],[1.0,\"#f0f921\"]],\"type\":\"histogram2d\"}],\"histogram\":[{\"marker\":{\"pattern\":{\"fillmode\":\"overlay\",\"size\":10,\"solidity\":0.2}},\"type\":\"histogram\"}],\"mesh3d\":[{\"colorbar\":{\"outlinewidth\":0,\"ticks\":\"\"},\"type\":\"mesh3d\"}],\"parcoords\":[{\"line\":{\"colorbar\":{\"outlinewidth\":0,\"ticks\":\"\"}},\"type\":\"parcoords\"}],\"pie\":[{\"automargin\":true,\"type\":\"pie\"}],\"scatter3d\":[{\"line\":{\"colorbar\":{\"outlinewidth\":0,\"ticks\":\"\"}},\"marker\":{\"colorbar\":{\"outlinewidth\":0,\"ticks\":\"\"}},\"type\":\"scatter3d\"}],\"scattercarpet\":[{\"marker\":{\"colorbar\":{\"outlinewidth\":0,\"ticks\":\"\"}},\"type\":\"scattercarpet\"}],\"scattergeo\":[{\"marker\":{\"colorbar\":{\"outlinewidth\":0,\"ticks\":\"\"}},\"type\":\"scattergeo\"}],\"scattergl\":[{\"marker\":{\"colorbar\":{\"outlinewidth\":0,\"ticks\":\"\"}},\"type\":\"scattergl\"}],\"scattermapbox\":[{\"marker\":{\"colorbar\":{\"outlinewidth\":0,\"ticks\":\"\"}},\"type\":\"scattermapbox\"}],\"scatterpolargl\":[{\"marker\":{\"colorbar\":{\"outlinewidth\":0,\"ticks\":\"\"}},\"type\":\"scatterpolargl\"}],\"scatterpolar\":[{\"marker\":{\"colorbar\":{\"outlinewidth\":0,\"ticks\":\"\"}},\"type\":\"scatterpolar\"}],\"scatter\":[{\"fillpattern\":{\"fillmode\":\"overlay\",\"size\":10,\"solidity\":0.2},\"type\":\"scatter\"}],\"scatterternary\":[{\"marker\":{\"colorbar\":{\"outlinewidth\":0,\"ticks\":\"\"}},\"type\":\"scatterternary\"}],\"surface\":[{\"colorbar\":{\"outlinewidth\":0,\"ticks\":\"\"},\"colorscale\":[[0.0,\"#0d0887\"],[0.1111111111111111,\"#46039f\"],[0.2222222222222222,\"#7201a8\"],[0.3333333333333333,\"#9c179e\"],[0.4444444444444444,\"#bd3786\"],[0.5555555555555556,\"#d8576b\"],[0.6666666666666666,\"#ed7953\"],[0.7777777777777778,\"#fb9f3a\"],[0.8888888888888888,\"#fdca26\"],[1.0,\"#f0f921\"]],\"type\":\"surface\"}],\"table\":[{\"cells\":{\"fill\":{\"color\":\"#EBF0F8\"},\"line\":{\"color\":\"white\"}},\"header\":{\"fill\":{\"color\":\"#C8D4E3\"},\"line\":{\"color\":\"white\"}},\"type\":\"table\"}]},\"layout\":{\"annotationdefaults\":{\"arrowcolor\":\"#2a3f5f\",\"arrowhead\":0,\"arrowwidth\":1},\"autotypenumbers\":\"strict\",\"coloraxis\":{\"colorbar\":{\"outlinewidth\":0,\"ticks\":\"\"}},\"colorscale\":{\"diverging\":[[0,\"#8e0152\"],[0.1,\"#c51b7d\"],[0.2,\"#de77ae\"],[0.3,\"#f1b6da\"],[0.4,\"#fde0ef\"],[0.5,\"#f7f7f7\"],[0.6,\"#e6f5d0\"],[0.7,\"#b8e186\"],[0.8,\"#7fbc41\"],[0.9,\"#4d9221\"],[1,\"#276419\"]],\"sequential\":[[0.0,\"#0d0887\"],[0.1111111111111111,\"#46039f\"],[0.2222222222222222,\"#7201a8\"],[0.3333333333333333,\"#9c179e\"],[0.4444444444444444,\"#bd3786\"],[0.5555555555555556,\"#d8576b\"],[0.6666666666666666,\"#ed7953\"],[0.7777777777777778,\"#fb9f3a\"],[0.8888888888888888,\"#fdca26\"],[1.0,\"#f0f921\"]],\"sequentialminus\":[[0.0,\"#0d0887\"],[0.1111111111111111,\"#46039f\"],[0.2222222222222222,\"#7201a8\"],[0.3333333333333333,\"#9c179e\"],[0.4444444444444444,\"#bd3786\"],[0.5555555555555556,\"#d8576b\"],[0.6666666666666666,\"#ed7953\"],[0.7777777777777778,\"#fb9f3a\"],[0.8888888888888888,\"#fdca26\"],[1.0,\"#f0f921\"]]},\"colorway\":[\"#636efa\",\"#EF553B\",\"#00cc96\",\"#ab63fa\",\"#FFA15A\",\"#19d3f3\",\"#FF6692\",\"#B6E880\",\"#FF97FF\",\"#FECB52\"],\"font\":{\"color\":\"#2a3f5f\"},\"geo\":{\"bgcolor\":\"white\",\"lakecolor\":\"white\",\"landcolor\":\"#E5ECF6\",\"showlakes\":true,\"showland\":true,\"subunitcolor\":\"white\"},\"hoverlabel\":{\"align\":\"left\"},\"hovermode\":\"closest\",\"mapbox\":{\"style\":\"light\"},\"paper_bgcolor\":\"white\",\"plot_bgcolor\":\"#E5ECF6\",\"polar\":{\"angularaxis\":{\"gridcolor\":\"white\",\"linecolor\":\"white\",\"ticks\":\"\"},\"bgcolor\":\"#E5ECF6\",\"radialaxis\":{\"gridcolor\":\"white\",\"linecolor\":\"white\",\"ticks\":\"\"}},\"scene\":{\"xaxis\":{\"backgroundcolor\":\"#E5ECF6\",\"gridcolor\":\"white\",\"gridwidth\":2,\"linecolor\":\"white\",\"showbackground\":true,\"ticks\":\"\",\"zerolinecolor\":\"white\"},\"yaxis\":{\"backgroundcolor\":\"#E5ECF6\",\"gridcolor\":\"white\",\"gridwidth\":2,\"linecolor\":\"white\",\"showbackground\":true,\"ticks\":\"\",\"zerolinecolor\":\"white\"},\"zaxis\":{\"backgroundcolor\":\"#E5ECF6\",\"gridcolor\":\"white\",\"gridwidth\":2,\"linecolor\":\"white\",\"showbackground\":true,\"ticks\":\"\",\"zerolinecolor\":\"white\"}},\"shapedefaults\":{\"line\":{\"color\":\"#2a3f5f\"}},\"ternary\":{\"aaxis\":{\"gridcolor\":\"white\",\"linecolor\":\"white\",\"ticks\":\"\"},\"baxis\":{\"gridcolor\":\"white\",\"linecolor\":\"white\",\"ticks\":\"\"},\"bgcolor\":\"#E5ECF6\",\"caxis\":{\"gridcolor\":\"white\",\"linecolor\":\"white\",\"ticks\":\"\"}},\"title\":{\"x\":0.05},\"xaxis\":{\"automargin\":true,\"gridcolor\":\"white\",\"linecolor\":\"white\",\"ticks\":\"\",\"title\":{\"standoff\":15},\"zerolinecolor\":\"white\",\"zerolinewidth\":2},\"yaxis\":{\"automargin\":true,\"gridcolor\":\"white\",\"linecolor\":\"white\",\"ticks\":\"\",\"title\":{\"standoff\":15},\"zerolinecolor\":\"white\",\"zerolinewidth\":2}}},\"title\":{\"font\":{\"color\":\"#4D5663\"}},\"xaxis\":{\"gridcolor\":\"#E1E5ED\",\"showgrid\":true,\"tickfont\":{\"color\":\"#4D5663\"},\"title\":{\"font\":{\"color\":\"#4D5663\"},\"text\":\"\"},\"zerolinecolor\":\"#E1E5ED\"},\"yaxis\":{\"gridcolor\":\"#E1E5ED\",\"showgrid\":true,\"tickfont\":{\"color\":\"#4D5663\"},\"title\":{\"font\":{\"color\":\"#4D5663\"},\"text\":\"\"},\"zerolinecolor\":\"#E1E5ED\"}},                        {\"showLink\": true, \"linkText\": \"Export to plot.ly\", \"plotlyServerURL\": \"https://plot.ly\", \"responsive\": true}                    ).then(function(){\n",
       "                            \n",
       "var gd = document.getElementById('e8148900-1264-43af-bf63-ee8f2be2c813');\n",
       "var x = new MutationObserver(function (mutations, observer) {{\n",
       "        var display = window.getComputedStyle(gd).display;\n",
       "        if (!display || display === 'none') {{\n",
       "            console.log([gd, 'removed!']);\n",
       "            Plotly.purge(gd);\n",
       "            observer.disconnect();\n",
       "        }}\n",
       "}});\n",
       "\n",
       "// Listen for the removal of the full notebook cells\n",
       "var notebookContainer = gd.closest('#notebook-container');\n",
       "if (notebookContainer) {{\n",
       "    x.observe(notebookContainer, {childList: true});\n",
       "}}\n",
       "\n",
       "// Listen for the clearing of the current output cell\n",
       "var outputEl = gd.closest('.output');\n",
       "if (outputEl) {{\n",
       "    x.observe(outputEl, {childList: true});\n",
       "}}\n",
       "\n",
       "                        })                };                });            </script>        </div>"
      ]
     },
     "metadata": {},
     "output_type": "display_data"
    }
   ],
   "source": [
    "bjp.iplot(kind='bar',y='No_of_candidates',x='Parliament Constituency')"
   ]
  },
  {
   "cell_type": "markdown",
   "id": "6c4097ba",
   "metadata": {},
   "source": [
    "This shows the number of candidates in each constituency. We can see that Bhadohi has the highest number of candidates"
   ]
  },
  {
   "cell_type": "code",
   "execution_count": 149,
   "id": "0d58fe37",
   "metadata": {},
   "outputs": [
    {
     "data": {
      "application/vnd.plotly.v1+json": {
       "config": {
        "linkText": "Export to plot.ly",
        "plotlyServerURL": "https://plot.ly",
        "showLink": true
       },
       "data": [
        {
         "marker": {
          "color": "rgba(255, 153, 51, 0.6)",
          "line": {
           "color": "rgba(255, 153, 51, 1.0)",
           "width": 1
          }
         },
         "name": "Total Votes",
         "orientation": "v",
         "text": "",
         "type": "bar",
         "x": [
          "CHITTORGARH(21)",
          "Guwahati(5)",
          "Kaziranga(10)",
          "GUNA(4)",
          "DEWAS(21)",
          "MANDSOUR(23)",
          "DURG(7)",
          "BHOPAL(19)",
          "Bangalore North(24)",
          "Malkajgiri(7)"
         ],
         "y": [
          "888202",
          "894887",
          "897043",
          "923302",
          "928941",
          "945761",
          "956497",
          "981109",
          "986049",
          "991042"
         ]
        }
       ],
       "layout": {
        "legend": {
         "bgcolor": "#F5F6F9",
         "font": {
          "color": "#4D5663"
         }
        },
        "paper_bgcolor": "#F5F6F9",
        "plot_bgcolor": "#F5F6F9",
        "template": {
         "data": {
          "bar": [
           {
            "error_x": {
             "color": "#2a3f5f"
            },
            "error_y": {
             "color": "#2a3f5f"
            },
            "marker": {
             "line": {
              "color": "#E5ECF6",
              "width": 0.5
             },
             "pattern": {
              "fillmode": "overlay",
              "size": 10,
              "solidity": 0.2
             }
            },
            "type": "bar"
           }
          ],
          "barpolar": [
           {
            "marker": {
             "line": {
              "color": "#E5ECF6",
              "width": 0.5
             },
             "pattern": {
              "fillmode": "overlay",
              "size": 10,
              "solidity": 0.2
             }
            },
            "type": "barpolar"
           }
          ],
          "carpet": [
           {
            "aaxis": {
             "endlinecolor": "#2a3f5f",
             "gridcolor": "white",
             "linecolor": "white",
             "minorgridcolor": "white",
             "startlinecolor": "#2a3f5f"
            },
            "baxis": {
             "endlinecolor": "#2a3f5f",
             "gridcolor": "white",
             "linecolor": "white",
             "minorgridcolor": "white",
             "startlinecolor": "#2a3f5f"
            },
            "type": "carpet"
           }
          ],
          "choropleth": [
           {
            "colorbar": {
             "outlinewidth": 0,
             "ticks": ""
            },
            "type": "choropleth"
           }
          ],
          "contour": [
           {
            "colorbar": {
             "outlinewidth": 0,
             "ticks": ""
            },
            "colorscale": [
             [
              0,
              "#0d0887"
             ],
             [
              0.1111111111111111,
              "#46039f"
             ],
             [
              0.2222222222222222,
              "#7201a8"
             ],
             [
              0.3333333333333333,
              "#9c179e"
             ],
             [
              0.4444444444444444,
              "#bd3786"
             ],
             [
              0.5555555555555556,
              "#d8576b"
             ],
             [
              0.6666666666666666,
              "#ed7953"
             ],
             [
              0.7777777777777778,
              "#fb9f3a"
             ],
             [
              0.8888888888888888,
              "#fdca26"
             ],
             [
              1,
              "#f0f921"
             ]
            ],
            "type": "contour"
           }
          ],
          "contourcarpet": [
           {
            "colorbar": {
             "outlinewidth": 0,
             "ticks": ""
            },
            "type": "contourcarpet"
           }
          ],
          "heatmap": [
           {
            "colorbar": {
             "outlinewidth": 0,
             "ticks": ""
            },
            "colorscale": [
             [
              0,
              "#0d0887"
             ],
             [
              0.1111111111111111,
              "#46039f"
             ],
             [
              0.2222222222222222,
              "#7201a8"
             ],
             [
              0.3333333333333333,
              "#9c179e"
             ],
             [
              0.4444444444444444,
              "#bd3786"
             ],
             [
              0.5555555555555556,
              "#d8576b"
             ],
             [
              0.6666666666666666,
              "#ed7953"
             ],
             [
              0.7777777777777778,
              "#fb9f3a"
             ],
             [
              0.8888888888888888,
              "#fdca26"
             ],
             [
              1,
              "#f0f921"
             ]
            ],
            "type": "heatmap"
           }
          ],
          "heatmapgl": [
           {
            "colorbar": {
             "outlinewidth": 0,
             "ticks": ""
            },
            "colorscale": [
             [
              0,
              "#0d0887"
             ],
             [
              0.1111111111111111,
              "#46039f"
             ],
             [
              0.2222222222222222,
              "#7201a8"
             ],
             [
              0.3333333333333333,
              "#9c179e"
             ],
             [
              0.4444444444444444,
              "#bd3786"
             ],
             [
              0.5555555555555556,
              "#d8576b"
             ],
             [
              0.6666666666666666,
              "#ed7953"
             ],
             [
              0.7777777777777778,
              "#fb9f3a"
             ],
             [
              0.8888888888888888,
              "#fdca26"
             ],
             [
              1,
              "#f0f921"
             ]
            ],
            "type": "heatmapgl"
           }
          ],
          "histogram": [
           {
            "marker": {
             "pattern": {
              "fillmode": "overlay",
              "size": 10,
              "solidity": 0.2
             }
            },
            "type": "histogram"
           }
          ],
          "histogram2d": [
           {
            "colorbar": {
             "outlinewidth": 0,
             "ticks": ""
            },
            "colorscale": [
             [
              0,
              "#0d0887"
             ],
             [
              0.1111111111111111,
              "#46039f"
             ],
             [
              0.2222222222222222,
              "#7201a8"
             ],
             [
              0.3333333333333333,
              "#9c179e"
             ],
             [
              0.4444444444444444,
              "#bd3786"
             ],
             [
              0.5555555555555556,
              "#d8576b"
             ],
             [
              0.6666666666666666,
              "#ed7953"
             ],
             [
              0.7777777777777778,
              "#fb9f3a"
             ],
             [
              0.8888888888888888,
              "#fdca26"
             ],
             [
              1,
              "#f0f921"
             ]
            ],
            "type": "histogram2d"
           }
          ],
          "histogram2dcontour": [
           {
            "colorbar": {
             "outlinewidth": 0,
             "ticks": ""
            },
            "colorscale": [
             [
              0,
              "#0d0887"
             ],
             [
              0.1111111111111111,
              "#46039f"
             ],
             [
              0.2222222222222222,
              "#7201a8"
             ],
             [
              0.3333333333333333,
              "#9c179e"
             ],
             [
              0.4444444444444444,
              "#bd3786"
             ],
             [
              0.5555555555555556,
              "#d8576b"
             ],
             [
              0.6666666666666666,
              "#ed7953"
             ],
             [
              0.7777777777777778,
              "#fb9f3a"
             ],
             [
              0.8888888888888888,
              "#fdca26"
             ],
             [
              1,
              "#f0f921"
             ]
            ],
            "type": "histogram2dcontour"
           }
          ],
          "mesh3d": [
           {
            "colorbar": {
             "outlinewidth": 0,
             "ticks": ""
            },
            "type": "mesh3d"
           }
          ],
          "parcoords": [
           {
            "line": {
             "colorbar": {
              "outlinewidth": 0,
              "ticks": ""
             }
            },
            "type": "parcoords"
           }
          ],
          "pie": [
           {
            "automargin": true,
            "type": "pie"
           }
          ],
          "scatter": [
           {
            "fillpattern": {
             "fillmode": "overlay",
             "size": 10,
             "solidity": 0.2
            },
            "type": "scatter"
           }
          ],
          "scatter3d": [
           {
            "line": {
             "colorbar": {
              "outlinewidth": 0,
              "ticks": ""
             }
            },
            "marker": {
             "colorbar": {
              "outlinewidth": 0,
              "ticks": ""
             }
            },
            "type": "scatter3d"
           }
          ],
          "scattercarpet": [
           {
            "marker": {
             "colorbar": {
              "outlinewidth": 0,
              "ticks": ""
             }
            },
            "type": "scattercarpet"
           }
          ],
          "scattergeo": [
           {
            "marker": {
             "colorbar": {
              "outlinewidth": 0,
              "ticks": ""
             }
            },
            "type": "scattergeo"
           }
          ],
          "scattergl": [
           {
            "marker": {
             "colorbar": {
              "outlinewidth": 0,
              "ticks": ""
             }
            },
            "type": "scattergl"
           }
          ],
          "scattermapbox": [
           {
            "marker": {
             "colorbar": {
              "outlinewidth": 0,
              "ticks": ""
             }
            },
            "type": "scattermapbox"
           }
          ],
          "scatterpolar": [
           {
            "marker": {
             "colorbar": {
              "outlinewidth": 0,
              "ticks": ""
             }
            },
            "type": "scatterpolar"
           }
          ],
          "scatterpolargl": [
           {
            "marker": {
             "colorbar": {
              "outlinewidth": 0,
              "ticks": ""
             }
            },
            "type": "scatterpolargl"
           }
          ],
          "scatterternary": [
           {
            "marker": {
             "colorbar": {
              "outlinewidth": 0,
              "ticks": ""
             }
            },
            "type": "scatterternary"
           }
          ],
          "surface": [
           {
            "colorbar": {
             "outlinewidth": 0,
             "ticks": ""
            },
            "colorscale": [
             [
              0,
              "#0d0887"
             ],
             [
              0.1111111111111111,
              "#46039f"
             ],
             [
              0.2222222222222222,
              "#7201a8"
             ],
             [
              0.3333333333333333,
              "#9c179e"
             ],
             [
              0.4444444444444444,
              "#bd3786"
             ],
             [
              0.5555555555555556,
              "#d8576b"
             ],
             [
              0.6666666666666666,
              "#ed7953"
             ],
             [
              0.7777777777777778,
              "#fb9f3a"
             ],
             [
              0.8888888888888888,
              "#fdca26"
             ],
             [
              1,
              "#f0f921"
             ]
            ],
            "type": "surface"
           }
          ],
          "table": [
           {
            "cells": {
             "fill": {
              "color": "#EBF0F8"
             },
             "line": {
              "color": "white"
             }
            },
            "header": {
             "fill": {
              "color": "#C8D4E3"
             },
             "line": {
              "color": "white"
             }
            },
            "type": "table"
           }
          ]
         },
         "layout": {
          "annotationdefaults": {
           "arrowcolor": "#2a3f5f",
           "arrowhead": 0,
           "arrowwidth": 1
          },
          "autotypenumbers": "strict",
          "coloraxis": {
           "colorbar": {
            "outlinewidth": 0,
            "ticks": ""
           }
          },
          "colorscale": {
           "diverging": [
            [
             0,
             "#8e0152"
            ],
            [
             0.1,
             "#c51b7d"
            ],
            [
             0.2,
             "#de77ae"
            ],
            [
             0.3,
             "#f1b6da"
            ],
            [
             0.4,
             "#fde0ef"
            ],
            [
             0.5,
             "#f7f7f7"
            ],
            [
             0.6,
             "#e6f5d0"
            ],
            [
             0.7,
             "#b8e186"
            ],
            [
             0.8,
             "#7fbc41"
            ],
            [
             0.9,
             "#4d9221"
            ],
            [
             1,
             "#276419"
            ]
           ],
           "sequential": [
            [
             0,
             "#0d0887"
            ],
            [
             0.1111111111111111,
             "#46039f"
            ],
            [
             0.2222222222222222,
             "#7201a8"
            ],
            [
             0.3333333333333333,
             "#9c179e"
            ],
            [
             0.4444444444444444,
             "#bd3786"
            ],
            [
             0.5555555555555556,
             "#d8576b"
            ],
            [
             0.6666666666666666,
             "#ed7953"
            ],
            [
             0.7777777777777778,
             "#fb9f3a"
            ],
            [
             0.8888888888888888,
             "#fdca26"
            ],
            [
             1,
             "#f0f921"
            ]
           ],
           "sequentialminus": [
            [
             0,
             "#0d0887"
            ],
            [
             0.1111111111111111,
             "#46039f"
            ],
            [
             0.2222222222222222,
             "#7201a8"
            ],
            [
             0.3333333333333333,
             "#9c179e"
            ],
            [
             0.4444444444444444,
             "#bd3786"
            ],
            [
             0.5555555555555556,
             "#d8576b"
            ],
            [
             0.6666666666666666,
             "#ed7953"
            ],
            [
             0.7777777777777778,
             "#fb9f3a"
            ],
            [
             0.8888888888888888,
             "#fdca26"
            ],
            [
             1,
             "#f0f921"
            ]
           ]
          },
          "colorway": [
           "#636efa",
           "#EF553B",
           "#00cc96",
           "#ab63fa",
           "#FFA15A",
           "#19d3f3",
           "#FF6692",
           "#B6E880",
           "#FF97FF",
           "#FECB52"
          ],
          "font": {
           "color": "#2a3f5f"
          },
          "geo": {
           "bgcolor": "white",
           "lakecolor": "white",
           "landcolor": "#E5ECF6",
           "showlakes": true,
           "showland": true,
           "subunitcolor": "white"
          },
          "hoverlabel": {
           "align": "left"
          },
          "hovermode": "closest",
          "mapbox": {
           "style": "light"
          },
          "paper_bgcolor": "white",
          "plot_bgcolor": "#E5ECF6",
          "polar": {
           "angularaxis": {
            "gridcolor": "white",
            "linecolor": "white",
            "ticks": ""
           },
           "bgcolor": "#E5ECF6",
           "radialaxis": {
            "gridcolor": "white",
            "linecolor": "white",
            "ticks": ""
           }
          },
          "scene": {
           "xaxis": {
            "backgroundcolor": "#E5ECF6",
            "gridcolor": "white",
            "gridwidth": 2,
            "linecolor": "white",
            "showbackground": true,
            "ticks": "",
            "zerolinecolor": "white"
           },
           "yaxis": {
            "backgroundcolor": "#E5ECF6",
            "gridcolor": "white",
            "gridwidth": 2,
            "linecolor": "white",
            "showbackground": true,
            "ticks": "",
            "zerolinecolor": "white"
           },
           "zaxis": {
            "backgroundcolor": "#E5ECF6",
            "gridcolor": "white",
            "gridwidth": 2,
            "linecolor": "white",
            "showbackground": true,
            "ticks": "",
            "zerolinecolor": "white"
           }
          },
          "shapedefaults": {
           "line": {
            "color": "#2a3f5f"
           }
          },
          "ternary": {
           "aaxis": {
            "gridcolor": "white",
            "linecolor": "white",
            "ticks": ""
           },
           "baxis": {
            "gridcolor": "white",
            "linecolor": "white",
            "ticks": ""
           },
           "bgcolor": "#E5ECF6",
           "caxis": {
            "gridcolor": "white",
            "linecolor": "white",
            "ticks": ""
           }
          },
          "title": {
           "x": 0.05
          },
          "xaxis": {
           "automargin": true,
           "gridcolor": "white",
           "linecolor": "white",
           "ticks": "",
           "title": {
            "standoff": 15
           },
           "zerolinecolor": "white",
           "zerolinewidth": 2
          },
          "yaxis": {
           "automargin": true,
           "gridcolor": "white",
           "linecolor": "white",
           "ticks": "",
           "title": {
            "standoff": 15
           },
           "zerolinecolor": "white",
           "zerolinewidth": 2
          }
         }
        },
        "title": {
         "font": {
          "color": "#4D5663"
         }
        },
        "xaxis": {
         "gridcolor": "#E1E5ED",
         "showgrid": true,
         "tickfont": {
          "color": "#4D5663"
         },
         "title": {
          "font": {
           "color": "#4D5663"
          },
          "text": ""
         },
         "zerolinecolor": "#E1E5ED"
        },
        "yaxis": {
         "gridcolor": "#E1E5ED",
         "showgrid": true,
         "tickfont": {
          "color": "#4D5663"
         },
         "title": {
          "font": {
           "color": "#4D5663"
          },
          "text": ""
         },
         "zerolinecolor": "#E1E5ED"
        }
       }
      },
      "text/html": [
       "<div>                            <div id=\"93b1136e-3ac3-4750-8359-572ea3a062b1\" class=\"plotly-graph-div\" style=\"height:525px; width:100%;\"></div>            <script type=\"text/javascript\">                require([\"plotly\"], function(Plotly) {                    window.PLOTLYENV=window.PLOTLYENV || {};\n",
       "                    window.PLOTLYENV.BASE_URL='https://plot.ly';                                    if (document.getElementById(\"93b1136e-3ac3-4750-8359-572ea3a062b1\")) {                    Plotly.newPlot(                        \"93b1136e-3ac3-4750-8359-572ea3a062b1\",                        [{\"marker\":{\"color\":\"rgba(255, 153, 51, 0.6)\",\"line\":{\"color\":\"rgba(255, 153, 51, 1.0)\",\"width\":1}},\"name\":\"Total Votes\",\"orientation\":\"v\",\"text\":\"\",\"x\":[\"CHITTORGARH(21)\",\"Guwahati(5)\",\"Kaziranga(10)\",\"GUNA(4)\",\"DEWAS(21)\",\"MANDSOUR(23)\",\"DURG(7)\",\"BHOPAL(19)\",\"Bangalore North(24)\",\"Malkajgiri(7)\"],\"y\":[\"888202\",\"894887\",\"897043\",\"923302\",\"928941\",\"945761\",\"956497\",\"981109\",\"986049\",\"991042\"],\"type\":\"bar\"}],                        {\"legend\":{\"bgcolor\":\"#F5F6F9\",\"font\":{\"color\":\"#4D5663\"}},\"paper_bgcolor\":\"#F5F6F9\",\"plot_bgcolor\":\"#F5F6F9\",\"template\":{\"data\":{\"barpolar\":[{\"marker\":{\"line\":{\"color\":\"#E5ECF6\",\"width\":0.5},\"pattern\":{\"fillmode\":\"overlay\",\"size\":10,\"solidity\":0.2}},\"type\":\"barpolar\"}],\"bar\":[{\"error_x\":{\"color\":\"#2a3f5f\"},\"error_y\":{\"color\":\"#2a3f5f\"},\"marker\":{\"line\":{\"color\":\"#E5ECF6\",\"width\":0.5},\"pattern\":{\"fillmode\":\"overlay\",\"size\":10,\"solidity\":0.2}},\"type\":\"bar\"}],\"carpet\":[{\"aaxis\":{\"endlinecolor\":\"#2a3f5f\",\"gridcolor\":\"white\",\"linecolor\":\"white\",\"minorgridcolor\":\"white\",\"startlinecolor\":\"#2a3f5f\"},\"baxis\":{\"endlinecolor\":\"#2a3f5f\",\"gridcolor\":\"white\",\"linecolor\":\"white\",\"minorgridcolor\":\"white\",\"startlinecolor\":\"#2a3f5f\"},\"type\":\"carpet\"}],\"choropleth\":[{\"colorbar\":{\"outlinewidth\":0,\"ticks\":\"\"},\"type\":\"choropleth\"}],\"contourcarpet\":[{\"colorbar\":{\"outlinewidth\":0,\"ticks\":\"\"},\"type\":\"contourcarpet\"}],\"contour\":[{\"colorbar\":{\"outlinewidth\":0,\"ticks\":\"\"},\"colorscale\":[[0.0,\"#0d0887\"],[0.1111111111111111,\"#46039f\"],[0.2222222222222222,\"#7201a8\"],[0.3333333333333333,\"#9c179e\"],[0.4444444444444444,\"#bd3786\"],[0.5555555555555556,\"#d8576b\"],[0.6666666666666666,\"#ed7953\"],[0.7777777777777778,\"#fb9f3a\"],[0.8888888888888888,\"#fdca26\"],[1.0,\"#f0f921\"]],\"type\":\"contour\"}],\"heatmapgl\":[{\"colorbar\":{\"outlinewidth\":0,\"ticks\":\"\"},\"colorscale\":[[0.0,\"#0d0887\"],[0.1111111111111111,\"#46039f\"],[0.2222222222222222,\"#7201a8\"],[0.3333333333333333,\"#9c179e\"],[0.4444444444444444,\"#bd3786\"],[0.5555555555555556,\"#d8576b\"],[0.6666666666666666,\"#ed7953\"],[0.7777777777777778,\"#fb9f3a\"],[0.8888888888888888,\"#fdca26\"],[1.0,\"#f0f921\"]],\"type\":\"heatmapgl\"}],\"heatmap\":[{\"colorbar\":{\"outlinewidth\":0,\"ticks\":\"\"},\"colorscale\":[[0.0,\"#0d0887\"],[0.1111111111111111,\"#46039f\"],[0.2222222222222222,\"#7201a8\"],[0.3333333333333333,\"#9c179e\"],[0.4444444444444444,\"#bd3786\"],[0.5555555555555556,\"#d8576b\"],[0.6666666666666666,\"#ed7953\"],[0.7777777777777778,\"#fb9f3a\"],[0.8888888888888888,\"#fdca26\"],[1.0,\"#f0f921\"]],\"type\":\"heatmap\"}],\"histogram2dcontour\":[{\"colorbar\":{\"outlinewidth\":0,\"ticks\":\"\"},\"colorscale\":[[0.0,\"#0d0887\"],[0.1111111111111111,\"#46039f\"],[0.2222222222222222,\"#7201a8\"],[0.3333333333333333,\"#9c179e\"],[0.4444444444444444,\"#bd3786\"],[0.5555555555555556,\"#d8576b\"],[0.6666666666666666,\"#ed7953\"],[0.7777777777777778,\"#fb9f3a\"],[0.8888888888888888,\"#fdca26\"],[1.0,\"#f0f921\"]],\"type\":\"histogram2dcontour\"}],\"histogram2d\":[{\"colorbar\":{\"outlinewidth\":0,\"ticks\":\"\"},\"colorscale\":[[0.0,\"#0d0887\"],[0.1111111111111111,\"#46039f\"],[0.2222222222222222,\"#7201a8\"],[0.3333333333333333,\"#9c179e\"],[0.4444444444444444,\"#bd3786\"],[0.5555555555555556,\"#d8576b\"],[0.6666666666666666,\"#ed7953\"],[0.7777777777777778,\"#fb9f3a\"],[0.8888888888888888,\"#fdca26\"],[1.0,\"#f0f921\"]],\"type\":\"histogram2d\"}],\"histogram\":[{\"marker\":{\"pattern\":{\"fillmode\":\"overlay\",\"size\":10,\"solidity\":0.2}},\"type\":\"histogram\"}],\"mesh3d\":[{\"colorbar\":{\"outlinewidth\":0,\"ticks\":\"\"},\"type\":\"mesh3d\"}],\"parcoords\":[{\"line\":{\"colorbar\":{\"outlinewidth\":0,\"ticks\":\"\"}},\"type\":\"parcoords\"}],\"pie\":[{\"automargin\":true,\"type\":\"pie\"}],\"scatter3d\":[{\"line\":{\"colorbar\":{\"outlinewidth\":0,\"ticks\":\"\"}},\"marker\":{\"colorbar\":{\"outlinewidth\":0,\"ticks\":\"\"}},\"type\":\"scatter3d\"}],\"scattercarpet\":[{\"marker\":{\"colorbar\":{\"outlinewidth\":0,\"ticks\":\"\"}},\"type\":\"scattercarpet\"}],\"scattergeo\":[{\"marker\":{\"colorbar\":{\"outlinewidth\":0,\"ticks\":\"\"}},\"type\":\"scattergeo\"}],\"scattergl\":[{\"marker\":{\"colorbar\":{\"outlinewidth\":0,\"ticks\":\"\"}},\"type\":\"scattergl\"}],\"scattermapbox\":[{\"marker\":{\"colorbar\":{\"outlinewidth\":0,\"ticks\":\"\"}},\"type\":\"scattermapbox\"}],\"scatterpolargl\":[{\"marker\":{\"colorbar\":{\"outlinewidth\":0,\"ticks\":\"\"}},\"type\":\"scatterpolargl\"}],\"scatterpolar\":[{\"marker\":{\"colorbar\":{\"outlinewidth\":0,\"ticks\":\"\"}},\"type\":\"scatterpolar\"}],\"scatter\":[{\"fillpattern\":{\"fillmode\":\"overlay\",\"size\":10,\"solidity\":0.2},\"type\":\"scatter\"}],\"scatterternary\":[{\"marker\":{\"colorbar\":{\"outlinewidth\":0,\"ticks\":\"\"}},\"type\":\"scatterternary\"}],\"surface\":[{\"colorbar\":{\"outlinewidth\":0,\"ticks\":\"\"},\"colorscale\":[[0.0,\"#0d0887\"],[0.1111111111111111,\"#46039f\"],[0.2222222222222222,\"#7201a8\"],[0.3333333333333333,\"#9c179e\"],[0.4444444444444444,\"#bd3786\"],[0.5555555555555556,\"#d8576b\"],[0.6666666666666666,\"#ed7953\"],[0.7777777777777778,\"#fb9f3a\"],[0.8888888888888888,\"#fdca26\"],[1.0,\"#f0f921\"]],\"type\":\"surface\"}],\"table\":[{\"cells\":{\"fill\":{\"color\":\"#EBF0F8\"},\"line\":{\"color\":\"white\"}},\"header\":{\"fill\":{\"color\":\"#C8D4E3\"},\"line\":{\"color\":\"white\"}},\"type\":\"table\"}]},\"layout\":{\"annotationdefaults\":{\"arrowcolor\":\"#2a3f5f\",\"arrowhead\":0,\"arrowwidth\":1},\"autotypenumbers\":\"strict\",\"coloraxis\":{\"colorbar\":{\"outlinewidth\":0,\"ticks\":\"\"}},\"colorscale\":{\"diverging\":[[0,\"#8e0152\"],[0.1,\"#c51b7d\"],[0.2,\"#de77ae\"],[0.3,\"#f1b6da\"],[0.4,\"#fde0ef\"],[0.5,\"#f7f7f7\"],[0.6,\"#e6f5d0\"],[0.7,\"#b8e186\"],[0.8,\"#7fbc41\"],[0.9,\"#4d9221\"],[1,\"#276419\"]],\"sequential\":[[0.0,\"#0d0887\"],[0.1111111111111111,\"#46039f\"],[0.2222222222222222,\"#7201a8\"],[0.3333333333333333,\"#9c179e\"],[0.4444444444444444,\"#bd3786\"],[0.5555555555555556,\"#d8576b\"],[0.6666666666666666,\"#ed7953\"],[0.7777777777777778,\"#fb9f3a\"],[0.8888888888888888,\"#fdca26\"],[1.0,\"#f0f921\"]],\"sequentialminus\":[[0.0,\"#0d0887\"],[0.1111111111111111,\"#46039f\"],[0.2222222222222222,\"#7201a8\"],[0.3333333333333333,\"#9c179e\"],[0.4444444444444444,\"#bd3786\"],[0.5555555555555556,\"#d8576b\"],[0.6666666666666666,\"#ed7953\"],[0.7777777777777778,\"#fb9f3a\"],[0.8888888888888888,\"#fdca26\"],[1.0,\"#f0f921\"]]},\"colorway\":[\"#636efa\",\"#EF553B\",\"#00cc96\",\"#ab63fa\",\"#FFA15A\",\"#19d3f3\",\"#FF6692\",\"#B6E880\",\"#FF97FF\",\"#FECB52\"],\"font\":{\"color\":\"#2a3f5f\"},\"geo\":{\"bgcolor\":\"white\",\"lakecolor\":\"white\",\"landcolor\":\"#E5ECF6\",\"showlakes\":true,\"showland\":true,\"subunitcolor\":\"white\"},\"hoverlabel\":{\"align\":\"left\"},\"hovermode\":\"closest\",\"mapbox\":{\"style\":\"light\"},\"paper_bgcolor\":\"white\",\"plot_bgcolor\":\"#E5ECF6\",\"polar\":{\"angularaxis\":{\"gridcolor\":\"white\",\"linecolor\":\"white\",\"ticks\":\"\"},\"bgcolor\":\"#E5ECF6\",\"radialaxis\":{\"gridcolor\":\"white\",\"linecolor\":\"white\",\"ticks\":\"\"}},\"scene\":{\"xaxis\":{\"backgroundcolor\":\"#E5ECF6\",\"gridcolor\":\"white\",\"gridwidth\":2,\"linecolor\":\"white\",\"showbackground\":true,\"ticks\":\"\",\"zerolinecolor\":\"white\"},\"yaxis\":{\"backgroundcolor\":\"#E5ECF6\",\"gridcolor\":\"white\",\"gridwidth\":2,\"linecolor\":\"white\",\"showbackground\":true,\"ticks\":\"\",\"zerolinecolor\":\"white\"},\"zaxis\":{\"backgroundcolor\":\"#E5ECF6\",\"gridcolor\":\"white\",\"gridwidth\":2,\"linecolor\":\"white\",\"showbackground\":true,\"ticks\":\"\",\"zerolinecolor\":\"white\"}},\"shapedefaults\":{\"line\":{\"color\":\"#2a3f5f\"}},\"ternary\":{\"aaxis\":{\"gridcolor\":\"white\",\"linecolor\":\"white\",\"ticks\":\"\"},\"baxis\":{\"gridcolor\":\"white\",\"linecolor\":\"white\",\"ticks\":\"\"},\"bgcolor\":\"#E5ECF6\",\"caxis\":{\"gridcolor\":\"white\",\"linecolor\":\"white\",\"ticks\":\"\"}},\"title\":{\"x\":0.05},\"xaxis\":{\"automargin\":true,\"gridcolor\":\"white\",\"linecolor\":\"white\",\"ticks\":\"\",\"title\":{\"standoff\":15},\"zerolinecolor\":\"white\",\"zerolinewidth\":2},\"yaxis\":{\"automargin\":true,\"gridcolor\":\"white\",\"linecolor\":\"white\",\"ticks\":\"\",\"title\":{\"standoff\":15},\"zerolinecolor\":\"white\",\"zerolinewidth\":2}}},\"title\":{\"font\":{\"color\":\"#4D5663\"}},\"xaxis\":{\"gridcolor\":\"#E1E5ED\",\"showgrid\":true,\"tickfont\":{\"color\":\"#4D5663\"},\"title\":{\"font\":{\"color\":\"#4D5663\"},\"text\":\"\"},\"zerolinecolor\":\"#E1E5ED\"},\"yaxis\":{\"gridcolor\":\"#E1E5ED\",\"showgrid\":true,\"tickfont\":{\"color\":\"#4D5663\"},\"title\":{\"font\":{\"color\":\"#4D5663\"},\"text\":\"\"},\"zerolinecolor\":\"#E1E5ED\"}},                        {\"showLink\": true, \"linkText\": \"Export to plot.ly\", \"plotlyServerURL\": \"https://plot.ly\", \"responsive\": true}                    ).then(function(){\n",
       "                            \n",
       "var gd = document.getElementById('93b1136e-3ac3-4750-8359-572ea3a062b1');\n",
       "var x = new MutationObserver(function (mutations, observer) {{\n",
       "        var display = window.getComputedStyle(gd).display;\n",
       "        if (!display || display === 'none') {{\n",
       "            console.log([gd, 'removed!']);\n",
       "            Plotly.purge(gd);\n",
       "            observer.disconnect();\n",
       "        }}\n",
       "}});\n",
       "\n",
       "// Listen for the removal of the full notebook cells\n",
       "var notebookContainer = gd.closest('#notebook-container');\n",
       "if (notebookContainer) {{\n",
       "    x.observe(notebookContainer, {childList: true});\n",
       "}}\n",
       "\n",
       "// Listen for the clearing of the current output cell\n",
       "var outputEl = gd.closest('.output');\n",
       "if (outputEl) {{\n",
       "    x.observe(outputEl, {childList: true});\n",
       "}}\n",
       "\n",
       "                        })                };                });            </script>        </div>"
      ]
     },
     "metadata": {},
     "output_type": "display_data"
    }
   ],
   "source": [
    "data1=bjp.sort_values('Total Votes').tail(10)\n",
    "data1.iplot(kind='bar',y='Total Votes',x='Parliament Constituency')"
   ]
  },
  {
   "cell_type": "markdown",
   "id": "3c92feef",
   "metadata": {},
   "source": [
    "**The Malkajgiri constituency has the highest number of votes for BJP, we can hence conclude that BJP has a higher number of chance of winning in those areas than in Chittorgarh.**"
   ]
  },
  {
   "cell_type": "code",
   "execution_count": 181,
   "id": "28ae71e0",
   "metadata": {},
   "outputs": [
    {
     "data": {
      "application/vnd.plotly.v1+json": {
       "config": {
        "linkText": "Export to plot.ly",
        "plotlyServerURL": "https://plot.ly",
        "showLink": true
       },
       "data": [
        {
         "marker": {
          "color": "rgba(255, 153, 51, 0.6)",
          "line": {
           "color": "rgba(255, 153, 51, 1.0)",
           "width": 1
          }
         },
         "name": "Margin",
         "orientation": "v",
         "text": "",
         "type": "bar",
         "x": [
          "Jajpur(8)",
          "JAIPUR RURAL(6)",
          "KANKER(11)",
          "Farrukhabad(40)",
          "Bansgaon(67)",
          "Phulpur(51)",
          "Mahbubnagar(11)",
          "Bishnupur(37)",
          "Balurghat(6)",
          "Meerut(10)"
         ],
         "y": [
          1587,
          1615,
          1884,
          2678,
          3150,
          4332,
          4500,
          5567,
          10386,
          10585
         ]
        }
       ],
       "layout": {
        "legend": {
         "bgcolor": "#F5F6F9",
         "font": {
          "color": "#4D5663"
         }
        },
        "paper_bgcolor": "#F5F6F9",
        "plot_bgcolor": "#F5F6F9",
        "template": {
         "data": {
          "bar": [
           {
            "error_x": {
             "color": "#2a3f5f"
            },
            "error_y": {
             "color": "#2a3f5f"
            },
            "marker": {
             "line": {
              "color": "#E5ECF6",
              "width": 0.5
             },
             "pattern": {
              "fillmode": "overlay",
              "size": 10,
              "solidity": 0.2
             }
            },
            "type": "bar"
           }
          ],
          "barpolar": [
           {
            "marker": {
             "line": {
              "color": "#E5ECF6",
              "width": 0.5
             },
             "pattern": {
              "fillmode": "overlay",
              "size": 10,
              "solidity": 0.2
             }
            },
            "type": "barpolar"
           }
          ],
          "carpet": [
           {
            "aaxis": {
             "endlinecolor": "#2a3f5f",
             "gridcolor": "white",
             "linecolor": "white",
             "minorgridcolor": "white",
             "startlinecolor": "#2a3f5f"
            },
            "baxis": {
             "endlinecolor": "#2a3f5f",
             "gridcolor": "white",
             "linecolor": "white",
             "minorgridcolor": "white",
             "startlinecolor": "#2a3f5f"
            },
            "type": "carpet"
           }
          ],
          "choropleth": [
           {
            "colorbar": {
             "outlinewidth": 0,
             "ticks": ""
            },
            "type": "choropleth"
           }
          ],
          "contour": [
           {
            "colorbar": {
             "outlinewidth": 0,
             "ticks": ""
            },
            "colorscale": [
             [
              0,
              "#0d0887"
             ],
             [
              0.1111111111111111,
              "#46039f"
             ],
             [
              0.2222222222222222,
              "#7201a8"
             ],
             [
              0.3333333333333333,
              "#9c179e"
             ],
             [
              0.4444444444444444,
              "#bd3786"
             ],
             [
              0.5555555555555556,
              "#d8576b"
             ],
             [
              0.6666666666666666,
              "#ed7953"
             ],
             [
              0.7777777777777778,
              "#fb9f3a"
             ],
             [
              0.8888888888888888,
              "#fdca26"
             ],
             [
              1,
              "#f0f921"
             ]
            ],
            "type": "contour"
           }
          ],
          "contourcarpet": [
           {
            "colorbar": {
             "outlinewidth": 0,
             "ticks": ""
            },
            "type": "contourcarpet"
           }
          ],
          "heatmap": [
           {
            "colorbar": {
             "outlinewidth": 0,
             "ticks": ""
            },
            "colorscale": [
             [
              0,
              "#0d0887"
             ],
             [
              0.1111111111111111,
              "#46039f"
             ],
             [
              0.2222222222222222,
              "#7201a8"
             ],
             [
              0.3333333333333333,
              "#9c179e"
             ],
             [
              0.4444444444444444,
              "#bd3786"
             ],
             [
              0.5555555555555556,
              "#d8576b"
             ],
             [
              0.6666666666666666,
              "#ed7953"
             ],
             [
              0.7777777777777778,
              "#fb9f3a"
             ],
             [
              0.8888888888888888,
              "#fdca26"
             ],
             [
              1,
              "#f0f921"
             ]
            ],
            "type": "heatmap"
           }
          ],
          "heatmapgl": [
           {
            "colorbar": {
             "outlinewidth": 0,
             "ticks": ""
            },
            "colorscale": [
             [
              0,
              "#0d0887"
             ],
             [
              0.1111111111111111,
              "#46039f"
             ],
             [
              0.2222222222222222,
              "#7201a8"
             ],
             [
              0.3333333333333333,
              "#9c179e"
             ],
             [
              0.4444444444444444,
              "#bd3786"
             ],
             [
              0.5555555555555556,
              "#d8576b"
             ],
             [
              0.6666666666666666,
              "#ed7953"
             ],
             [
              0.7777777777777778,
              "#fb9f3a"
             ],
             [
              0.8888888888888888,
              "#fdca26"
             ],
             [
              1,
              "#f0f921"
             ]
            ],
            "type": "heatmapgl"
           }
          ],
          "histogram": [
           {
            "marker": {
             "pattern": {
              "fillmode": "overlay",
              "size": 10,
              "solidity": 0.2
             }
            },
            "type": "histogram"
           }
          ],
          "histogram2d": [
           {
            "colorbar": {
             "outlinewidth": 0,
             "ticks": ""
            },
            "colorscale": [
             [
              0,
              "#0d0887"
             ],
             [
              0.1111111111111111,
              "#46039f"
             ],
             [
              0.2222222222222222,
              "#7201a8"
             ],
             [
              0.3333333333333333,
              "#9c179e"
             ],
             [
              0.4444444444444444,
              "#bd3786"
             ],
             [
              0.5555555555555556,
              "#d8576b"
             ],
             [
              0.6666666666666666,
              "#ed7953"
             ],
             [
              0.7777777777777778,
              "#fb9f3a"
             ],
             [
              0.8888888888888888,
              "#fdca26"
             ],
             [
              1,
              "#f0f921"
             ]
            ],
            "type": "histogram2d"
           }
          ],
          "histogram2dcontour": [
           {
            "colorbar": {
             "outlinewidth": 0,
             "ticks": ""
            },
            "colorscale": [
             [
              0,
              "#0d0887"
             ],
             [
              0.1111111111111111,
              "#46039f"
             ],
             [
              0.2222222222222222,
              "#7201a8"
             ],
             [
              0.3333333333333333,
              "#9c179e"
             ],
             [
              0.4444444444444444,
              "#bd3786"
             ],
             [
              0.5555555555555556,
              "#d8576b"
             ],
             [
              0.6666666666666666,
              "#ed7953"
             ],
             [
              0.7777777777777778,
              "#fb9f3a"
             ],
             [
              0.8888888888888888,
              "#fdca26"
             ],
             [
              1,
              "#f0f921"
             ]
            ],
            "type": "histogram2dcontour"
           }
          ],
          "mesh3d": [
           {
            "colorbar": {
             "outlinewidth": 0,
             "ticks": ""
            },
            "type": "mesh3d"
           }
          ],
          "parcoords": [
           {
            "line": {
             "colorbar": {
              "outlinewidth": 0,
              "ticks": ""
             }
            },
            "type": "parcoords"
           }
          ],
          "pie": [
           {
            "automargin": true,
            "type": "pie"
           }
          ],
          "scatter": [
           {
            "fillpattern": {
             "fillmode": "overlay",
             "size": 10,
             "solidity": 0.2
            },
            "type": "scatter"
           }
          ],
          "scatter3d": [
           {
            "line": {
             "colorbar": {
              "outlinewidth": 0,
              "ticks": ""
             }
            },
            "marker": {
             "colorbar": {
              "outlinewidth": 0,
              "ticks": ""
             }
            },
            "type": "scatter3d"
           }
          ],
          "scattercarpet": [
           {
            "marker": {
             "colorbar": {
              "outlinewidth": 0,
              "ticks": ""
             }
            },
            "type": "scattercarpet"
           }
          ],
          "scattergeo": [
           {
            "marker": {
             "colorbar": {
              "outlinewidth": 0,
              "ticks": ""
             }
            },
            "type": "scattergeo"
           }
          ],
          "scattergl": [
           {
            "marker": {
             "colorbar": {
              "outlinewidth": 0,
              "ticks": ""
             }
            },
            "type": "scattergl"
           }
          ],
          "scattermapbox": [
           {
            "marker": {
             "colorbar": {
              "outlinewidth": 0,
              "ticks": ""
             }
            },
            "type": "scattermapbox"
           }
          ],
          "scatterpolar": [
           {
            "marker": {
             "colorbar": {
              "outlinewidth": 0,
              "ticks": ""
             }
            },
            "type": "scatterpolar"
           }
          ],
          "scatterpolargl": [
           {
            "marker": {
             "colorbar": {
              "outlinewidth": 0,
              "ticks": ""
             }
            },
            "type": "scatterpolargl"
           }
          ],
          "scatterternary": [
           {
            "marker": {
             "colorbar": {
              "outlinewidth": 0,
              "ticks": ""
             }
            },
            "type": "scatterternary"
           }
          ],
          "surface": [
           {
            "colorbar": {
             "outlinewidth": 0,
             "ticks": ""
            },
            "colorscale": [
             [
              0,
              "#0d0887"
             ],
             [
              0.1111111111111111,
              "#46039f"
             ],
             [
              0.2222222222222222,
              "#7201a8"
             ],
             [
              0.3333333333333333,
              "#9c179e"
             ],
             [
              0.4444444444444444,
              "#bd3786"
             ],
             [
              0.5555555555555556,
              "#d8576b"
             ],
             [
              0.6666666666666666,
              "#ed7953"
             ],
             [
              0.7777777777777778,
              "#fb9f3a"
             ],
             [
              0.8888888888888888,
              "#fdca26"
             ],
             [
              1,
              "#f0f921"
             ]
            ],
            "type": "surface"
           }
          ],
          "table": [
           {
            "cells": {
             "fill": {
              "color": "#EBF0F8"
             },
             "line": {
              "color": "white"
             }
            },
            "header": {
             "fill": {
              "color": "#C8D4E3"
             },
             "line": {
              "color": "white"
             }
            },
            "type": "table"
           }
          ]
         },
         "layout": {
          "annotationdefaults": {
           "arrowcolor": "#2a3f5f",
           "arrowhead": 0,
           "arrowwidth": 1
          },
          "autotypenumbers": "strict",
          "coloraxis": {
           "colorbar": {
            "outlinewidth": 0,
            "ticks": ""
           }
          },
          "colorscale": {
           "diverging": [
            [
             0,
             "#8e0152"
            ],
            [
             0.1,
             "#c51b7d"
            ],
            [
             0.2,
             "#de77ae"
            ],
            [
             0.3,
             "#f1b6da"
            ],
            [
             0.4,
             "#fde0ef"
            ],
            [
             0.5,
             "#f7f7f7"
            ],
            [
             0.6,
             "#e6f5d0"
            ],
            [
             0.7,
             "#b8e186"
            ],
            [
             0.8,
             "#7fbc41"
            ],
            [
             0.9,
             "#4d9221"
            ],
            [
             1,
             "#276419"
            ]
           ],
           "sequential": [
            [
             0,
             "#0d0887"
            ],
            [
             0.1111111111111111,
             "#46039f"
            ],
            [
             0.2222222222222222,
             "#7201a8"
            ],
            [
             0.3333333333333333,
             "#9c179e"
            ],
            [
             0.4444444444444444,
             "#bd3786"
            ],
            [
             0.5555555555555556,
             "#d8576b"
            ],
            [
             0.6666666666666666,
             "#ed7953"
            ],
            [
             0.7777777777777778,
             "#fb9f3a"
            ],
            [
             0.8888888888888888,
             "#fdca26"
            ],
            [
             1,
             "#f0f921"
            ]
           ],
           "sequentialminus": [
            [
             0,
             "#0d0887"
            ],
            [
             0.1111111111111111,
             "#46039f"
            ],
            [
             0.2222222222222222,
             "#7201a8"
            ],
            [
             0.3333333333333333,
             "#9c179e"
            ],
            [
             0.4444444444444444,
             "#bd3786"
            ],
            [
             0.5555555555555556,
             "#d8576b"
            ],
            [
             0.6666666666666666,
             "#ed7953"
            ],
            [
             0.7777777777777778,
             "#fb9f3a"
            ],
            [
             0.8888888888888888,
             "#fdca26"
            ],
            [
             1,
             "#f0f921"
            ]
           ]
          },
          "colorway": [
           "#636efa",
           "#EF553B",
           "#00cc96",
           "#ab63fa",
           "#FFA15A",
           "#19d3f3",
           "#FF6692",
           "#B6E880",
           "#FF97FF",
           "#FECB52"
          ],
          "font": {
           "color": "#2a3f5f"
          },
          "geo": {
           "bgcolor": "white",
           "lakecolor": "white",
           "landcolor": "#E5ECF6",
           "showlakes": true,
           "showland": true,
           "subunitcolor": "white"
          },
          "hoverlabel": {
           "align": "left"
          },
          "hovermode": "closest",
          "mapbox": {
           "style": "light"
          },
          "paper_bgcolor": "white",
          "plot_bgcolor": "#E5ECF6",
          "polar": {
           "angularaxis": {
            "gridcolor": "white",
            "linecolor": "white",
            "ticks": ""
           },
           "bgcolor": "#E5ECF6",
           "radialaxis": {
            "gridcolor": "white",
            "linecolor": "white",
            "ticks": ""
           }
          },
          "scene": {
           "xaxis": {
            "backgroundcolor": "#E5ECF6",
            "gridcolor": "white",
            "gridwidth": 2,
            "linecolor": "white",
            "showbackground": true,
            "ticks": "",
            "zerolinecolor": "white"
           },
           "yaxis": {
            "backgroundcolor": "#E5ECF6",
            "gridcolor": "white",
            "gridwidth": 2,
            "linecolor": "white",
            "showbackground": true,
            "ticks": "",
            "zerolinecolor": "white"
           },
           "zaxis": {
            "backgroundcolor": "#E5ECF6",
            "gridcolor": "white",
            "gridwidth": 2,
            "linecolor": "white",
            "showbackground": true,
            "ticks": "",
            "zerolinecolor": "white"
           }
          },
          "shapedefaults": {
           "line": {
            "color": "#2a3f5f"
           }
          },
          "ternary": {
           "aaxis": {
            "gridcolor": "white",
            "linecolor": "white",
            "ticks": ""
           },
           "baxis": {
            "gridcolor": "white",
            "linecolor": "white",
            "ticks": ""
           },
           "bgcolor": "#E5ECF6",
           "caxis": {
            "gridcolor": "white",
            "linecolor": "white",
            "ticks": ""
           }
          },
          "title": {
           "x": 0.05
          },
          "xaxis": {
           "automargin": true,
           "gridcolor": "white",
           "linecolor": "white",
           "ticks": "",
           "title": {
            "standoff": 15
           },
           "zerolinecolor": "white",
           "zerolinewidth": 2
          },
          "yaxis": {
           "automargin": true,
           "gridcolor": "white",
           "linecolor": "white",
           "ticks": "",
           "title": {
            "standoff": 15
           },
           "zerolinecolor": "white",
           "zerolinewidth": 2
          }
         }
        },
        "title": {
         "font": {
          "color": "#4D5663"
         }
        },
        "xaxis": {
         "gridcolor": "#E1E5ED",
         "showgrid": true,
         "tickfont": {
          "color": "#4D5663"
         },
         "title": {
          "font": {
           "color": "#4D5663"
          },
          "text": ""
         },
         "zerolinecolor": "#E1E5ED"
        },
        "yaxis": {
         "gridcolor": "#E1E5ED",
         "showgrid": true,
         "tickfont": {
          "color": "#4D5663"
         },
         "title": {
          "font": {
           "color": "#4D5663"
          },
          "text": ""
         },
         "zerolinecolor": "#E1E5ED"
        }
       }
      },
      "text/html": [
       "<div>                            <div id=\"e75b7a23-52e3-4a2d-91b6-f17772ef4cfa\" class=\"plotly-graph-div\" style=\"height:525px; width:100%;\"></div>            <script type=\"text/javascript\">                require([\"plotly\"], function(Plotly) {                    window.PLOTLYENV=window.PLOTLYENV || {};\n",
       "                    window.PLOTLYENV.BASE_URL='https://plot.ly';                                    if (document.getElementById(\"e75b7a23-52e3-4a2d-91b6-f17772ef4cfa\")) {                    Plotly.newPlot(                        \"e75b7a23-52e3-4a2d-91b6-f17772ef4cfa\",                        [{\"marker\":{\"color\":\"rgba(255, 153, 51, 0.6)\",\"line\":{\"color\":\"rgba(255, 153, 51, 1.0)\",\"width\":1}},\"name\":\"Margin\",\"orientation\":\"v\",\"text\":\"\",\"x\":[\"Jajpur(8)\",\"JAIPUR RURAL(6)\",\"KANKER(11)\",\"Farrukhabad(40)\",\"Bansgaon(67)\",\"Phulpur(51)\",\"Mahbubnagar(11)\",\"Bishnupur(37)\",\"Balurghat(6)\",\"Meerut(10)\"],\"y\":[1587,1615,1884,2678,3150,4332,4500,5567,10386,10585],\"type\":\"bar\"}],                        {\"legend\":{\"bgcolor\":\"#F5F6F9\",\"font\":{\"color\":\"#4D5663\"}},\"paper_bgcolor\":\"#F5F6F9\",\"plot_bgcolor\":\"#F5F6F9\",\"template\":{\"data\":{\"barpolar\":[{\"marker\":{\"line\":{\"color\":\"#E5ECF6\",\"width\":0.5},\"pattern\":{\"fillmode\":\"overlay\",\"size\":10,\"solidity\":0.2}},\"type\":\"barpolar\"}],\"bar\":[{\"error_x\":{\"color\":\"#2a3f5f\"},\"error_y\":{\"color\":\"#2a3f5f\"},\"marker\":{\"line\":{\"color\":\"#E5ECF6\",\"width\":0.5},\"pattern\":{\"fillmode\":\"overlay\",\"size\":10,\"solidity\":0.2}},\"type\":\"bar\"}],\"carpet\":[{\"aaxis\":{\"endlinecolor\":\"#2a3f5f\",\"gridcolor\":\"white\",\"linecolor\":\"white\",\"minorgridcolor\":\"white\",\"startlinecolor\":\"#2a3f5f\"},\"baxis\":{\"endlinecolor\":\"#2a3f5f\",\"gridcolor\":\"white\",\"linecolor\":\"white\",\"minorgridcolor\":\"white\",\"startlinecolor\":\"#2a3f5f\"},\"type\":\"carpet\"}],\"choropleth\":[{\"colorbar\":{\"outlinewidth\":0,\"ticks\":\"\"},\"type\":\"choropleth\"}],\"contourcarpet\":[{\"colorbar\":{\"outlinewidth\":0,\"ticks\":\"\"},\"type\":\"contourcarpet\"}],\"contour\":[{\"colorbar\":{\"outlinewidth\":0,\"ticks\":\"\"},\"colorscale\":[[0.0,\"#0d0887\"],[0.1111111111111111,\"#46039f\"],[0.2222222222222222,\"#7201a8\"],[0.3333333333333333,\"#9c179e\"],[0.4444444444444444,\"#bd3786\"],[0.5555555555555556,\"#d8576b\"],[0.6666666666666666,\"#ed7953\"],[0.7777777777777778,\"#fb9f3a\"],[0.8888888888888888,\"#fdca26\"],[1.0,\"#f0f921\"]],\"type\":\"contour\"}],\"heatmapgl\":[{\"colorbar\":{\"outlinewidth\":0,\"ticks\":\"\"},\"colorscale\":[[0.0,\"#0d0887\"],[0.1111111111111111,\"#46039f\"],[0.2222222222222222,\"#7201a8\"],[0.3333333333333333,\"#9c179e\"],[0.4444444444444444,\"#bd3786\"],[0.5555555555555556,\"#d8576b\"],[0.6666666666666666,\"#ed7953\"],[0.7777777777777778,\"#fb9f3a\"],[0.8888888888888888,\"#fdca26\"],[1.0,\"#f0f921\"]],\"type\":\"heatmapgl\"}],\"heatmap\":[{\"colorbar\":{\"outlinewidth\":0,\"ticks\":\"\"},\"colorscale\":[[0.0,\"#0d0887\"],[0.1111111111111111,\"#46039f\"],[0.2222222222222222,\"#7201a8\"],[0.3333333333333333,\"#9c179e\"],[0.4444444444444444,\"#bd3786\"],[0.5555555555555556,\"#d8576b\"],[0.6666666666666666,\"#ed7953\"],[0.7777777777777778,\"#fb9f3a\"],[0.8888888888888888,\"#fdca26\"],[1.0,\"#f0f921\"]],\"type\":\"heatmap\"}],\"histogram2dcontour\":[{\"colorbar\":{\"outlinewidth\":0,\"ticks\":\"\"},\"colorscale\":[[0.0,\"#0d0887\"],[0.1111111111111111,\"#46039f\"],[0.2222222222222222,\"#7201a8\"],[0.3333333333333333,\"#9c179e\"],[0.4444444444444444,\"#bd3786\"],[0.5555555555555556,\"#d8576b\"],[0.6666666666666666,\"#ed7953\"],[0.7777777777777778,\"#fb9f3a\"],[0.8888888888888888,\"#fdca26\"],[1.0,\"#f0f921\"]],\"type\":\"histogram2dcontour\"}],\"histogram2d\":[{\"colorbar\":{\"outlinewidth\":0,\"ticks\":\"\"},\"colorscale\":[[0.0,\"#0d0887\"],[0.1111111111111111,\"#46039f\"],[0.2222222222222222,\"#7201a8\"],[0.3333333333333333,\"#9c179e\"],[0.4444444444444444,\"#bd3786\"],[0.5555555555555556,\"#d8576b\"],[0.6666666666666666,\"#ed7953\"],[0.7777777777777778,\"#fb9f3a\"],[0.8888888888888888,\"#fdca26\"],[1.0,\"#f0f921\"]],\"type\":\"histogram2d\"}],\"histogram\":[{\"marker\":{\"pattern\":{\"fillmode\":\"overlay\",\"size\":10,\"solidity\":0.2}},\"type\":\"histogram\"}],\"mesh3d\":[{\"colorbar\":{\"outlinewidth\":0,\"ticks\":\"\"},\"type\":\"mesh3d\"}],\"parcoords\":[{\"line\":{\"colorbar\":{\"outlinewidth\":0,\"ticks\":\"\"}},\"type\":\"parcoords\"}],\"pie\":[{\"automargin\":true,\"type\":\"pie\"}],\"scatter3d\":[{\"line\":{\"colorbar\":{\"outlinewidth\":0,\"ticks\":\"\"}},\"marker\":{\"colorbar\":{\"outlinewidth\":0,\"ticks\":\"\"}},\"type\":\"scatter3d\"}],\"scattercarpet\":[{\"marker\":{\"colorbar\":{\"outlinewidth\":0,\"ticks\":\"\"}},\"type\":\"scattercarpet\"}],\"scattergeo\":[{\"marker\":{\"colorbar\":{\"outlinewidth\":0,\"ticks\":\"\"}},\"type\":\"scattergeo\"}],\"scattergl\":[{\"marker\":{\"colorbar\":{\"outlinewidth\":0,\"ticks\":\"\"}},\"type\":\"scattergl\"}],\"scattermapbox\":[{\"marker\":{\"colorbar\":{\"outlinewidth\":0,\"ticks\":\"\"}},\"type\":\"scattermapbox\"}],\"scatterpolargl\":[{\"marker\":{\"colorbar\":{\"outlinewidth\":0,\"ticks\":\"\"}},\"type\":\"scatterpolargl\"}],\"scatterpolar\":[{\"marker\":{\"colorbar\":{\"outlinewidth\":0,\"ticks\":\"\"}},\"type\":\"scatterpolar\"}],\"scatter\":[{\"fillpattern\":{\"fillmode\":\"overlay\",\"size\":10,\"solidity\":0.2},\"type\":\"scatter\"}],\"scatterternary\":[{\"marker\":{\"colorbar\":{\"outlinewidth\":0,\"ticks\":\"\"}},\"type\":\"scatterternary\"}],\"surface\":[{\"colorbar\":{\"outlinewidth\":0,\"ticks\":\"\"},\"colorscale\":[[0.0,\"#0d0887\"],[0.1111111111111111,\"#46039f\"],[0.2222222222222222,\"#7201a8\"],[0.3333333333333333,\"#9c179e\"],[0.4444444444444444,\"#bd3786\"],[0.5555555555555556,\"#d8576b\"],[0.6666666666666666,\"#ed7953\"],[0.7777777777777778,\"#fb9f3a\"],[0.8888888888888888,\"#fdca26\"],[1.0,\"#f0f921\"]],\"type\":\"surface\"}],\"table\":[{\"cells\":{\"fill\":{\"color\":\"#EBF0F8\"},\"line\":{\"color\":\"white\"}},\"header\":{\"fill\":{\"color\":\"#C8D4E3\"},\"line\":{\"color\":\"white\"}},\"type\":\"table\"}]},\"layout\":{\"annotationdefaults\":{\"arrowcolor\":\"#2a3f5f\",\"arrowhead\":0,\"arrowwidth\":1},\"autotypenumbers\":\"strict\",\"coloraxis\":{\"colorbar\":{\"outlinewidth\":0,\"ticks\":\"\"}},\"colorscale\":{\"diverging\":[[0,\"#8e0152\"],[0.1,\"#c51b7d\"],[0.2,\"#de77ae\"],[0.3,\"#f1b6da\"],[0.4,\"#fde0ef\"],[0.5,\"#f7f7f7\"],[0.6,\"#e6f5d0\"],[0.7,\"#b8e186\"],[0.8,\"#7fbc41\"],[0.9,\"#4d9221\"],[1,\"#276419\"]],\"sequential\":[[0.0,\"#0d0887\"],[0.1111111111111111,\"#46039f\"],[0.2222222222222222,\"#7201a8\"],[0.3333333333333333,\"#9c179e\"],[0.4444444444444444,\"#bd3786\"],[0.5555555555555556,\"#d8576b\"],[0.6666666666666666,\"#ed7953\"],[0.7777777777777778,\"#fb9f3a\"],[0.8888888888888888,\"#fdca26\"],[1.0,\"#f0f921\"]],\"sequentialminus\":[[0.0,\"#0d0887\"],[0.1111111111111111,\"#46039f\"],[0.2222222222222222,\"#7201a8\"],[0.3333333333333333,\"#9c179e\"],[0.4444444444444444,\"#bd3786\"],[0.5555555555555556,\"#d8576b\"],[0.6666666666666666,\"#ed7953\"],[0.7777777777777778,\"#fb9f3a\"],[0.8888888888888888,\"#fdca26\"],[1.0,\"#f0f921\"]]},\"colorway\":[\"#636efa\",\"#EF553B\",\"#00cc96\",\"#ab63fa\",\"#FFA15A\",\"#19d3f3\",\"#FF6692\",\"#B6E880\",\"#FF97FF\",\"#FECB52\"],\"font\":{\"color\":\"#2a3f5f\"},\"geo\":{\"bgcolor\":\"white\",\"lakecolor\":\"white\",\"landcolor\":\"#E5ECF6\",\"showlakes\":true,\"showland\":true,\"subunitcolor\":\"white\"},\"hoverlabel\":{\"align\":\"left\"},\"hovermode\":\"closest\",\"mapbox\":{\"style\":\"light\"},\"paper_bgcolor\":\"white\",\"plot_bgcolor\":\"#E5ECF6\",\"polar\":{\"angularaxis\":{\"gridcolor\":\"white\",\"linecolor\":\"white\",\"ticks\":\"\"},\"bgcolor\":\"#E5ECF6\",\"radialaxis\":{\"gridcolor\":\"white\",\"linecolor\":\"white\",\"ticks\":\"\"}},\"scene\":{\"xaxis\":{\"backgroundcolor\":\"#E5ECF6\",\"gridcolor\":\"white\",\"gridwidth\":2,\"linecolor\":\"white\",\"showbackground\":true,\"ticks\":\"\",\"zerolinecolor\":\"white\"},\"yaxis\":{\"backgroundcolor\":\"#E5ECF6\",\"gridcolor\":\"white\",\"gridwidth\":2,\"linecolor\":\"white\",\"showbackground\":true,\"ticks\":\"\",\"zerolinecolor\":\"white\"},\"zaxis\":{\"backgroundcolor\":\"#E5ECF6\",\"gridcolor\":\"white\",\"gridwidth\":2,\"linecolor\":\"white\",\"showbackground\":true,\"ticks\":\"\",\"zerolinecolor\":\"white\"}},\"shapedefaults\":{\"line\":{\"color\":\"#2a3f5f\"}},\"ternary\":{\"aaxis\":{\"gridcolor\":\"white\",\"linecolor\":\"white\",\"ticks\":\"\"},\"baxis\":{\"gridcolor\":\"white\",\"linecolor\":\"white\",\"ticks\":\"\"},\"bgcolor\":\"#E5ECF6\",\"caxis\":{\"gridcolor\":\"white\",\"linecolor\":\"white\",\"ticks\":\"\"}},\"title\":{\"x\":0.05},\"xaxis\":{\"automargin\":true,\"gridcolor\":\"white\",\"linecolor\":\"white\",\"ticks\":\"\",\"title\":{\"standoff\":15},\"zerolinecolor\":\"white\",\"zerolinewidth\":2},\"yaxis\":{\"automargin\":true,\"gridcolor\":\"white\",\"linecolor\":\"white\",\"ticks\":\"\",\"title\":{\"standoff\":15},\"zerolinecolor\":\"white\",\"zerolinewidth\":2}}},\"title\":{\"font\":{\"color\":\"#4D5663\"}},\"xaxis\":{\"gridcolor\":\"#E1E5ED\",\"showgrid\":true,\"tickfont\":{\"color\":\"#4D5663\"},\"title\":{\"font\":{\"color\":\"#4D5663\"},\"text\":\"\"},\"zerolinecolor\":\"#E1E5ED\"},\"yaxis\":{\"gridcolor\":\"#E1E5ED\",\"showgrid\":true,\"tickfont\":{\"color\":\"#4D5663\"},\"title\":{\"font\":{\"color\":\"#4D5663\"},\"text\":\"\"},\"zerolinecolor\":\"#E1E5ED\"}},                        {\"showLink\": true, \"linkText\": \"Export to plot.ly\", \"plotlyServerURL\": \"https://plot.ly\", \"responsive\": true}                    ).then(function(){\n",
       "                            \n",
       "var gd = document.getElementById('e75b7a23-52e3-4a2d-91b6-f17772ef4cfa');\n",
       "var x = new MutationObserver(function (mutations, observer) {{\n",
       "        var display = window.getComputedStyle(gd).display;\n",
       "        if (!display || display === 'none') {{\n",
       "            console.log([gd, 'removed!']);\n",
       "            Plotly.purge(gd);\n",
       "            observer.disconnect();\n",
       "        }}\n",
       "}});\n",
       "\n",
       "// Listen for the removal of the full notebook cells\n",
       "var notebookContainer = gd.closest('#notebook-container');\n",
       "if (notebookContainer) {{\n",
       "    x.observe(notebookContainer, {childList: true});\n",
       "}}\n",
       "\n",
       "// Listen for the clearing of the current output cell\n",
       "var outputEl = gd.closest('.output');\n",
       "if (outputEl) {{\n",
       "    x.observe(outputEl, {childList: true});\n",
       "}}\n",
       "\n",
       "                        })                };                });            </script>        </div>"
      ]
     },
     "metadata": {},
     "output_type": "display_data"
    }
   ],
   "source": [
    "bjp.sort_values('Margin').head(10).iplot(kind='bar',y='Margin',x='Parliament Constituency')"
   ]
  },
  {
   "cell_type": "code",
   "execution_count": 182,
   "id": "c6922bc4",
   "metadata": {},
   "outputs": [
    {
     "data": {
      "application/vnd.plotly.v1+json": {
       "config": {
        "linkText": "Export to plot.ly",
        "plotlyServerURL": "https://plot.ly",
        "showLink": true
       },
       "data": [
        {
         "marker": {
          "color": "rgba(255, 153, 51, 0.6)",
          "line": {
           "color": "rgba(255, 153, 51, 1.0)",
           "width": 1
          }
         },
         "name": "Margin",
         "orientation": "v",
         "text": "",
         "type": "bar",
         "x": [
          "GUNA(4)",
          "KHAJURAHO(8)",
          "Gautam Buddha Nagar(13)",
          "RAIPUR(8)",
          "Vadodara(20)",
          "Tripura West(1)",
          "Gandhinagar(6)",
          "Navsari(25)",
          "VIDISHA(18)",
          "INDORE(26)"
         ],
         "y": [
          540929,
          541229,
          559472,
          575285,
          582126,
          611578,
          744716,
          773551,
          821408,
          1175092
         ]
        }
       ],
       "layout": {
        "legend": {
         "bgcolor": "#F5F6F9",
         "font": {
          "color": "#4D5663"
         }
        },
        "paper_bgcolor": "#F5F6F9",
        "plot_bgcolor": "#F5F6F9",
        "template": {
         "data": {
          "bar": [
           {
            "error_x": {
             "color": "#2a3f5f"
            },
            "error_y": {
             "color": "#2a3f5f"
            },
            "marker": {
             "line": {
              "color": "#E5ECF6",
              "width": 0.5
             },
             "pattern": {
              "fillmode": "overlay",
              "size": 10,
              "solidity": 0.2
             }
            },
            "type": "bar"
           }
          ],
          "barpolar": [
           {
            "marker": {
             "line": {
              "color": "#E5ECF6",
              "width": 0.5
             },
             "pattern": {
              "fillmode": "overlay",
              "size": 10,
              "solidity": 0.2
             }
            },
            "type": "barpolar"
           }
          ],
          "carpet": [
           {
            "aaxis": {
             "endlinecolor": "#2a3f5f",
             "gridcolor": "white",
             "linecolor": "white",
             "minorgridcolor": "white",
             "startlinecolor": "#2a3f5f"
            },
            "baxis": {
             "endlinecolor": "#2a3f5f",
             "gridcolor": "white",
             "linecolor": "white",
             "minorgridcolor": "white",
             "startlinecolor": "#2a3f5f"
            },
            "type": "carpet"
           }
          ],
          "choropleth": [
           {
            "colorbar": {
             "outlinewidth": 0,
             "ticks": ""
            },
            "type": "choropleth"
           }
          ],
          "contour": [
           {
            "colorbar": {
             "outlinewidth": 0,
             "ticks": ""
            },
            "colorscale": [
             [
              0,
              "#0d0887"
             ],
             [
              0.1111111111111111,
              "#46039f"
             ],
             [
              0.2222222222222222,
              "#7201a8"
             ],
             [
              0.3333333333333333,
              "#9c179e"
             ],
             [
              0.4444444444444444,
              "#bd3786"
             ],
             [
              0.5555555555555556,
              "#d8576b"
             ],
             [
              0.6666666666666666,
              "#ed7953"
             ],
             [
              0.7777777777777778,
              "#fb9f3a"
             ],
             [
              0.8888888888888888,
              "#fdca26"
             ],
             [
              1,
              "#f0f921"
             ]
            ],
            "type": "contour"
           }
          ],
          "contourcarpet": [
           {
            "colorbar": {
             "outlinewidth": 0,
             "ticks": ""
            },
            "type": "contourcarpet"
           }
          ],
          "heatmap": [
           {
            "colorbar": {
             "outlinewidth": 0,
             "ticks": ""
            },
            "colorscale": [
             [
              0,
              "#0d0887"
             ],
             [
              0.1111111111111111,
              "#46039f"
             ],
             [
              0.2222222222222222,
              "#7201a8"
             ],
             [
              0.3333333333333333,
              "#9c179e"
             ],
             [
              0.4444444444444444,
              "#bd3786"
             ],
             [
              0.5555555555555556,
              "#d8576b"
             ],
             [
              0.6666666666666666,
              "#ed7953"
             ],
             [
              0.7777777777777778,
              "#fb9f3a"
             ],
             [
              0.8888888888888888,
              "#fdca26"
             ],
             [
              1,
              "#f0f921"
             ]
            ],
            "type": "heatmap"
           }
          ],
          "heatmapgl": [
           {
            "colorbar": {
             "outlinewidth": 0,
             "ticks": ""
            },
            "colorscale": [
             [
              0,
              "#0d0887"
             ],
             [
              0.1111111111111111,
              "#46039f"
             ],
             [
              0.2222222222222222,
              "#7201a8"
             ],
             [
              0.3333333333333333,
              "#9c179e"
             ],
             [
              0.4444444444444444,
              "#bd3786"
             ],
             [
              0.5555555555555556,
              "#d8576b"
             ],
             [
              0.6666666666666666,
              "#ed7953"
             ],
             [
              0.7777777777777778,
              "#fb9f3a"
             ],
             [
              0.8888888888888888,
              "#fdca26"
             ],
             [
              1,
              "#f0f921"
             ]
            ],
            "type": "heatmapgl"
           }
          ],
          "histogram": [
           {
            "marker": {
             "pattern": {
              "fillmode": "overlay",
              "size": 10,
              "solidity": 0.2
             }
            },
            "type": "histogram"
           }
          ],
          "histogram2d": [
           {
            "colorbar": {
             "outlinewidth": 0,
             "ticks": ""
            },
            "colorscale": [
             [
              0,
              "#0d0887"
             ],
             [
              0.1111111111111111,
              "#46039f"
             ],
             [
              0.2222222222222222,
              "#7201a8"
             ],
             [
              0.3333333333333333,
              "#9c179e"
             ],
             [
              0.4444444444444444,
              "#bd3786"
             ],
             [
              0.5555555555555556,
              "#d8576b"
             ],
             [
              0.6666666666666666,
              "#ed7953"
             ],
             [
              0.7777777777777778,
              "#fb9f3a"
             ],
             [
              0.8888888888888888,
              "#fdca26"
             ],
             [
              1,
              "#f0f921"
             ]
            ],
            "type": "histogram2d"
           }
          ],
          "histogram2dcontour": [
           {
            "colorbar": {
             "outlinewidth": 0,
             "ticks": ""
            },
            "colorscale": [
             [
              0,
              "#0d0887"
             ],
             [
              0.1111111111111111,
              "#46039f"
             ],
             [
              0.2222222222222222,
              "#7201a8"
             ],
             [
              0.3333333333333333,
              "#9c179e"
             ],
             [
              0.4444444444444444,
              "#bd3786"
             ],
             [
              0.5555555555555556,
              "#d8576b"
             ],
             [
              0.6666666666666666,
              "#ed7953"
             ],
             [
              0.7777777777777778,
              "#fb9f3a"
             ],
             [
              0.8888888888888888,
              "#fdca26"
             ],
             [
              1,
              "#f0f921"
             ]
            ],
            "type": "histogram2dcontour"
           }
          ],
          "mesh3d": [
           {
            "colorbar": {
             "outlinewidth": 0,
             "ticks": ""
            },
            "type": "mesh3d"
           }
          ],
          "parcoords": [
           {
            "line": {
             "colorbar": {
              "outlinewidth": 0,
              "ticks": ""
             }
            },
            "type": "parcoords"
           }
          ],
          "pie": [
           {
            "automargin": true,
            "type": "pie"
           }
          ],
          "scatter": [
           {
            "fillpattern": {
             "fillmode": "overlay",
             "size": 10,
             "solidity": 0.2
            },
            "type": "scatter"
           }
          ],
          "scatter3d": [
           {
            "line": {
             "colorbar": {
              "outlinewidth": 0,
              "ticks": ""
             }
            },
            "marker": {
             "colorbar": {
              "outlinewidth": 0,
              "ticks": ""
             }
            },
            "type": "scatter3d"
           }
          ],
          "scattercarpet": [
           {
            "marker": {
             "colorbar": {
              "outlinewidth": 0,
              "ticks": ""
             }
            },
            "type": "scattercarpet"
           }
          ],
          "scattergeo": [
           {
            "marker": {
             "colorbar": {
              "outlinewidth": 0,
              "ticks": ""
             }
            },
            "type": "scattergeo"
           }
          ],
          "scattergl": [
           {
            "marker": {
             "colorbar": {
              "outlinewidth": 0,
              "ticks": ""
             }
            },
            "type": "scattergl"
           }
          ],
          "scattermapbox": [
           {
            "marker": {
             "colorbar": {
              "outlinewidth": 0,
              "ticks": ""
             }
            },
            "type": "scattermapbox"
           }
          ],
          "scatterpolar": [
           {
            "marker": {
             "colorbar": {
              "outlinewidth": 0,
              "ticks": ""
             }
            },
            "type": "scatterpolar"
           }
          ],
          "scatterpolargl": [
           {
            "marker": {
             "colorbar": {
              "outlinewidth": 0,
              "ticks": ""
             }
            },
            "type": "scatterpolargl"
           }
          ],
          "scatterternary": [
           {
            "marker": {
             "colorbar": {
              "outlinewidth": 0,
              "ticks": ""
             }
            },
            "type": "scatterternary"
           }
          ],
          "surface": [
           {
            "colorbar": {
             "outlinewidth": 0,
             "ticks": ""
            },
            "colorscale": [
             [
              0,
              "#0d0887"
             ],
             [
              0.1111111111111111,
              "#46039f"
             ],
             [
              0.2222222222222222,
              "#7201a8"
             ],
             [
              0.3333333333333333,
              "#9c179e"
             ],
             [
              0.4444444444444444,
              "#bd3786"
             ],
             [
              0.5555555555555556,
              "#d8576b"
             ],
             [
              0.6666666666666666,
              "#ed7953"
             ],
             [
              0.7777777777777778,
              "#fb9f3a"
             ],
             [
              0.8888888888888888,
              "#fdca26"
             ],
             [
              1,
              "#f0f921"
             ]
            ],
            "type": "surface"
           }
          ],
          "table": [
           {
            "cells": {
             "fill": {
              "color": "#EBF0F8"
             },
             "line": {
              "color": "white"
             }
            },
            "header": {
             "fill": {
              "color": "#C8D4E3"
             },
             "line": {
              "color": "white"
             }
            },
            "type": "table"
           }
          ]
         },
         "layout": {
          "annotationdefaults": {
           "arrowcolor": "#2a3f5f",
           "arrowhead": 0,
           "arrowwidth": 1
          },
          "autotypenumbers": "strict",
          "coloraxis": {
           "colorbar": {
            "outlinewidth": 0,
            "ticks": ""
           }
          },
          "colorscale": {
           "diverging": [
            [
             0,
             "#8e0152"
            ],
            [
             0.1,
             "#c51b7d"
            ],
            [
             0.2,
             "#de77ae"
            ],
            [
             0.3,
             "#f1b6da"
            ],
            [
             0.4,
             "#fde0ef"
            ],
            [
             0.5,
             "#f7f7f7"
            ],
            [
             0.6,
             "#e6f5d0"
            ],
            [
             0.7,
             "#b8e186"
            ],
            [
             0.8,
             "#7fbc41"
            ],
            [
             0.9,
             "#4d9221"
            ],
            [
             1,
             "#276419"
            ]
           ],
           "sequential": [
            [
             0,
             "#0d0887"
            ],
            [
             0.1111111111111111,
             "#46039f"
            ],
            [
             0.2222222222222222,
             "#7201a8"
            ],
            [
             0.3333333333333333,
             "#9c179e"
            ],
            [
             0.4444444444444444,
             "#bd3786"
            ],
            [
             0.5555555555555556,
             "#d8576b"
            ],
            [
             0.6666666666666666,
             "#ed7953"
            ],
            [
             0.7777777777777778,
             "#fb9f3a"
            ],
            [
             0.8888888888888888,
             "#fdca26"
            ],
            [
             1,
             "#f0f921"
            ]
           ],
           "sequentialminus": [
            [
             0,
             "#0d0887"
            ],
            [
             0.1111111111111111,
             "#46039f"
            ],
            [
             0.2222222222222222,
             "#7201a8"
            ],
            [
             0.3333333333333333,
             "#9c179e"
            ],
            [
             0.4444444444444444,
             "#bd3786"
            ],
            [
             0.5555555555555556,
             "#d8576b"
            ],
            [
             0.6666666666666666,
             "#ed7953"
            ],
            [
             0.7777777777777778,
             "#fb9f3a"
            ],
            [
             0.8888888888888888,
             "#fdca26"
            ],
            [
             1,
             "#f0f921"
            ]
           ]
          },
          "colorway": [
           "#636efa",
           "#EF553B",
           "#00cc96",
           "#ab63fa",
           "#FFA15A",
           "#19d3f3",
           "#FF6692",
           "#B6E880",
           "#FF97FF",
           "#FECB52"
          ],
          "font": {
           "color": "#2a3f5f"
          },
          "geo": {
           "bgcolor": "white",
           "lakecolor": "white",
           "landcolor": "#E5ECF6",
           "showlakes": true,
           "showland": true,
           "subunitcolor": "white"
          },
          "hoverlabel": {
           "align": "left"
          },
          "hovermode": "closest",
          "mapbox": {
           "style": "light"
          },
          "paper_bgcolor": "white",
          "plot_bgcolor": "#E5ECF6",
          "polar": {
           "angularaxis": {
            "gridcolor": "white",
            "linecolor": "white",
            "ticks": ""
           },
           "bgcolor": "#E5ECF6",
           "radialaxis": {
            "gridcolor": "white",
            "linecolor": "white",
            "ticks": ""
           }
          },
          "scene": {
           "xaxis": {
            "backgroundcolor": "#E5ECF6",
            "gridcolor": "white",
            "gridwidth": 2,
            "linecolor": "white",
            "showbackground": true,
            "ticks": "",
            "zerolinecolor": "white"
           },
           "yaxis": {
            "backgroundcolor": "#E5ECF6",
            "gridcolor": "white",
            "gridwidth": 2,
            "linecolor": "white",
            "showbackground": true,
            "ticks": "",
            "zerolinecolor": "white"
           },
           "zaxis": {
            "backgroundcolor": "#E5ECF6",
            "gridcolor": "white",
            "gridwidth": 2,
            "linecolor": "white",
            "showbackground": true,
            "ticks": "",
            "zerolinecolor": "white"
           }
          },
          "shapedefaults": {
           "line": {
            "color": "#2a3f5f"
           }
          },
          "ternary": {
           "aaxis": {
            "gridcolor": "white",
            "linecolor": "white",
            "ticks": ""
           },
           "baxis": {
            "gridcolor": "white",
            "linecolor": "white",
            "ticks": ""
           },
           "bgcolor": "#E5ECF6",
           "caxis": {
            "gridcolor": "white",
            "linecolor": "white",
            "ticks": ""
           }
          },
          "title": {
           "x": 0.05
          },
          "xaxis": {
           "automargin": true,
           "gridcolor": "white",
           "linecolor": "white",
           "ticks": "",
           "title": {
            "standoff": 15
           },
           "zerolinecolor": "white",
           "zerolinewidth": 2
          },
          "yaxis": {
           "automargin": true,
           "gridcolor": "white",
           "linecolor": "white",
           "ticks": "",
           "title": {
            "standoff": 15
           },
           "zerolinecolor": "white",
           "zerolinewidth": 2
          }
         }
        },
        "title": {
         "font": {
          "color": "#4D5663"
         }
        },
        "xaxis": {
         "gridcolor": "#E1E5ED",
         "showgrid": true,
         "tickfont": {
          "color": "#4D5663"
         },
         "title": {
          "font": {
           "color": "#4D5663"
          },
          "text": ""
         },
         "zerolinecolor": "#E1E5ED"
        },
        "yaxis": {
         "gridcolor": "#E1E5ED",
         "showgrid": true,
         "tickfont": {
          "color": "#4D5663"
         },
         "title": {
          "font": {
           "color": "#4D5663"
          },
          "text": ""
         },
         "zerolinecolor": "#E1E5ED"
        }
       }
      },
      "text/html": [
       "<div>                            <div id=\"a9924b9b-2a17-4b77-95d8-3827813d336a\" class=\"plotly-graph-div\" style=\"height:525px; width:100%;\"></div>            <script type=\"text/javascript\">                require([\"plotly\"], function(Plotly) {                    window.PLOTLYENV=window.PLOTLYENV || {};\n",
       "                    window.PLOTLYENV.BASE_URL='https://plot.ly';                                    if (document.getElementById(\"a9924b9b-2a17-4b77-95d8-3827813d336a\")) {                    Plotly.newPlot(                        \"a9924b9b-2a17-4b77-95d8-3827813d336a\",                        [{\"marker\":{\"color\":\"rgba(255, 153, 51, 0.6)\",\"line\":{\"color\":\"rgba(255, 153, 51, 1.0)\",\"width\":1}},\"name\":\"Margin\",\"orientation\":\"v\",\"text\":\"\",\"x\":[\"GUNA(4)\",\"KHAJURAHO(8)\",\"Gautam Buddha Nagar(13)\",\"RAIPUR(8)\",\"Vadodara(20)\",\"Tripura West(1)\",\"Gandhinagar(6)\",\"Navsari(25)\",\"VIDISHA(18)\",\"INDORE(26)\"],\"y\":[540929,541229,559472,575285,582126,611578,744716,773551,821408,1175092],\"type\":\"bar\"}],                        {\"legend\":{\"bgcolor\":\"#F5F6F9\",\"font\":{\"color\":\"#4D5663\"}},\"paper_bgcolor\":\"#F5F6F9\",\"plot_bgcolor\":\"#F5F6F9\",\"template\":{\"data\":{\"barpolar\":[{\"marker\":{\"line\":{\"color\":\"#E5ECF6\",\"width\":0.5},\"pattern\":{\"fillmode\":\"overlay\",\"size\":10,\"solidity\":0.2}},\"type\":\"barpolar\"}],\"bar\":[{\"error_x\":{\"color\":\"#2a3f5f\"},\"error_y\":{\"color\":\"#2a3f5f\"},\"marker\":{\"line\":{\"color\":\"#E5ECF6\",\"width\":0.5},\"pattern\":{\"fillmode\":\"overlay\",\"size\":10,\"solidity\":0.2}},\"type\":\"bar\"}],\"carpet\":[{\"aaxis\":{\"endlinecolor\":\"#2a3f5f\",\"gridcolor\":\"white\",\"linecolor\":\"white\",\"minorgridcolor\":\"white\",\"startlinecolor\":\"#2a3f5f\"},\"baxis\":{\"endlinecolor\":\"#2a3f5f\",\"gridcolor\":\"white\",\"linecolor\":\"white\",\"minorgridcolor\":\"white\",\"startlinecolor\":\"#2a3f5f\"},\"type\":\"carpet\"}],\"choropleth\":[{\"colorbar\":{\"outlinewidth\":0,\"ticks\":\"\"},\"type\":\"choropleth\"}],\"contourcarpet\":[{\"colorbar\":{\"outlinewidth\":0,\"ticks\":\"\"},\"type\":\"contourcarpet\"}],\"contour\":[{\"colorbar\":{\"outlinewidth\":0,\"ticks\":\"\"},\"colorscale\":[[0.0,\"#0d0887\"],[0.1111111111111111,\"#46039f\"],[0.2222222222222222,\"#7201a8\"],[0.3333333333333333,\"#9c179e\"],[0.4444444444444444,\"#bd3786\"],[0.5555555555555556,\"#d8576b\"],[0.6666666666666666,\"#ed7953\"],[0.7777777777777778,\"#fb9f3a\"],[0.8888888888888888,\"#fdca26\"],[1.0,\"#f0f921\"]],\"type\":\"contour\"}],\"heatmapgl\":[{\"colorbar\":{\"outlinewidth\":0,\"ticks\":\"\"},\"colorscale\":[[0.0,\"#0d0887\"],[0.1111111111111111,\"#46039f\"],[0.2222222222222222,\"#7201a8\"],[0.3333333333333333,\"#9c179e\"],[0.4444444444444444,\"#bd3786\"],[0.5555555555555556,\"#d8576b\"],[0.6666666666666666,\"#ed7953\"],[0.7777777777777778,\"#fb9f3a\"],[0.8888888888888888,\"#fdca26\"],[1.0,\"#f0f921\"]],\"type\":\"heatmapgl\"}],\"heatmap\":[{\"colorbar\":{\"outlinewidth\":0,\"ticks\":\"\"},\"colorscale\":[[0.0,\"#0d0887\"],[0.1111111111111111,\"#46039f\"],[0.2222222222222222,\"#7201a8\"],[0.3333333333333333,\"#9c179e\"],[0.4444444444444444,\"#bd3786\"],[0.5555555555555556,\"#d8576b\"],[0.6666666666666666,\"#ed7953\"],[0.7777777777777778,\"#fb9f3a\"],[0.8888888888888888,\"#fdca26\"],[1.0,\"#f0f921\"]],\"type\":\"heatmap\"}],\"histogram2dcontour\":[{\"colorbar\":{\"outlinewidth\":0,\"ticks\":\"\"},\"colorscale\":[[0.0,\"#0d0887\"],[0.1111111111111111,\"#46039f\"],[0.2222222222222222,\"#7201a8\"],[0.3333333333333333,\"#9c179e\"],[0.4444444444444444,\"#bd3786\"],[0.5555555555555556,\"#d8576b\"],[0.6666666666666666,\"#ed7953\"],[0.7777777777777778,\"#fb9f3a\"],[0.8888888888888888,\"#fdca26\"],[1.0,\"#f0f921\"]],\"type\":\"histogram2dcontour\"}],\"histogram2d\":[{\"colorbar\":{\"outlinewidth\":0,\"ticks\":\"\"},\"colorscale\":[[0.0,\"#0d0887\"],[0.1111111111111111,\"#46039f\"],[0.2222222222222222,\"#7201a8\"],[0.3333333333333333,\"#9c179e\"],[0.4444444444444444,\"#bd3786\"],[0.5555555555555556,\"#d8576b\"],[0.6666666666666666,\"#ed7953\"],[0.7777777777777778,\"#fb9f3a\"],[0.8888888888888888,\"#fdca26\"],[1.0,\"#f0f921\"]],\"type\":\"histogram2d\"}],\"histogram\":[{\"marker\":{\"pattern\":{\"fillmode\":\"overlay\",\"size\":10,\"solidity\":0.2}},\"type\":\"histogram\"}],\"mesh3d\":[{\"colorbar\":{\"outlinewidth\":0,\"ticks\":\"\"},\"type\":\"mesh3d\"}],\"parcoords\":[{\"line\":{\"colorbar\":{\"outlinewidth\":0,\"ticks\":\"\"}},\"type\":\"parcoords\"}],\"pie\":[{\"automargin\":true,\"type\":\"pie\"}],\"scatter3d\":[{\"line\":{\"colorbar\":{\"outlinewidth\":0,\"ticks\":\"\"}},\"marker\":{\"colorbar\":{\"outlinewidth\":0,\"ticks\":\"\"}},\"type\":\"scatter3d\"}],\"scattercarpet\":[{\"marker\":{\"colorbar\":{\"outlinewidth\":0,\"ticks\":\"\"}},\"type\":\"scattercarpet\"}],\"scattergeo\":[{\"marker\":{\"colorbar\":{\"outlinewidth\":0,\"ticks\":\"\"}},\"type\":\"scattergeo\"}],\"scattergl\":[{\"marker\":{\"colorbar\":{\"outlinewidth\":0,\"ticks\":\"\"}},\"type\":\"scattergl\"}],\"scattermapbox\":[{\"marker\":{\"colorbar\":{\"outlinewidth\":0,\"ticks\":\"\"}},\"type\":\"scattermapbox\"}],\"scatterpolargl\":[{\"marker\":{\"colorbar\":{\"outlinewidth\":0,\"ticks\":\"\"}},\"type\":\"scatterpolargl\"}],\"scatterpolar\":[{\"marker\":{\"colorbar\":{\"outlinewidth\":0,\"ticks\":\"\"}},\"type\":\"scatterpolar\"}],\"scatter\":[{\"fillpattern\":{\"fillmode\":\"overlay\",\"size\":10,\"solidity\":0.2},\"type\":\"scatter\"}],\"scatterternary\":[{\"marker\":{\"colorbar\":{\"outlinewidth\":0,\"ticks\":\"\"}},\"type\":\"scatterternary\"}],\"surface\":[{\"colorbar\":{\"outlinewidth\":0,\"ticks\":\"\"},\"colorscale\":[[0.0,\"#0d0887\"],[0.1111111111111111,\"#46039f\"],[0.2222222222222222,\"#7201a8\"],[0.3333333333333333,\"#9c179e\"],[0.4444444444444444,\"#bd3786\"],[0.5555555555555556,\"#d8576b\"],[0.6666666666666666,\"#ed7953\"],[0.7777777777777778,\"#fb9f3a\"],[0.8888888888888888,\"#fdca26\"],[1.0,\"#f0f921\"]],\"type\":\"surface\"}],\"table\":[{\"cells\":{\"fill\":{\"color\":\"#EBF0F8\"},\"line\":{\"color\":\"white\"}},\"header\":{\"fill\":{\"color\":\"#C8D4E3\"},\"line\":{\"color\":\"white\"}},\"type\":\"table\"}]},\"layout\":{\"annotationdefaults\":{\"arrowcolor\":\"#2a3f5f\",\"arrowhead\":0,\"arrowwidth\":1},\"autotypenumbers\":\"strict\",\"coloraxis\":{\"colorbar\":{\"outlinewidth\":0,\"ticks\":\"\"}},\"colorscale\":{\"diverging\":[[0,\"#8e0152\"],[0.1,\"#c51b7d\"],[0.2,\"#de77ae\"],[0.3,\"#f1b6da\"],[0.4,\"#fde0ef\"],[0.5,\"#f7f7f7\"],[0.6,\"#e6f5d0\"],[0.7,\"#b8e186\"],[0.8,\"#7fbc41\"],[0.9,\"#4d9221\"],[1,\"#276419\"]],\"sequential\":[[0.0,\"#0d0887\"],[0.1111111111111111,\"#46039f\"],[0.2222222222222222,\"#7201a8\"],[0.3333333333333333,\"#9c179e\"],[0.4444444444444444,\"#bd3786\"],[0.5555555555555556,\"#d8576b\"],[0.6666666666666666,\"#ed7953\"],[0.7777777777777778,\"#fb9f3a\"],[0.8888888888888888,\"#fdca26\"],[1.0,\"#f0f921\"]],\"sequentialminus\":[[0.0,\"#0d0887\"],[0.1111111111111111,\"#46039f\"],[0.2222222222222222,\"#7201a8\"],[0.3333333333333333,\"#9c179e\"],[0.4444444444444444,\"#bd3786\"],[0.5555555555555556,\"#d8576b\"],[0.6666666666666666,\"#ed7953\"],[0.7777777777777778,\"#fb9f3a\"],[0.8888888888888888,\"#fdca26\"],[1.0,\"#f0f921\"]]},\"colorway\":[\"#636efa\",\"#EF553B\",\"#00cc96\",\"#ab63fa\",\"#FFA15A\",\"#19d3f3\",\"#FF6692\",\"#B6E880\",\"#FF97FF\",\"#FECB52\"],\"font\":{\"color\":\"#2a3f5f\"},\"geo\":{\"bgcolor\":\"white\",\"lakecolor\":\"white\",\"landcolor\":\"#E5ECF6\",\"showlakes\":true,\"showland\":true,\"subunitcolor\":\"white\"},\"hoverlabel\":{\"align\":\"left\"},\"hovermode\":\"closest\",\"mapbox\":{\"style\":\"light\"},\"paper_bgcolor\":\"white\",\"plot_bgcolor\":\"#E5ECF6\",\"polar\":{\"angularaxis\":{\"gridcolor\":\"white\",\"linecolor\":\"white\",\"ticks\":\"\"},\"bgcolor\":\"#E5ECF6\",\"radialaxis\":{\"gridcolor\":\"white\",\"linecolor\":\"white\",\"ticks\":\"\"}},\"scene\":{\"xaxis\":{\"backgroundcolor\":\"#E5ECF6\",\"gridcolor\":\"white\",\"gridwidth\":2,\"linecolor\":\"white\",\"showbackground\":true,\"ticks\":\"\",\"zerolinecolor\":\"white\"},\"yaxis\":{\"backgroundcolor\":\"#E5ECF6\",\"gridcolor\":\"white\",\"gridwidth\":2,\"linecolor\":\"white\",\"showbackground\":true,\"ticks\":\"\",\"zerolinecolor\":\"white\"},\"zaxis\":{\"backgroundcolor\":\"#E5ECF6\",\"gridcolor\":\"white\",\"gridwidth\":2,\"linecolor\":\"white\",\"showbackground\":true,\"ticks\":\"\",\"zerolinecolor\":\"white\"}},\"shapedefaults\":{\"line\":{\"color\":\"#2a3f5f\"}},\"ternary\":{\"aaxis\":{\"gridcolor\":\"white\",\"linecolor\":\"white\",\"ticks\":\"\"},\"baxis\":{\"gridcolor\":\"white\",\"linecolor\":\"white\",\"ticks\":\"\"},\"bgcolor\":\"#E5ECF6\",\"caxis\":{\"gridcolor\":\"white\",\"linecolor\":\"white\",\"ticks\":\"\"}},\"title\":{\"x\":0.05},\"xaxis\":{\"automargin\":true,\"gridcolor\":\"white\",\"linecolor\":\"white\",\"ticks\":\"\",\"title\":{\"standoff\":15},\"zerolinecolor\":\"white\",\"zerolinewidth\":2},\"yaxis\":{\"automargin\":true,\"gridcolor\":\"white\",\"linecolor\":\"white\",\"ticks\":\"\",\"title\":{\"standoff\":15},\"zerolinecolor\":\"white\",\"zerolinewidth\":2}}},\"title\":{\"font\":{\"color\":\"#4D5663\"}},\"xaxis\":{\"gridcolor\":\"#E1E5ED\",\"showgrid\":true,\"tickfont\":{\"color\":\"#4D5663\"},\"title\":{\"font\":{\"color\":\"#4D5663\"},\"text\":\"\"},\"zerolinecolor\":\"#E1E5ED\"},\"yaxis\":{\"gridcolor\":\"#E1E5ED\",\"showgrid\":true,\"tickfont\":{\"color\":\"#4D5663\"},\"title\":{\"font\":{\"color\":\"#4D5663\"},\"text\":\"\"},\"zerolinecolor\":\"#E1E5ED\"}},                        {\"showLink\": true, \"linkText\": \"Export to plot.ly\", \"plotlyServerURL\": \"https://plot.ly\", \"responsive\": true}                    ).then(function(){\n",
       "                            \n",
       "var gd = document.getElementById('a9924b9b-2a17-4b77-95d8-3827813d336a');\n",
       "var x = new MutationObserver(function (mutations, observer) {{\n",
       "        var display = window.getComputedStyle(gd).display;\n",
       "        if (!display || display === 'none') {{\n",
       "            console.log([gd, 'removed!']);\n",
       "            Plotly.purge(gd);\n",
       "            observer.disconnect();\n",
       "        }}\n",
       "}});\n",
       "\n",
       "// Listen for the removal of the full notebook cells\n",
       "var notebookContainer = gd.closest('#notebook-container');\n",
       "if (notebookContainer) {{\n",
       "    x.observe(notebookContainer, {childList: true});\n",
       "}}\n",
       "\n",
       "// Listen for the clearing of the current output cell\n",
       "var outputEl = gd.closest('.output');\n",
       "if (outputEl) {{\n",
       "    x.observe(outputEl, {childList: true});\n",
       "}}\n",
       "\n",
       "                        })                };                });            </script>        </div>"
      ]
     },
     "metadata": {},
     "output_type": "display_data"
    }
   ],
   "source": [
    "bjp.sort_values('Margin').tail(10).iplot(kind='bar',y='Margin',x='Parliament Constituency')"
   ]
  },
  {
   "cell_type": "markdown",
   "id": "5d40e71d",
   "metadata": {},
   "source": [
    "**These two graphs shows the margin i.e is the difference in votes between the winning party (BJP) and the party in the second place in the ascedning order. This shows that margin in Jaipur is less and hence BJP has more chances winning in Jaipur for the next election, but the margin is the highest in Indore, which means there is less chance of BJP winning in Indore for the next elections.**"
   ]
  },
  {
   "cell_type": "code",
   "execution_count": 208,
   "id": "70ad0498",
   "metadata": {},
   "outputs": [
    {
     "data": {
      "text/plain": [
       "99"
      ]
     },
     "execution_count": 208,
     "metadata": {},
     "output_type": "execute_result"
    }
   ],
   "source": [
    "df.loc[df['Party_Code']=='INC',:]['Total'].iloc[0]"
   ]
  },
  {
   "cell_type": "code",
   "execution_count": 209,
   "id": "2af4b1d8",
   "metadata": {},
   "outputs": [
    {
     "data": {
      "text/plain": [
       "22"
      ]
     },
     "execution_count": 209,
     "metadata": {},
     "output_type": "execute_result"
    }
   ],
   "source": [
    "df.loc[df['Party_Code']=='DMK',:]['Total'].iloc[0]"
   ]
  },
  {
   "cell_type": "code",
   "execution_count": 210,
   "id": "97015ff0",
   "metadata": {},
   "outputs": [
    {
     "data": {
      "text/plain": [
       "4    121\n",
       "Name: Total, dtype: int64"
      ]
     },
     "execution_count": 210,
     "metadata": {},
     "output_type": "execute_result"
    }
   ],
   "source": [
    "sum(df.loc[df['Party_Code']=='INC',:]['Total'],df.loc[df['Party_Code']=='DMK',:]['Total'])"
   ]
  },
  {
   "cell_type": "code",
   "execution_count": 211,
   "id": "f511fe0d",
   "metadata": {},
   "outputs": [
    {
     "data": {
      "text/plain": [
       "240"
      ]
     },
     "execution_count": 211,
     "metadata": {},
     "output_type": "execute_result"
    }
   ],
   "source": [
    "df.loc[df['Party_Code']=='BJP',:]['Total'].iloc[0]"
   ]
  },
  {
   "cell_type": "markdown",
   "id": "4df2075e",
   "metadata": {},
   "source": [
    "**The number of winning constituencies for Indian National Congress is very low compared to BJP, but since DMK has allianced with INC, their winning contituencies has raised to 121 which is quite closer to BJP. This shows if INC and DMK continue their collaboration INC have chances of winning the next elections.**"
   ]
  },
  {
   "cell_type": "code",
   "execution_count": 212,
   "id": "6bbed390",
   "metadata": {},
   "outputs": [
    {
     "data": {
      "text/plain": [
       "157039540"
      ]
     },
     "execution_count": 212,
     "metadata": {},
     "output_type": "execute_result"
    }
   ],
   "source": [
    "bjp['Total Votes'].sum()"
   ]
  },
  {
   "cell_type": "code",
   "execution_count": 216,
   "id": "5399967e",
   "metadata": {},
   "outputs": [
    {
     "data": {
      "text/plain": [
       "54233901"
      ]
     },
     "execution_count": 216,
     "metadata": {},
     "output_type": "execute_result"
    }
   ],
   "source": [
    "inc['Total Votes'].sum()"
   ]
  },
  {
   "cell_type": "code",
   "execution_count": 219,
   "id": "386a0fbc",
   "metadata": {},
   "outputs": [
    {
     "data": {
      "text/plain": [
       "102805639"
      ]
     },
     "execution_count": 219,
     "metadata": {},
     "output_type": "execute_result"
    }
   ],
   "source": [
    "bjp['Total Votes'].sum()-inc['Total Votes'].sum()"
   ]
  },
  {
   "cell_type": "markdown",
   "id": "73c70322",
   "metadata": {},
   "source": [
    "**This shows the margin of BJP and INC and the difference is very huge which shows that BJP has more power in most of the areas and they are very likely to win the next elections.**"
   ]
  },
  {
   "cell_type": "code",
   "execution_count": 41,
   "id": "f14f4af7",
   "metadata": {},
   "outputs": [
    {
     "data": {
      "text/plain": [
       "array(['CHENNAI NORTH(2)', 'CHENNAI SOUTH(3)', 'CHENNAI CENTRAL(4)',\n",
       "       'SRIPERUMBUDUR(5)', 'KANCHEEPURAM(6)', 'ARAKKONAM(7)',\n",
       "       'VELLORE(8)', 'DHARMAPURI(10)', 'TIRUVANNAMALAI(11)', 'ARANI(12)',\n",
       "       'KALLAKURICHI(14)', 'SALEM(15)', 'NAMAKKAL(16)', 'ERODE(17)',\n",
       "       'NILGIRIS(19)', 'COIMBATORE(20)', 'POLLACHI(21)', 'PERAMBALUR(25)',\n",
       "       'THANJAVUR(30)', 'THENI(33)', 'THOOTHUKKUDI(36)', 'TENKASI(37)'],\n",
       "      dtype=object)"
      ]
     },
     "execution_count": 41,
     "metadata": {},
     "output_type": "execute_result"
    }
   ],
   "source": [
    "dmk['Parliament Constituency'].unique()"
   ]
  },
  {
   "cell_type": "code",
   "execution_count": 42,
   "id": "09fe84b0",
   "metadata": {},
   "outputs": [
    {
     "data": {
      "text/plain": [
       "array(['Anakapalle(5)', 'Rajahmundry(8)', 'Narsapuram(9)',\n",
       "       'Arunachal West(1)', 'Arunachal East(2)', 'Darrang-Udalguri(4)',\n",
       "       'Guwahati(5)', 'Diphu(6)', 'Karimganj(7)', 'Silchar (8)',\n",
       "       'Kaziranga(10)', 'Sonitpur(11)', 'Lakhimpur(12)', 'Dibrugarh(13)',\n",
       "       'Paschim Champaran(2)', 'Purvi Champaran(3)', 'Madhubani(6)',\n",
       "       'Araria(9)', 'Darbhanga(14)', 'Muzaffarpur(15)', 'Maharajganj(19)',\n",
       "       'Saran(20)', 'Ujiarpur(22)', 'Begusarai(24)', 'Patna Sahib(30)',\n",
       "       'Nawada(39)', 'North Goa(1)', 'Kachchh(1)', 'Patan(3)',\n",
       "       'Mahesana(4)', 'Sabarkantha(5)', 'Gandhinagar(6)',\n",
       "       'Ahmedabad East(7)', 'Ahmedabad West(8)', 'Surendranagar(9)',\n",
       "       'Rajkot(10)', 'Porbandar(11)', 'Jamnagar(12)', 'Junagadh(13)',\n",
       "       'Amreli(14)', 'Bhavnagar(15)', 'Anand(16)', 'Kheda(17)',\n",
       "       'Panchmahal(18)', 'Dahod(19)', 'Vadodara(20)',\n",
       "       'Chhota Udaipur(21)', 'Bharuch(22)', 'Bardoli(23)', 'Navsari(25)',\n",
       "       'Valsad(26)', 'KURUKSHETRA(2)', 'KARNAL(5)',\n",
       "       'BHIWANI-MAHENDRAGARH(8)', 'GURGAON(9)', 'FARIDABAD(10)',\n",
       "       'KANGRA(1)', 'MANDI(2)', 'HAMIRPUR(3)', 'SHIMLA(4)', 'Belgaum(2)',\n",
       "       'Bagalkot(3)', 'Bijapur(4)', 'Haveri(10)', 'Dharwad(11)',\n",
       "       'Uttara Kannada(12)', 'Shimoga(14)', 'Udupi Chikmagalur(15)',\n",
       "       'Dakshina Kannada(17)', 'Chitradurga(18)', 'Tumkur(19)',\n",
       "       'Mysore(21)', 'Bangalore Rural(23)', 'Bangalore North(24)',\n",
       "       'Bangalore central(25)', 'Bangalore South(26)',\n",
       "       'Chikkballapur(27)', 'Thrissur(10)', 'MORENA(1)', 'BHIND(2)',\n",
       "       'GWALIOR(3)', 'GUNA(4)', 'SAGAR(5)', 'TIKAMGARH(6)', 'DAMOH(7)',\n",
       "       'KHAJURAHO(8)', 'SATNA(9)', 'REWA(10)', 'SIDHI(11)', 'SHAHDOL(12)',\n",
       "       'JABALPUR(13)', 'MANDLA(14)', 'BALAGHAT(15)', 'CHHINDWARA(16)',\n",
       "       'HOSHANGABAD(17)', 'VIDISHA(18)', 'BHOPAL(19)', 'RAJGARH(20)',\n",
       "       'DEWAS(21)', 'UJJAIN(22)', 'MANDSOUR(23)', 'RATLAM(24)',\n",
       "       'DHAR(25)', 'INDORE(26)', 'KHARGONE(27)', 'KHANDWA(28)',\n",
       "       'BETUL(29)', 'Jalgaon(3)', 'Raver(4)', 'Akola(6)', 'Nagpur(10)',\n",
       "       'Palghar(22)', 'Mumbai North(26)', 'Pune(34)', 'Satara(45)',\n",
       "       'Ratnagiri- Sindhudurg(46)', 'Bargarh(1)', 'Sundargarh(2)',\n",
       "       'Sambalpur(3)', 'Keonjhar(4)', 'Mayurbhanj(5)', 'Balasore(6)',\n",
       "       'Bhadrak(7)', 'Jajpur(8)', 'Dhenkanal(9)', 'Bolangir(10)',\n",
       "       'Kalahandi(11)', 'Nabarangpur(12)', 'Kandhamal(13)', 'Cuttack(14)',\n",
       "       'Kendrapara(15)', 'Jagatsinghpur(16)', 'Puri(17)',\n",
       "       'Bhubaneswar(18)', 'Aska(19)', 'Berhampur(20)', 'BIKANER (2)',\n",
       "       'JAIPUR RURAL(6)', 'JAIPUR(7)', 'ALWAR(8)', 'AJMER (13)',\n",
       "       'PALI(15)', 'JODHPUR(16)', 'JALORE (18)', 'UDAIPUR (19)',\n",
       "       'CHITTORGARH(21)', 'RAJSAMAND(22)', 'BHILWARA(23)', 'KOTA(24)',\n",
       "       'JHALAWAR-BARAN(25)', 'Tripura West(1)', 'Tripura East(2)',\n",
       "       'Amroha(9)', 'Meerut(10)', 'Ghaziabad(12)',\n",
       "       'Gautam Buddha Nagar(13)', 'Bulandshahr(14)', 'Aligarh(15)',\n",
       "       'Hathras(16)', 'Mathura(17)', 'Agra(18)', 'Fatehpur Sikri(19)',\n",
       "       'Bareilly(25)', 'Pilibhit(26)', 'Shahjahanpur(27)', 'Hardoi(31)',\n",
       "       'Misrikh(32)', 'Unnao(33)', 'Lucknow(35)', 'Farrukhabad(40)',\n",
       "       'Kanpur(43)', 'Akbarpur(44)', 'Jhansi(46)', 'Phulpur(51)',\n",
       "       'Baharaich(56)', 'Kaiserganj(57)', 'Gonda(59)', 'Domariyaganj(60)',\n",
       "       'Maharajganj(63)', 'Gorakhpur(64)', 'Kushi Nagar(65)',\n",
       "       'Deoria(66)', 'Bansgaon(67)', 'Varanasi(77)', 'Bhadohi(78)',\n",
       "       'Alipurduars(2)', 'Jalpaiguri(3)', 'Darjeeling(4)', 'Raiganj(5)',\n",
       "       'Balurghat(6)', 'Maldaha Uttar(7)', 'Ranaghat(13)', 'Bangaon(14)',\n",
       "       'Tamluk(30)', 'Kanthi(31)', 'Purulia(35)', 'Bishnupur(37)',\n",
       "       'SURGUJA(1)', 'RAIGARH(2)', 'JANJGIR-CHAMPA(3)', 'BILASPUR(5)',\n",
       "       'RAJNANDGAON(6)', 'DURG(7)', 'RAIPUR(8)', 'MAHASAMUND(9)',\n",
       "       'BASTAR(10)', 'KANKER(11)', 'Godda(3)', 'Chatra(4)', 'Kodarma(5)',\n",
       "       'Dhanbad(7)', 'Ranchi(8)', 'Jamshedpur(9)', 'Palamau(13)',\n",
       "       'Hazaribagh(14)', 'Tehri Garhwal(1)', 'Garhwal(2)', 'Almora(3)',\n",
       "       'Nainital-Udhamsingh Nagar(4)', 'Haridwar(5)', 'Adilabad (1)',\n",
       "       'Karimnagar (3)', 'Nizamabad(4)', 'Medak(6)', 'Malkajgiri(7)',\n",
       "       'Secunderabad(8)', 'Chevella(10)', 'Mahbubnagar(11)',\n",
       "       'Andaman & Nicobar Islands(1)', 'Dadar & Nagar Haveli(2)',\n",
       "       'Chandni Chowk(1)', 'North-East Delhi(2)', 'East Delhi(3)',\n",
       "       'New Delhi(4)', 'North-West Delhi(5)', 'West Delhi(6)',\n",
       "       'South Delhi(7)', 'UDHAMPUR(4)', 'JAMMU(5)'], dtype=object)"
      ]
     },
     "execution_count": 42,
     "metadata": {},
     "output_type": "execute_result"
    }
   ],
   "source": [
    "bjp['Parliament Constituency'].unique()"
   ]
  },
  {
   "cell_type": "markdown",
   "id": "50879b2d",
   "metadata": {},
   "source": [
    "**It is clearly seen that BJP unlike INC has not won any one constituency in Tamilnadu and Kerala and hence it is very unlikely they would win in Tamilnadu for the next elections.**"
   ]
  },
  {
   "cell_type": "code",
   "execution_count": 273,
   "id": "82947c5f",
   "metadata": {},
   "outputs": [
    {
     "data": {
      "application/vnd.plotly.v1+json": {
       "config": {
        "plotlyServerURL": "https://plot.ly"
       },
       "data": [
        {
         "name": "Total Votes",
         "type": "scatter",
         "x": [
          "CHENNAI NORTH(2)",
          "CHENNAI SOUTH(3)",
          "CHENNAI CENTRAL(4)",
          "SRIPERUMBUDUR(5)",
          "KANCHEEPURAM(6)",
          "ARAKKONAM(7)",
          "VELLORE(8)",
          "DHARMAPURI(10)",
          "TIRUVANNAMALAI(11)",
          "ARANI(12)",
          "KALLAKURICHI(14)",
          "SALEM(15)",
          "NAMAKKAL(16)",
          "ERODE(17)",
          "NILGIRIS(19)",
          "COIMBATORE(20)",
          "POLLACHI(21)",
          "PERAMBALUR(25)",
          "THANJAVUR(30)",
          "THENI(33)",
          "THOOTHUKKUDI(36)",
          "TENKASI(37)"
         ],
         "xaxis": "x",
         "y": [
          497333,
          516628,
          413848,
          758611,
          586044,
          563216,
          568692,
          432667,
          547379,
          500099,
          561589,
          566085,
          462036,
          562339,
          473212,
          568200,
          533377,
          603209,
          502245,
          571493,
          540729,
          425679
         ],
         "yaxis": "y"
        },
        {
         "name": "Margin",
         "type": "scatter",
         "x": [
          "CHENNAI NORTH(2)",
          "CHENNAI SOUTH(3)",
          "CHENNAI CENTRAL(4)",
          "SRIPERUMBUDUR(5)",
          "KANCHEEPURAM(6)",
          "ARAKKONAM(7)",
          "VELLORE(8)",
          "DHARMAPURI(10)",
          "TIRUVANNAMALAI(11)",
          "ARANI(12)",
          "KALLAKURICHI(14)",
          "SALEM(15)",
          "NAMAKKAL(16)",
          "ERODE(17)",
          "NILGIRIS(19)",
          "COIMBATORE(20)",
          "POLLACHI(21)",
          "PERAMBALUR(25)",
          "THANJAVUR(30)",
          "THENI(33)",
          "THOOTHUKKUDI(36)",
          "TENKASI(37)"
         ],
         "xaxis": "x2",
         "y": [
          339222,
          225945,
          244689,
          487029,
          221473,
          306559,
          215702,
          21300,
          233931,
          208766,
          53784,
          70357,
          29112,
          236566,
          240585,
          118068,
          252042,
          389107,
          319583,
          278825,
          392738,
          196199
         ],
         "yaxis": "y2"
        }
       ],
       "layout": {
        "template": {
         "data": {
          "bar": [
           {
            "error_x": {
             "color": "#2a3f5f"
            },
            "error_y": {
             "color": "#2a3f5f"
            },
            "marker": {
             "line": {
              "color": "#E5ECF6",
              "width": 0.5
             },
             "pattern": {
              "fillmode": "overlay",
              "size": 10,
              "solidity": 0.2
             }
            },
            "type": "bar"
           }
          ],
          "barpolar": [
           {
            "marker": {
             "line": {
              "color": "#E5ECF6",
              "width": 0.5
             },
             "pattern": {
              "fillmode": "overlay",
              "size": 10,
              "solidity": 0.2
             }
            },
            "type": "barpolar"
           }
          ],
          "carpet": [
           {
            "aaxis": {
             "endlinecolor": "#2a3f5f",
             "gridcolor": "white",
             "linecolor": "white",
             "minorgridcolor": "white",
             "startlinecolor": "#2a3f5f"
            },
            "baxis": {
             "endlinecolor": "#2a3f5f",
             "gridcolor": "white",
             "linecolor": "white",
             "minorgridcolor": "white",
             "startlinecolor": "#2a3f5f"
            },
            "type": "carpet"
           }
          ],
          "choropleth": [
           {
            "colorbar": {
             "outlinewidth": 0,
             "ticks": ""
            },
            "type": "choropleth"
           }
          ],
          "contour": [
           {
            "colorbar": {
             "outlinewidth": 0,
             "ticks": ""
            },
            "colorscale": [
             [
              0,
              "#0d0887"
             ],
             [
              0.1111111111111111,
              "#46039f"
             ],
             [
              0.2222222222222222,
              "#7201a8"
             ],
             [
              0.3333333333333333,
              "#9c179e"
             ],
             [
              0.4444444444444444,
              "#bd3786"
             ],
             [
              0.5555555555555556,
              "#d8576b"
             ],
             [
              0.6666666666666666,
              "#ed7953"
             ],
             [
              0.7777777777777778,
              "#fb9f3a"
             ],
             [
              0.8888888888888888,
              "#fdca26"
             ],
             [
              1,
              "#f0f921"
             ]
            ],
            "type": "contour"
           }
          ],
          "contourcarpet": [
           {
            "colorbar": {
             "outlinewidth": 0,
             "ticks": ""
            },
            "type": "contourcarpet"
           }
          ],
          "heatmap": [
           {
            "colorbar": {
             "outlinewidth": 0,
             "ticks": ""
            },
            "colorscale": [
             [
              0,
              "#0d0887"
             ],
             [
              0.1111111111111111,
              "#46039f"
             ],
             [
              0.2222222222222222,
              "#7201a8"
             ],
             [
              0.3333333333333333,
              "#9c179e"
             ],
             [
              0.4444444444444444,
              "#bd3786"
             ],
             [
              0.5555555555555556,
              "#d8576b"
             ],
             [
              0.6666666666666666,
              "#ed7953"
             ],
             [
              0.7777777777777778,
              "#fb9f3a"
             ],
             [
              0.8888888888888888,
              "#fdca26"
             ],
             [
              1,
              "#f0f921"
             ]
            ],
            "type": "heatmap"
           }
          ],
          "heatmapgl": [
           {
            "colorbar": {
             "outlinewidth": 0,
             "ticks": ""
            },
            "colorscale": [
             [
              0,
              "#0d0887"
             ],
             [
              0.1111111111111111,
              "#46039f"
             ],
             [
              0.2222222222222222,
              "#7201a8"
             ],
             [
              0.3333333333333333,
              "#9c179e"
             ],
             [
              0.4444444444444444,
              "#bd3786"
             ],
             [
              0.5555555555555556,
              "#d8576b"
             ],
             [
              0.6666666666666666,
              "#ed7953"
             ],
             [
              0.7777777777777778,
              "#fb9f3a"
             ],
             [
              0.8888888888888888,
              "#fdca26"
             ],
             [
              1,
              "#f0f921"
             ]
            ],
            "type": "heatmapgl"
           }
          ],
          "histogram": [
           {
            "marker": {
             "pattern": {
              "fillmode": "overlay",
              "size": 10,
              "solidity": 0.2
             }
            },
            "type": "histogram"
           }
          ],
          "histogram2d": [
           {
            "colorbar": {
             "outlinewidth": 0,
             "ticks": ""
            },
            "colorscale": [
             [
              0,
              "#0d0887"
             ],
             [
              0.1111111111111111,
              "#46039f"
             ],
             [
              0.2222222222222222,
              "#7201a8"
             ],
             [
              0.3333333333333333,
              "#9c179e"
             ],
             [
              0.4444444444444444,
              "#bd3786"
             ],
             [
              0.5555555555555556,
              "#d8576b"
             ],
             [
              0.6666666666666666,
              "#ed7953"
             ],
             [
              0.7777777777777778,
              "#fb9f3a"
             ],
             [
              0.8888888888888888,
              "#fdca26"
             ],
             [
              1,
              "#f0f921"
             ]
            ],
            "type": "histogram2d"
           }
          ],
          "histogram2dcontour": [
           {
            "colorbar": {
             "outlinewidth": 0,
             "ticks": ""
            },
            "colorscale": [
             [
              0,
              "#0d0887"
             ],
             [
              0.1111111111111111,
              "#46039f"
             ],
             [
              0.2222222222222222,
              "#7201a8"
             ],
             [
              0.3333333333333333,
              "#9c179e"
             ],
             [
              0.4444444444444444,
              "#bd3786"
             ],
             [
              0.5555555555555556,
              "#d8576b"
             ],
             [
              0.6666666666666666,
              "#ed7953"
             ],
             [
              0.7777777777777778,
              "#fb9f3a"
             ],
             [
              0.8888888888888888,
              "#fdca26"
             ],
             [
              1,
              "#f0f921"
             ]
            ],
            "type": "histogram2dcontour"
           }
          ],
          "mesh3d": [
           {
            "colorbar": {
             "outlinewidth": 0,
             "ticks": ""
            },
            "type": "mesh3d"
           }
          ],
          "parcoords": [
           {
            "line": {
             "colorbar": {
              "outlinewidth": 0,
              "ticks": ""
             }
            },
            "type": "parcoords"
           }
          ],
          "pie": [
           {
            "automargin": true,
            "type": "pie"
           }
          ],
          "scatter": [
           {
            "fillpattern": {
             "fillmode": "overlay",
             "size": 10,
             "solidity": 0.2
            },
            "type": "scatter"
           }
          ],
          "scatter3d": [
           {
            "line": {
             "colorbar": {
              "outlinewidth": 0,
              "ticks": ""
             }
            },
            "marker": {
             "colorbar": {
              "outlinewidth": 0,
              "ticks": ""
             }
            },
            "type": "scatter3d"
           }
          ],
          "scattercarpet": [
           {
            "marker": {
             "colorbar": {
              "outlinewidth": 0,
              "ticks": ""
             }
            },
            "type": "scattercarpet"
           }
          ],
          "scattergeo": [
           {
            "marker": {
             "colorbar": {
              "outlinewidth": 0,
              "ticks": ""
             }
            },
            "type": "scattergeo"
           }
          ],
          "scattergl": [
           {
            "marker": {
             "colorbar": {
              "outlinewidth": 0,
              "ticks": ""
             }
            },
            "type": "scattergl"
           }
          ],
          "scattermapbox": [
           {
            "marker": {
             "colorbar": {
              "outlinewidth": 0,
              "ticks": ""
             }
            },
            "type": "scattermapbox"
           }
          ],
          "scatterpolar": [
           {
            "marker": {
             "colorbar": {
              "outlinewidth": 0,
              "ticks": ""
             }
            },
            "type": "scatterpolar"
           }
          ],
          "scatterpolargl": [
           {
            "marker": {
             "colorbar": {
              "outlinewidth": 0,
              "ticks": ""
             }
            },
            "type": "scatterpolargl"
           }
          ],
          "scatterternary": [
           {
            "marker": {
             "colorbar": {
              "outlinewidth": 0,
              "ticks": ""
             }
            },
            "type": "scatterternary"
           }
          ],
          "surface": [
           {
            "colorbar": {
             "outlinewidth": 0,
             "ticks": ""
            },
            "colorscale": [
             [
              0,
              "#0d0887"
             ],
             [
              0.1111111111111111,
              "#46039f"
             ],
             [
              0.2222222222222222,
              "#7201a8"
             ],
             [
              0.3333333333333333,
              "#9c179e"
             ],
             [
              0.4444444444444444,
              "#bd3786"
             ],
             [
              0.5555555555555556,
              "#d8576b"
             ],
             [
              0.6666666666666666,
              "#ed7953"
             ],
             [
              0.7777777777777778,
              "#fb9f3a"
             ],
             [
              0.8888888888888888,
              "#fdca26"
             ],
             [
              1,
              "#f0f921"
             ]
            ],
            "type": "surface"
           }
          ],
          "table": [
           {
            "cells": {
             "fill": {
              "color": "#EBF0F8"
             },
             "line": {
              "color": "white"
             }
            },
            "header": {
             "fill": {
              "color": "#C8D4E3"
             },
             "line": {
              "color": "white"
             }
            },
            "type": "table"
           }
          ]
         },
         "layout": {
          "annotationdefaults": {
           "arrowcolor": "#2a3f5f",
           "arrowhead": 0,
           "arrowwidth": 1
          },
          "autotypenumbers": "strict",
          "coloraxis": {
           "colorbar": {
            "outlinewidth": 0,
            "ticks": ""
           }
          },
          "colorscale": {
           "diverging": [
            [
             0,
             "#8e0152"
            ],
            [
             0.1,
             "#c51b7d"
            ],
            [
             0.2,
             "#de77ae"
            ],
            [
             0.3,
             "#f1b6da"
            ],
            [
             0.4,
             "#fde0ef"
            ],
            [
             0.5,
             "#f7f7f7"
            ],
            [
             0.6,
             "#e6f5d0"
            ],
            [
             0.7,
             "#b8e186"
            ],
            [
             0.8,
             "#7fbc41"
            ],
            [
             0.9,
             "#4d9221"
            ],
            [
             1,
             "#276419"
            ]
           ],
           "sequential": [
            [
             0,
             "#0d0887"
            ],
            [
             0.1111111111111111,
             "#46039f"
            ],
            [
             0.2222222222222222,
             "#7201a8"
            ],
            [
             0.3333333333333333,
             "#9c179e"
            ],
            [
             0.4444444444444444,
             "#bd3786"
            ],
            [
             0.5555555555555556,
             "#d8576b"
            ],
            [
             0.6666666666666666,
             "#ed7953"
            ],
            [
             0.7777777777777778,
             "#fb9f3a"
            ],
            [
             0.8888888888888888,
             "#fdca26"
            ],
            [
             1,
             "#f0f921"
            ]
           ],
           "sequentialminus": [
            [
             0,
             "#0d0887"
            ],
            [
             0.1111111111111111,
             "#46039f"
            ],
            [
             0.2222222222222222,
             "#7201a8"
            ],
            [
             0.3333333333333333,
             "#9c179e"
            ],
            [
             0.4444444444444444,
             "#bd3786"
            ],
            [
             0.5555555555555556,
             "#d8576b"
            ],
            [
             0.6666666666666666,
             "#ed7953"
            ],
            [
             0.7777777777777778,
             "#fb9f3a"
            ],
            [
             0.8888888888888888,
             "#fdca26"
            ],
            [
             1,
             "#f0f921"
            ]
           ]
          },
          "colorway": [
           "#636efa",
           "#EF553B",
           "#00cc96",
           "#ab63fa",
           "#FFA15A",
           "#19d3f3",
           "#FF6692",
           "#B6E880",
           "#FF97FF",
           "#FECB52"
          ],
          "font": {
           "color": "#2a3f5f"
          },
          "geo": {
           "bgcolor": "white",
           "lakecolor": "white",
           "landcolor": "#E5ECF6",
           "showlakes": true,
           "showland": true,
           "subunitcolor": "white"
          },
          "hoverlabel": {
           "align": "left"
          },
          "hovermode": "closest",
          "mapbox": {
           "style": "light"
          },
          "paper_bgcolor": "white",
          "plot_bgcolor": "#E5ECF6",
          "polar": {
           "angularaxis": {
            "gridcolor": "white",
            "linecolor": "white",
            "ticks": ""
           },
           "bgcolor": "#E5ECF6",
           "radialaxis": {
            "gridcolor": "white",
            "linecolor": "white",
            "ticks": ""
           }
          },
          "scene": {
           "xaxis": {
            "backgroundcolor": "#E5ECF6",
            "gridcolor": "white",
            "gridwidth": 2,
            "linecolor": "white",
            "showbackground": true,
            "ticks": "",
            "zerolinecolor": "white"
           },
           "yaxis": {
            "backgroundcolor": "#E5ECF6",
            "gridcolor": "white",
            "gridwidth": 2,
            "linecolor": "white",
            "showbackground": true,
            "ticks": "",
            "zerolinecolor": "white"
           },
           "zaxis": {
            "backgroundcolor": "#E5ECF6",
            "gridcolor": "white",
            "gridwidth": 2,
            "linecolor": "white",
            "showbackground": true,
            "ticks": "",
            "zerolinecolor": "white"
           }
          },
          "shapedefaults": {
           "line": {
            "color": "#2a3f5f"
           }
          },
          "ternary": {
           "aaxis": {
            "gridcolor": "white",
            "linecolor": "white",
            "ticks": ""
           },
           "baxis": {
            "gridcolor": "white",
            "linecolor": "white",
            "ticks": ""
           },
           "bgcolor": "#E5ECF6",
           "caxis": {
            "gridcolor": "white",
            "linecolor": "white",
            "ticks": ""
           }
          },
          "title": {
           "x": 0.05
          },
          "xaxis": {
           "automargin": true,
           "gridcolor": "white",
           "linecolor": "white",
           "ticks": "",
           "title": {
            "standoff": 15
           },
           "zerolinecolor": "white",
           "zerolinewidth": 2
          },
          "yaxis": {
           "automargin": true,
           "gridcolor": "white",
           "linecolor": "white",
           "ticks": "",
           "title": {
            "standoff": 15
           },
           "zerolinecolor": "white",
           "zerolinewidth": 2
          }
         }
        },
        "xaxis": {
         "anchor": "y",
         "domain": [
          0,
          1
         ]
        },
        "xaxis2": {
         "anchor": "y2",
         "domain": [
          0,
          1
         ]
        },
        "yaxis": {
         "anchor": "x",
         "domain": [
          0.575,
          1
         ]
        },
        "yaxis2": {
         "anchor": "x2",
         "domain": [
          0,
          0.425
         ]
        }
       }
      },
      "text/html": [
       "<div>                            <div id=\"ed765aba-8ae8-4d09-8e5b-a5c1995de60b\" class=\"plotly-graph-div\" style=\"height:525px; width:100%;\"></div>            <script type=\"text/javascript\">                require([\"plotly\"], function(Plotly) {                    window.PLOTLYENV=window.PLOTLYENV || {};                                    if (document.getElementById(\"ed765aba-8ae8-4d09-8e5b-a5c1995de60b\")) {                    Plotly.newPlot(                        \"ed765aba-8ae8-4d09-8e5b-a5c1995de60b\",                        [{\"name\":\"Total Votes\",\"x\":[\"CHENNAI NORTH(2)\",\"CHENNAI SOUTH(3)\",\"CHENNAI CENTRAL(4)\",\"SRIPERUMBUDUR(5)\",\"KANCHEEPURAM(6)\",\"ARAKKONAM(7)\",\"VELLORE(8)\",\"DHARMAPURI(10)\",\"TIRUVANNAMALAI(11)\",\"ARANI(12)\",\"KALLAKURICHI(14)\",\"SALEM(15)\",\"NAMAKKAL(16)\",\"ERODE(17)\",\"NILGIRIS(19)\",\"COIMBATORE(20)\",\"POLLACHI(21)\",\"PERAMBALUR(25)\",\"THANJAVUR(30)\",\"THENI(33)\",\"THOOTHUKKUDI(36)\",\"TENKASI(37)\"],\"y\":[497333,516628,413848,758611,586044,563216,568692,432667,547379,500099,561589,566085,462036,562339,473212,568200,533377,603209,502245,571493,540729,425679],\"type\":\"scatter\",\"xaxis\":\"x\",\"yaxis\":\"y\"},{\"name\":\"Margin\",\"x\":[\"CHENNAI NORTH(2)\",\"CHENNAI SOUTH(3)\",\"CHENNAI CENTRAL(4)\",\"SRIPERUMBUDUR(5)\",\"KANCHEEPURAM(6)\",\"ARAKKONAM(7)\",\"VELLORE(8)\",\"DHARMAPURI(10)\",\"TIRUVANNAMALAI(11)\",\"ARANI(12)\",\"KALLAKURICHI(14)\",\"SALEM(15)\",\"NAMAKKAL(16)\",\"ERODE(17)\",\"NILGIRIS(19)\",\"COIMBATORE(20)\",\"POLLACHI(21)\",\"PERAMBALUR(25)\",\"THANJAVUR(30)\",\"THENI(33)\",\"THOOTHUKKUDI(36)\",\"TENKASI(37)\"],\"y\":[339222,225945,244689,487029,221473,306559,215702,21300,233931,208766,53784,70357,29112,236566,240585,118068,252042,389107,319583,278825,392738,196199],\"type\":\"scatter\",\"xaxis\":\"x2\",\"yaxis\":\"y2\"}],                        {\"template\":{\"data\":{\"histogram2dcontour\":[{\"type\":\"histogram2dcontour\",\"colorbar\":{\"outlinewidth\":0,\"ticks\":\"\"},\"colorscale\":[[0.0,\"#0d0887\"],[0.1111111111111111,\"#46039f\"],[0.2222222222222222,\"#7201a8\"],[0.3333333333333333,\"#9c179e\"],[0.4444444444444444,\"#bd3786\"],[0.5555555555555556,\"#d8576b\"],[0.6666666666666666,\"#ed7953\"],[0.7777777777777778,\"#fb9f3a\"],[0.8888888888888888,\"#fdca26\"],[1.0,\"#f0f921\"]]}],\"choropleth\":[{\"type\":\"choropleth\",\"colorbar\":{\"outlinewidth\":0,\"ticks\":\"\"}}],\"histogram2d\":[{\"type\":\"histogram2d\",\"colorbar\":{\"outlinewidth\":0,\"ticks\":\"\"},\"colorscale\":[[0.0,\"#0d0887\"],[0.1111111111111111,\"#46039f\"],[0.2222222222222222,\"#7201a8\"],[0.3333333333333333,\"#9c179e\"],[0.4444444444444444,\"#bd3786\"],[0.5555555555555556,\"#d8576b\"],[0.6666666666666666,\"#ed7953\"],[0.7777777777777778,\"#fb9f3a\"],[0.8888888888888888,\"#fdca26\"],[1.0,\"#f0f921\"]]}],\"heatmap\":[{\"type\":\"heatmap\",\"colorbar\":{\"outlinewidth\":0,\"ticks\":\"\"},\"colorscale\":[[0.0,\"#0d0887\"],[0.1111111111111111,\"#46039f\"],[0.2222222222222222,\"#7201a8\"],[0.3333333333333333,\"#9c179e\"],[0.4444444444444444,\"#bd3786\"],[0.5555555555555556,\"#d8576b\"],[0.6666666666666666,\"#ed7953\"],[0.7777777777777778,\"#fb9f3a\"],[0.8888888888888888,\"#fdca26\"],[1.0,\"#f0f921\"]]}],\"heatmapgl\":[{\"type\":\"heatmapgl\",\"colorbar\":{\"outlinewidth\":0,\"ticks\":\"\"},\"colorscale\":[[0.0,\"#0d0887\"],[0.1111111111111111,\"#46039f\"],[0.2222222222222222,\"#7201a8\"],[0.3333333333333333,\"#9c179e\"],[0.4444444444444444,\"#bd3786\"],[0.5555555555555556,\"#d8576b\"],[0.6666666666666666,\"#ed7953\"],[0.7777777777777778,\"#fb9f3a\"],[0.8888888888888888,\"#fdca26\"],[1.0,\"#f0f921\"]]}],\"contourcarpet\":[{\"type\":\"contourcarpet\",\"colorbar\":{\"outlinewidth\":0,\"ticks\":\"\"}}],\"contour\":[{\"type\":\"contour\",\"colorbar\":{\"outlinewidth\":0,\"ticks\":\"\"},\"colorscale\":[[0.0,\"#0d0887\"],[0.1111111111111111,\"#46039f\"],[0.2222222222222222,\"#7201a8\"],[0.3333333333333333,\"#9c179e\"],[0.4444444444444444,\"#bd3786\"],[0.5555555555555556,\"#d8576b\"],[0.6666666666666666,\"#ed7953\"],[0.7777777777777778,\"#fb9f3a\"],[0.8888888888888888,\"#fdca26\"],[1.0,\"#f0f921\"]]}],\"surface\":[{\"type\":\"surface\",\"colorbar\":{\"outlinewidth\":0,\"ticks\":\"\"},\"colorscale\":[[0.0,\"#0d0887\"],[0.1111111111111111,\"#46039f\"],[0.2222222222222222,\"#7201a8\"],[0.3333333333333333,\"#9c179e\"],[0.4444444444444444,\"#bd3786\"],[0.5555555555555556,\"#d8576b\"],[0.6666666666666666,\"#ed7953\"],[0.7777777777777778,\"#fb9f3a\"],[0.8888888888888888,\"#fdca26\"],[1.0,\"#f0f921\"]]}],\"mesh3d\":[{\"type\":\"mesh3d\",\"colorbar\":{\"outlinewidth\":0,\"ticks\":\"\"}}],\"scatter\":[{\"fillpattern\":{\"fillmode\":\"overlay\",\"size\":10,\"solidity\":0.2},\"type\":\"scatter\"}],\"parcoords\":[{\"type\":\"parcoords\",\"line\":{\"colorbar\":{\"outlinewidth\":0,\"ticks\":\"\"}}}],\"scatterpolargl\":[{\"type\":\"scatterpolargl\",\"marker\":{\"colorbar\":{\"outlinewidth\":0,\"ticks\":\"\"}}}],\"bar\":[{\"error_x\":{\"color\":\"#2a3f5f\"},\"error_y\":{\"color\":\"#2a3f5f\"},\"marker\":{\"line\":{\"color\":\"#E5ECF6\",\"width\":0.5},\"pattern\":{\"fillmode\":\"overlay\",\"size\":10,\"solidity\":0.2}},\"type\":\"bar\"}],\"scattergeo\":[{\"type\":\"scattergeo\",\"marker\":{\"colorbar\":{\"outlinewidth\":0,\"ticks\":\"\"}}}],\"scatterpolar\":[{\"type\":\"scatterpolar\",\"marker\":{\"colorbar\":{\"outlinewidth\":0,\"ticks\":\"\"}}}],\"histogram\":[{\"marker\":{\"pattern\":{\"fillmode\":\"overlay\",\"size\":10,\"solidity\":0.2}},\"type\":\"histogram\"}],\"scattergl\":[{\"type\":\"scattergl\",\"marker\":{\"colorbar\":{\"outlinewidth\":0,\"ticks\":\"\"}}}],\"scatter3d\":[{\"type\":\"scatter3d\",\"line\":{\"colorbar\":{\"outlinewidth\":0,\"ticks\":\"\"}},\"marker\":{\"colorbar\":{\"outlinewidth\":0,\"ticks\":\"\"}}}],\"scattermapbox\":[{\"type\":\"scattermapbox\",\"marker\":{\"colorbar\":{\"outlinewidth\":0,\"ticks\":\"\"}}}],\"scatterternary\":[{\"type\":\"scatterternary\",\"marker\":{\"colorbar\":{\"outlinewidth\":0,\"ticks\":\"\"}}}],\"scattercarpet\":[{\"type\":\"scattercarpet\",\"marker\":{\"colorbar\":{\"outlinewidth\":0,\"ticks\":\"\"}}}],\"carpet\":[{\"aaxis\":{\"endlinecolor\":\"#2a3f5f\",\"gridcolor\":\"white\",\"linecolor\":\"white\",\"minorgridcolor\":\"white\",\"startlinecolor\":\"#2a3f5f\"},\"baxis\":{\"endlinecolor\":\"#2a3f5f\",\"gridcolor\":\"white\",\"linecolor\":\"white\",\"minorgridcolor\":\"white\",\"startlinecolor\":\"#2a3f5f\"},\"type\":\"carpet\"}],\"table\":[{\"cells\":{\"fill\":{\"color\":\"#EBF0F8\"},\"line\":{\"color\":\"white\"}},\"header\":{\"fill\":{\"color\":\"#C8D4E3\"},\"line\":{\"color\":\"white\"}},\"type\":\"table\"}],\"barpolar\":[{\"marker\":{\"line\":{\"color\":\"#E5ECF6\",\"width\":0.5},\"pattern\":{\"fillmode\":\"overlay\",\"size\":10,\"solidity\":0.2}},\"type\":\"barpolar\"}],\"pie\":[{\"automargin\":true,\"type\":\"pie\"}]},\"layout\":{\"autotypenumbers\":\"strict\",\"colorway\":[\"#636efa\",\"#EF553B\",\"#00cc96\",\"#ab63fa\",\"#FFA15A\",\"#19d3f3\",\"#FF6692\",\"#B6E880\",\"#FF97FF\",\"#FECB52\"],\"font\":{\"color\":\"#2a3f5f\"},\"hovermode\":\"closest\",\"hoverlabel\":{\"align\":\"left\"},\"paper_bgcolor\":\"white\",\"plot_bgcolor\":\"#E5ECF6\",\"polar\":{\"bgcolor\":\"#E5ECF6\",\"angularaxis\":{\"gridcolor\":\"white\",\"linecolor\":\"white\",\"ticks\":\"\"},\"radialaxis\":{\"gridcolor\":\"white\",\"linecolor\":\"white\",\"ticks\":\"\"}},\"ternary\":{\"bgcolor\":\"#E5ECF6\",\"aaxis\":{\"gridcolor\":\"white\",\"linecolor\":\"white\",\"ticks\":\"\"},\"baxis\":{\"gridcolor\":\"white\",\"linecolor\":\"white\",\"ticks\":\"\"},\"caxis\":{\"gridcolor\":\"white\",\"linecolor\":\"white\",\"ticks\":\"\"}},\"coloraxis\":{\"colorbar\":{\"outlinewidth\":0,\"ticks\":\"\"}},\"colorscale\":{\"sequential\":[[0.0,\"#0d0887\"],[0.1111111111111111,\"#46039f\"],[0.2222222222222222,\"#7201a8\"],[0.3333333333333333,\"#9c179e\"],[0.4444444444444444,\"#bd3786\"],[0.5555555555555556,\"#d8576b\"],[0.6666666666666666,\"#ed7953\"],[0.7777777777777778,\"#fb9f3a\"],[0.8888888888888888,\"#fdca26\"],[1.0,\"#f0f921\"]],\"sequentialminus\":[[0.0,\"#0d0887\"],[0.1111111111111111,\"#46039f\"],[0.2222222222222222,\"#7201a8\"],[0.3333333333333333,\"#9c179e\"],[0.4444444444444444,\"#bd3786\"],[0.5555555555555556,\"#d8576b\"],[0.6666666666666666,\"#ed7953\"],[0.7777777777777778,\"#fb9f3a\"],[0.8888888888888888,\"#fdca26\"],[1.0,\"#f0f921\"]],\"diverging\":[[0,\"#8e0152\"],[0.1,\"#c51b7d\"],[0.2,\"#de77ae\"],[0.3,\"#f1b6da\"],[0.4,\"#fde0ef\"],[0.5,\"#f7f7f7\"],[0.6,\"#e6f5d0\"],[0.7,\"#b8e186\"],[0.8,\"#7fbc41\"],[0.9,\"#4d9221\"],[1,\"#276419\"]]},\"xaxis\":{\"gridcolor\":\"white\",\"linecolor\":\"white\",\"ticks\":\"\",\"title\":{\"standoff\":15},\"zerolinecolor\":\"white\",\"automargin\":true,\"zerolinewidth\":2},\"yaxis\":{\"gridcolor\":\"white\",\"linecolor\":\"white\",\"ticks\":\"\",\"title\":{\"standoff\":15},\"zerolinecolor\":\"white\",\"automargin\":true,\"zerolinewidth\":2},\"scene\":{\"xaxis\":{\"backgroundcolor\":\"#E5ECF6\",\"gridcolor\":\"white\",\"linecolor\":\"white\",\"showbackground\":true,\"ticks\":\"\",\"zerolinecolor\":\"white\",\"gridwidth\":2},\"yaxis\":{\"backgroundcolor\":\"#E5ECF6\",\"gridcolor\":\"white\",\"linecolor\":\"white\",\"showbackground\":true,\"ticks\":\"\",\"zerolinecolor\":\"white\",\"gridwidth\":2},\"zaxis\":{\"backgroundcolor\":\"#E5ECF6\",\"gridcolor\":\"white\",\"linecolor\":\"white\",\"showbackground\":true,\"ticks\":\"\",\"zerolinecolor\":\"white\",\"gridwidth\":2}},\"shapedefaults\":{\"line\":{\"color\":\"#2a3f5f\"}},\"annotationdefaults\":{\"arrowcolor\":\"#2a3f5f\",\"arrowhead\":0,\"arrowwidth\":1},\"geo\":{\"bgcolor\":\"white\",\"landcolor\":\"#E5ECF6\",\"subunitcolor\":\"white\",\"showland\":true,\"showlakes\":true,\"lakecolor\":\"white\"},\"title\":{\"x\":0.05},\"mapbox\":{\"style\":\"light\"}}},\"xaxis\":{\"anchor\":\"y\",\"domain\":[0.0,1.0]},\"yaxis\":{\"anchor\":\"x\",\"domain\":[0.575,1.0]},\"xaxis2\":{\"anchor\":\"y2\",\"domain\":[0.0,1.0]},\"yaxis2\":{\"anchor\":\"x2\",\"domain\":[0.0,0.425]}},                        {\"responsive\": true}                    ).then(function(){\n",
       "                            \n",
       "var gd = document.getElementById('ed765aba-8ae8-4d09-8e5b-a5c1995de60b');\n",
       "var x = new MutationObserver(function (mutations, observer) {{\n",
       "        var display = window.getComputedStyle(gd).display;\n",
       "        if (!display || display === 'none') {{\n",
       "            console.log([gd, 'removed!']);\n",
       "            Plotly.purge(gd);\n",
       "            observer.disconnect();\n",
       "        }}\n",
       "}});\n",
       "\n",
       "// Listen for the removal of the full notebook cells\n",
       "var notebookContainer = gd.closest('#notebook-container');\n",
       "if (notebookContainer) {{\n",
       "    x.observe(notebookContainer, {childList: true});\n",
       "}}\n",
       "\n",
       "// Listen for the clearing of the current output cell\n",
       "var outputEl = gd.closest('.output');\n",
       "if (outputEl) {{\n",
       "    x.observe(outputEl, {childList: true});\n",
       "}}\n",
       "\n",
       "                        })                };                });            </script>        </div>"
      ]
     },
     "metadata": {},
     "output_type": "display_data"
    }
   ],
   "source": [
    "fig = make_subplots(rows=2, cols=1)\n",
    "fig.append_trace(go.Scatter(x=dmk['Parliament Constituency'],y=dmk['Total Votes'],name='Total Votes'), row=1, col=1)\n",
    "fig.append_trace(go.Scatter(x=dmk['Parliament Constituency'],y=dmk['Margin'],name='Margin'), row=2, col=1)\n",
    "fig.show()"
   ]
  },
  {
   "cell_type": "markdown",
   "id": "2bb3aa43",
   "metadata": {},
   "source": [
    "**From the above graph we can say that, the margin in Dharmapuri, Kallakurichi, Namakkal and Salem are quite low and hence DMK have chances of loosing in these contituencies in the next election.**"
   ]
  },
  {
   "cell_type": "code",
   "execution_count": 44,
   "id": "f77daf38",
   "metadata": {},
   "outputs": [
    {
     "data": {
      "text/html": [
       "<div>\n",
       "<style scoped>\n",
       "    .dataframe tbody tr th:only-of-type {\n",
       "        vertical-align: middle;\n",
       "    }\n",
       "\n",
       "    .dataframe tbody tr th {\n",
       "        vertical-align: top;\n",
       "    }\n",
       "\n",
       "    .dataframe thead th {\n",
       "        text-align: right;\n",
       "    }\n",
       "</style>\n",
       "<table border=\"1\" class=\"dataframe\">\n",
       "  <thead>\n",
       "    <tr style=\"text-align: right;\">\n",
       "      <th></th>\n",
       "      <th>Party</th>\n",
       "      <th>Won</th>\n",
       "      <th>Leading</th>\n",
       "      <th>Total</th>\n",
       "      <th>Party_Code</th>\n",
       "    </tr>\n",
       "  </thead>\n",
       "  <tbody>\n",
       "    <tr>\n",
       "      <th>37</th>\n",
       "      <td>Aazad Samaj Party (Kanshi Ram) - ASPKR</td>\n",
       "      <td>1</td>\n",
       "      <td>0</td>\n",
       "      <td>1</td>\n",
       "      <td>ASPKR</td>\n",
       "    </tr>\n",
       "    <tr>\n",
       "      <th>38</th>\n",
       "      <td>Apna Dal (Soneylal) - ADAL</td>\n",
       "      <td>1</td>\n",
       "      <td>0</td>\n",
       "      <td>1</td>\n",
       "      <td>ADAL</td>\n",
       "    </tr>\n",
       "    <tr>\n",
       "      <th>39</th>\n",
       "      <td>AJSU Party - AJSUP</td>\n",
       "      <td>1</td>\n",
       "      <td>0</td>\n",
       "      <td>1</td>\n",
       "      <td>AJSUP</td>\n",
       "    </tr>\n",
       "    <tr>\n",
       "      <th>40</th>\n",
       "      <td>All India Majlis-E-Ittehadul Muslimeen - AIMIM</td>\n",
       "      <td>1</td>\n",
       "      <td>0</td>\n",
       "      <td>1</td>\n",
       "      <td>AIMIM</td>\n",
       "    </tr>\n",
       "    <tr>\n",
       "      <th>41</th>\n",
       "      <td>Independent - IND</td>\n",
       "      <td>7</td>\n",
       "      <td>0</td>\n",
       "      <td>7</td>\n",
       "      <td>IND</td>\n",
       "    </tr>\n",
       "  </tbody>\n",
       "</table>\n",
       "</div>"
      ],
      "text/plain": [
       "                                             Party  Won  Leading  Total  \\\n",
       "37          Aazad Samaj Party (Kanshi Ram) - ASPKR    1        0      1   \n",
       "38                      Apna Dal (Soneylal) - ADAL    1        0      1   \n",
       "39                              AJSU Party - AJSUP    1        0      1   \n",
       "40  All India Majlis-E-Ittehadul Muslimeen - AIMIM    1        0      1   \n",
       "41                               Independent - IND    7        0      7   \n",
       "\n",
       "   Party_Code  \n",
       "37      ASPKR  \n",
       "38       ADAL  \n",
       "39      AJSUP  \n",
       "40      AIMIM  \n",
       "41        IND  "
      ]
     },
     "execution_count": 44,
     "metadata": {},
     "output_type": "execute_result"
    }
   ],
   "source": [
    "df.tail()"
   ]
  },
  {
   "cell_type": "markdown",
   "id": "56265c1e",
   "metadata": {},
   "source": [
    "**It is evident that many new entrants like Revolutionary socialist party and AJSU Party were able to win few seats in the election.**"
   ]
  },
  {
   "cell_type": "markdown",
   "id": "eaa57d7a",
   "metadata": {},
   "source": [
    "# ASSEMBLY CONSTITUENCY"
   ]
  },
  {
   "cell_type": "code",
   "execution_count": 54,
   "id": "96f50d88",
   "metadata": {},
   "outputs": [],
   "source": [
    "url='https://results.eci.gov.in/AcResultGenJune2024/partywiseresult-S01.htm'\n",
    "page=requests.get(url)\n",
    "soup=BeautifulSoup(page.text,'html')"
   ]
  },
  {
   "cell_type": "code",
   "execution_count": 46,
   "id": "59d9dd20",
   "metadata": {
    "scrolled": true
   },
   "outputs": [
    {
     "data": {
      "text/plain": [
       "[<table class=\"table\">\n",
       " <thead>\n",
       " <tr>\n",
       " <th style=\"text-align: left;\">Party</th>\n",
       " <th style=\"text-align:right\">Won</th>\n",
       " <th style=\"text-align:right\">Leading</th>\n",
       " <th style=\"text-align:right\">Total</th>\n",
       " </tr>\n",
       " </thead>\n",
       " <tbody>\n",
       " <tr class=\"tr\">\n",
       " <td style=\"text-align:left\">Telugu Desam - TDP</td>\n",
       " <td style=\"text-align:right\">\n",
       " <a href=\"partywisewinresult-1745S01.htm\">135</a>\n",
       " </td>\n",
       " <td style=\"text-align:right\">\n",
       "                                                                                         0\n",
       "                                                                                     </td>\n",
       " <td style=\"text-align:right\">135</td>\n",
       " </tr>\n",
       " <tr class=\"tr\">\n",
       " <td style=\"text-align:left\">Janasena Party - JnP</td>\n",
       " <td style=\"text-align:right\">\n",
       " <a href=\"partywisewinresult-860S01.htm\">21</a>\n",
       " </td>\n",
       " <td style=\"text-align:right\">\n",
       "                                                                                         0\n",
       "                                                                                     </td>\n",
       " <td style=\"text-align:right\">21</td>\n",
       " </tr>\n",
       " <tr class=\"tr\">\n",
       " <td style=\"text-align:left\">Yuvajana Sramika Rythu Congress Party - YSRCP</td>\n",
       " <td style=\"text-align:right\">\n",
       " <a href=\"partywisewinresult-1888S01.htm\">11</a>\n",
       " </td>\n",
       " <td style=\"text-align:right\">\n",
       "                                                                                         0\n",
       "                                                                                     </td>\n",
       " <td style=\"text-align:right\">11</td>\n",
       " </tr>\n",
       " <tr class=\"tr\">\n",
       " <td style=\"text-align:left\">Bharatiya Janata Party - BJP</td>\n",
       " <td style=\"text-align:right\">\n",
       " <a href=\"partywisewinresult-369S01.htm\">8</a>\n",
       " </td>\n",
       " <td style=\"text-align:right\">\n",
       "                                                                                         0\n",
       "                                                                                     </td>\n",
       " <td style=\"text-align:right\">8</td>\n",
       " </tr>\n",
       " </tbody>\n",
       " <tfoot>\n",
       " <tr>\n",
       " <th>Total</th>\n",
       " <th style=\"text-align:right\">175</th>\n",
       " <th style=\"text-align:right\">0</th>\n",
       " <th style=\"text-align:right\">175</th>\n",
       " </tr>\n",
       " </tfoot>\n",
       " </table>]"
      ]
     },
     "execution_count": 46,
     "metadata": {},
     "output_type": "execute_result"
    }
   ],
   "source": [
    "soup.find_all('table')"
   ]
  },
  {
   "cell_type": "code",
   "execution_count": 55,
   "id": "77d0b548",
   "metadata": {},
   "outputs": [
    {
     "data": {
      "text/plain": [
       "['Party', 'Won', 'Leading', 'Total']"
      ]
     },
     "execution_count": 55,
     "metadata": {},
     "output_type": "execute_result"
    }
   ],
   "source": [
    "titles=soup.find_all('th')\n",
    "titles=[title.text for title in titles]\n",
    "titles=titles[0:4]\n",
    "titles"
   ]
  },
  {
   "cell_type": "code",
   "execution_count": 56,
   "id": "600a40ec",
   "metadata": {},
   "outputs": [],
   "source": [
    "dat=[]\n",
    "for i in range(1,len(soup.find_all('tr'))):\n",
    "    dat.append(data(soup.find_all('tr')[i]))"
   ]
  },
  {
   "cell_type": "code",
   "execution_count": 57,
   "id": "1481c6bf",
   "metadata": {},
   "outputs": [
    {
     "data": {
      "text/plain": [
       "['Total', '175', '0', '175']"
      ]
     },
     "execution_count": 57,
     "metadata": {},
     "output_type": "execute_result"
    }
   ],
   "source": [
    "dat.pop(-1)"
   ]
  },
  {
   "cell_type": "code",
   "execution_count": 58,
   "id": "dd4d9352",
   "metadata": {},
   "outputs": [
    {
     "data": {
      "text/html": [
       "<div>\n",
       "<style scoped>\n",
       "    .dataframe tbody tr th:only-of-type {\n",
       "        vertical-align: middle;\n",
       "    }\n",
       "\n",
       "    .dataframe tbody tr th {\n",
       "        vertical-align: top;\n",
       "    }\n",
       "\n",
       "    .dataframe thead th {\n",
       "        text-align: right;\n",
       "    }\n",
       "</style>\n",
       "<table border=\"1\" class=\"dataframe\">\n",
       "  <thead>\n",
       "    <tr style=\"text-align: right;\">\n",
       "      <th></th>\n",
       "      <th>Party</th>\n",
       "      <th>Won</th>\n",
       "      <th>Leading</th>\n",
       "      <th>Total</th>\n",
       "    </tr>\n",
       "  </thead>\n",
       "  <tbody>\n",
       "    <tr>\n",
       "      <th>0</th>\n",
       "      <td>Telugu Desam - TDP</td>\n",
       "      <td>135</td>\n",
       "      <td>0</td>\n",
       "      <td>135</td>\n",
       "    </tr>\n",
       "    <tr>\n",
       "      <th>1</th>\n",
       "      <td>Janasena Party - JnP</td>\n",
       "      <td>21</td>\n",
       "      <td>0</td>\n",
       "      <td>21</td>\n",
       "    </tr>\n",
       "    <tr>\n",
       "      <th>2</th>\n",
       "      <td>Yuvajana Sramika Rythu Congress Party - YSRCP</td>\n",
       "      <td>11</td>\n",
       "      <td>0</td>\n",
       "      <td>11</td>\n",
       "    </tr>\n",
       "    <tr>\n",
       "      <th>3</th>\n",
       "      <td>Bharatiya Janata Party - BJP</td>\n",
       "      <td>8</td>\n",
       "      <td>0</td>\n",
       "      <td>8</td>\n",
       "    </tr>\n",
       "  </tbody>\n",
       "</table>\n",
       "</div>"
      ],
      "text/plain": [
       "                                           Party  Won Leading Total\n",
       "0                             Telugu Desam - TDP  135       0   135\n",
       "1                           Janasena Party - JnP   21       0    21\n",
       "2  Yuvajana Sramika Rythu Congress Party - YSRCP   11       0    11\n",
       "3                   Bharatiya Janata Party - BJP    8       0     8"
      ]
     },
     "execution_count": 58,
     "metadata": {},
     "output_type": "execute_result"
    }
   ],
   "source": [
    "andhra=pd.DataFrame(data=dat,columns=titles)\n",
    "andhra"
   ]
  },
  {
   "cell_type": "code",
   "execution_count": 59,
   "id": "e8ddb0a7",
   "metadata": {},
   "outputs": [],
   "source": [
    "andhra['Party_Code']=andhra['Party'].apply(code)"
   ]
  },
  {
   "cell_type": "code",
   "execution_count": 62,
   "id": "131fc901",
   "metadata": {},
   "outputs": [
    {
     "data": {
      "text/html": [
       "<div>\n",
       "<style scoped>\n",
       "    .dataframe tbody tr th:only-of-type {\n",
       "        vertical-align: middle;\n",
       "    }\n",
       "\n",
       "    .dataframe tbody tr th {\n",
       "        vertical-align: top;\n",
       "    }\n",
       "\n",
       "    .dataframe thead th {\n",
       "        text-align: right;\n",
       "    }\n",
       "</style>\n",
       "<table border=\"1\" class=\"dataframe\">\n",
       "  <thead>\n",
       "    <tr style=\"text-align: right;\">\n",
       "      <th></th>\n",
       "      <th>Party</th>\n",
       "      <th>Won</th>\n",
       "      <th>Leading</th>\n",
       "      <th>Total</th>\n",
       "      <th>Party_Code</th>\n",
       "    </tr>\n",
       "  </thead>\n",
       "  <tbody>\n",
       "    <tr>\n",
       "      <th>0</th>\n",
       "      <td>Telugu Desam - TDP</td>\n",
       "      <td>135</td>\n",
       "      <td>0</td>\n",
       "      <td>135</td>\n",
       "      <td>TDP</td>\n",
       "    </tr>\n",
       "    <tr>\n",
       "      <th>1</th>\n",
       "      <td>Janasena Party - JnP</td>\n",
       "      <td>21</td>\n",
       "      <td>0</td>\n",
       "      <td>21</td>\n",
       "      <td>JnP</td>\n",
       "    </tr>\n",
       "    <tr>\n",
       "      <th>2</th>\n",
       "      <td>Yuvajana Sramika Rythu Congress Party - YSRCP</td>\n",
       "      <td>11</td>\n",
       "      <td>0</td>\n",
       "      <td>11</td>\n",
       "      <td>YSRCP</td>\n",
       "    </tr>\n",
       "    <tr>\n",
       "      <th>3</th>\n",
       "      <td>Bharatiya Janata Party - BJP</td>\n",
       "      <td>8</td>\n",
       "      <td>0</td>\n",
       "      <td>8</td>\n",
       "      <td>BJP</td>\n",
       "    </tr>\n",
       "  </tbody>\n",
       "</table>\n",
       "</div>"
      ],
      "text/plain": [
       "                                           Party  Won Leading Total Party_Code\n",
       "0                             Telugu Desam - TDP  135       0   135        TDP\n",
       "1                           Janasena Party - JnP   21       0    21        JnP\n",
       "2  Yuvajana Sramika Rythu Congress Party - YSRCP   11       0    11      YSRCP\n",
       "3                   Bharatiya Janata Party - BJP    8       0     8        BJP"
      ]
     },
     "execution_count": 62,
     "metadata": {},
     "output_type": "execute_result"
    }
   ],
   "source": [
    "andhra"
   ]
  },
  {
   "cell_type": "code",
   "execution_count": 63,
   "id": "1cd98ff1",
   "metadata": {},
   "outputs": [
    {
     "data": {
      "application/vnd.plotly.v1+json": {
       "config": {
        "linkText": "Export to plot.ly",
        "plotlyServerURL": "https://plot.ly",
        "showLink": true
       },
       "data": [
        {
         "labels": [
          "TDP",
          "JnP",
          "YSRCP",
          "BJP"
         ],
         "marker": {
          "colors": [
           "rgba(255, 153, 51, 1.0)",
           "rgba(55, 128, 191, 1.0)",
           "rgba(50, 171, 96, 1.0)",
           "rgba(128, 0, 128, 1.0)"
          ]
         },
         "name": "",
         "type": "pie",
         "values": [
          "135",
          "21",
          "11",
          "8"
         ]
        }
       ],
       "layout": {
        "legend": {
         "bgcolor": "#F5F6F9",
         "font": {
          "color": "#4D5663"
         }
        },
        "paper_bgcolor": "#F5F6F9",
        "plot_bgcolor": "#F5F6F9",
        "titlefont": {
         "color": "#4D5663"
        }
       }
      },
      "text/html": [
       "<div>                            <div id=\"d745d1ff-3a5c-4a6b-b727-88b4f10b036d\" class=\"plotly-graph-div\" style=\"height:525px; width:100%;\"></div>            <script type=\"text/javascript\">                require([\"plotly\"], function(Plotly) {                    window.PLOTLYENV=window.PLOTLYENV || {};\n",
       "                    window.PLOTLYENV.BASE_URL='https://plot.ly';                                    if (document.getElementById(\"d745d1ff-3a5c-4a6b-b727-88b4f10b036d\")) {                    Plotly.newPlot(                        \"d745d1ff-3a5c-4a6b-b727-88b4f10b036d\",                        [{\"labels\":[\"TDP\",\"JnP\",\"YSRCP\",\"BJP\"],\"marker\":{\"colors\":[\"rgba(255, 153, 51, 1.0)\",\"rgba(55, 128, 191, 1.0)\",\"rgba(50, 171, 96, 1.0)\",\"rgba(128, 0, 128, 1.0)\"]},\"name\":\"\",\"values\":[\"135\",\"21\",\"11\",\"8\"],\"type\":\"pie\"}],                        {\"legend\":{\"bgcolor\":\"#F5F6F9\",\"font\":{\"color\":\"#4D5663\"}},\"paper_bgcolor\":\"#F5F6F9\",\"plot_bgcolor\":\"#F5F6F9\",\"titlefont\":{\"color\":\"#4D5663\"}},                        {\"showLink\": true, \"linkText\": \"Export to plot.ly\", \"plotlyServerURL\": \"https://plot.ly\", \"responsive\": true}                    ).then(function(){\n",
       "                            \n",
       "var gd = document.getElementById('d745d1ff-3a5c-4a6b-b727-88b4f10b036d');\n",
       "var x = new MutationObserver(function (mutations, observer) {{\n",
       "        var display = window.getComputedStyle(gd).display;\n",
       "        if (!display || display === 'none') {{\n",
       "            console.log([gd, 'removed!']);\n",
       "            Plotly.purge(gd);\n",
       "            observer.disconnect();\n",
       "        }}\n",
       "}});\n",
       "\n",
       "// Listen for the removal of the full notebook cells\n",
       "var notebookContainer = gd.closest('#notebook-container');\n",
       "if (notebookContainer) {{\n",
       "    x.observe(notebookContainer, {childList: true});\n",
       "}}\n",
       "\n",
       "// Listen for the clearing of the current output cell\n",
       "var outputEl = gd.closest('.output');\n",
       "if (outputEl) {{\n",
       "    x.observe(outputEl, {childList: true});\n",
       "}}\n",
       "\n",
       "                        })                };                });            </script>        </div>"
      ]
     },
     "metadata": {},
     "output_type": "display_data"
    }
   ],
   "source": [
    "andhra.iplot(kind='pie',values='Total',labels='Party_Code')"
   ]
  },
  {
   "cell_type": "markdown",
   "id": "af1d5682",
   "metadata": {},
   "source": [
    "**We can clearly see the power of Telugu Desam(TDP) in the general election to assembly constituencies and BJP has secured the least number of seats in this region.**"
   ]
  },
  {
   "cell_type": "code",
   "execution_count": 66,
   "id": "1a202375",
   "metadata": {},
   "outputs": [],
   "source": [
    "ap=table('https://results.eci.gov.in/AcResultGenJune2024/partywisewinresult-1745S01.htm')"
   ]
  },
  {
   "cell_type": "code",
   "execution_count": 67,
   "id": "5a9fad3c",
   "metadata": {},
   "outputs": [
    {
     "data": {
      "text/html": [
       "<div>\n",
       "<style scoped>\n",
       "    .dataframe tbody tr th:only-of-type {\n",
       "        vertical-align: middle;\n",
       "    }\n",
       "\n",
       "    .dataframe tbody tr th {\n",
       "        vertical-align: top;\n",
       "    }\n",
       "\n",
       "    .dataframe thead th {\n",
       "        text-align: right;\n",
       "    }\n",
       "</style>\n",
       "<table border=\"1\" class=\"dataframe\">\n",
       "  <thead>\n",
       "    <tr style=\"text-align: right;\">\n",
       "      <th></th>\n",
       "      <th>Constituency</th>\n",
       "      <th>Winning Candidate</th>\n",
       "      <th>Total Votes</th>\n",
       "      <th>Margin</th>\n",
       "      <th>Status</th>\n",
       "      <th>No_of_candidates</th>\n",
       "    </tr>\n",
       "  </thead>\n",
       "  <tbody>\n",
       "    <tr>\n",
       "      <th>0</th>\n",
       "      <td>Ichchapuram(1)</td>\n",
       "      <td>ASHOK BENDALAM</td>\n",
       "      <td>110612</td>\n",
       "      <td>39783</td>\n",
       "      <td>22/22</td>\n",
       "      <td>1</td>\n",
       "    </tr>\n",
       "    <tr>\n",
       "      <th>1</th>\n",
       "      <td>Palasa(2)</td>\n",
       "      <td>GOUTHU SIREESHA</td>\n",
       "      <td>101560</td>\n",
       "      <td>40350</td>\n",
       "      <td>21/21</td>\n",
       "      <td>2</td>\n",
       "    </tr>\n",
       "    <tr>\n",
       "      <th>2</th>\n",
       "      <td>Tekkali(3)</td>\n",
       "      <td>ATCHANNAIDU KINJARAPU</td>\n",
       "      <td>107923</td>\n",
       "      <td>34435</td>\n",
       "      <td>24/24</td>\n",
       "      <td>3</td>\n",
       "    </tr>\n",
       "    <tr>\n",
       "      <th>3</th>\n",
       "      <td>Pathapatnam(4)</td>\n",
       "      <td>MAMIDI GOVINDA RAO</td>\n",
       "      <td>89452</td>\n",
       "      <td>26527</td>\n",
       "      <td>24/24</td>\n",
       "      <td>4</td>\n",
       "    </tr>\n",
       "    <tr>\n",
       "      <th>4</th>\n",
       "      <td>Srikakulam(5)</td>\n",
       "      <td>GONDU SHANKAR</td>\n",
       "      <td>117091</td>\n",
       "      <td>52521</td>\n",
       "      <td>20/20</td>\n",
       "      <td>5</td>\n",
       "    </tr>\n",
       "  </tbody>\n",
       "</table>\n",
       "</div>"
      ],
      "text/plain": [
       "     Constituency      Winning Candidate  Total Votes  Margin Status  \\\n",
       "0  Ichchapuram(1)         ASHOK BENDALAM       110612   39783  22/22   \n",
       "1       Palasa(2)        GOUTHU SIREESHA       101560   40350  21/21   \n",
       "2      Tekkali(3)  ATCHANNAIDU KINJARAPU       107923   34435  24/24   \n",
       "3  Pathapatnam(4)     MAMIDI GOVINDA RAO        89452   26527  24/24   \n",
       "4   Srikakulam(5)          GONDU SHANKAR       117091   52521  20/20   \n",
       "\n",
       "   No_of_candidates  \n",
       "0                 1  \n",
       "1                 2  \n",
       "2                 3  \n",
       "3                 4  \n",
       "4                 5  "
      ]
     },
     "execution_count": 67,
     "metadata": {},
     "output_type": "execute_result"
    }
   ],
   "source": [
    "ap.head()"
   ]
  },
  {
   "cell_type": "code",
   "execution_count": 68,
   "id": "6401fe33",
   "metadata": {},
   "outputs": [
    {
     "data": {
      "text/html": [
       "<div>\n",
       "<style scoped>\n",
       "    .dataframe tbody tr th:only-of-type {\n",
       "        vertical-align: middle;\n",
       "    }\n",
       "\n",
       "    .dataframe tbody tr th {\n",
       "        vertical-align: top;\n",
       "    }\n",
       "\n",
       "    .dataframe thead th {\n",
       "        text-align: right;\n",
       "    }\n",
       "</style>\n",
       "<table border=\"1\" class=\"dataframe\">\n",
       "  <thead>\n",
       "    <tr style=\"text-align: right;\">\n",
       "      <th></th>\n",
       "      <th>Constituency</th>\n",
       "      <th>Winning Candidate</th>\n",
       "      <th>Total Votes</th>\n",
       "      <th>Margin</th>\n",
       "      <th>Status</th>\n",
       "      <th>No_of_candidates</th>\n",
       "    </tr>\n",
       "  </thead>\n",
       "  <tbody>\n",
       "    <tr>\n",
       "      <th>0</th>\n",
       "      <td>Etcherla(7)</td>\n",
       "      <td>ESWARA RAO NADUKUDITI</td>\n",
       "      <td>112770</td>\n",
       "      <td>29089</td>\n",
       "      <td>23/23</td>\n",
       "      <td>7</td>\n",
       "    </tr>\n",
       "    <tr>\n",
       "      <th>1</th>\n",
       "      <td>Visakhapatnam North(23)</td>\n",
       "      <td>VISHNU KUMAR RAJU PENMETSA</td>\n",
       "      <td>108801</td>\n",
       "      <td>47534</td>\n",
       "      <td>21/21</td>\n",
       "      <td>23</td>\n",
       "    </tr>\n",
       "    <tr>\n",
       "      <th>2</th>\n",
       "      <td>Anaparthy(40)</td>\n",
       "      <td>RAMAKRISHNA REDDY NALLAMILLI</td>\n",
       "      <td>105720</td>\n",
       "      <td>20850</td>\n",
       "      <td>17/17</td>\n",
       "      <td>40</td>\n",
       "    </tr>\n",
       "    <tr>\n",
       "      <th>3</th>\n",
       "      <td>Kaikalur(73)</td>\n",
       "      <td>KAMINENI SRINIVAS</td>\n",
       "      <td>109280</td>\n",
       "      <td>45273</td>\n",
       "      <td>17/17</td>\n",
       "      <td>73</td>\n",
       "    </tr>\n",
       "    <tr>\n",
       "      <th>4</th>\n",
       "      <td>Vijayawada West(79)</td>\n",
       "      <td>YALAMANCHILI SATYANARAYANA CHOWDARY (SUJANA CH...</td>\n",
       "      <td>105669</td>\n",
       "      <td>47032</td>\n",
       "      <td>20/20</td>\n",
       "      <td>79</td>\n",
       "    </tr>\n",
       "  </tbody>\n",
       "</table>\n",
       "</div>"
      ],
      "text/plain": [
       "              Constituency                                  Winning Candidate  \\\n",
       "0              Etcherla(7)                              ESWARA RAO NADUKUDITI   \n",
       "1  Visakhapatnam North(23)                         VISHNU KUMAR RAJU PENMETSA   \n",
       "2            Anaparthy(40)                       RAMAKRISHNA REDDY NALLAMILLI   \n",
       "3             Kaikalur(73)                                  KAMINENI SRINIVAS   \n",
       "4      Vijayawada West(79)  YALAMANCHILI SATYANARAYANA CHOWDARY (SUJANA CH...   \n",
       "\n",
       "   Total Votes  Margin Status  No_of_candidates  \n",
       "0       112770   29089  23/23                 7  \n",
       "1       108801   47534  21/21                23  \n",
       "2       105720   20850  17/17                40  \n",
       "3       109280   45273  17/17                73  \n",
       "4       105669   47032  20/20                79  "
      ]
     },
     "execution_count": 68,
     "metadata": {},
     "output_type": "execute_result"
    }
   ],
   "source": [
    "bp=table('https://results.eci.gov.in/AcResultGenJune2024/partywisewinresult-369S01.htm')\n",
    "bp.head()"
   ]
  },
  {
   "cell_type": "code",
   "execution_count": 77,
   "id": "960bfe03",
   "metadata": {},
   "outputs": [
    {
     "data": {
      "text/html": [
       "<div>\n",
       "<style scoped>\n",
       "    .dataframe tbody tr th:only-of-type {\n",
       "        vertical-align: middle;\n",
       "    }\n",
       "\n",
       "    .dataframe tbody tr th {\n",
       "        vertical-align: top;\n",
       "    }\n",
       "\n",
       "    .dataframe thead th {\n",
       "        text-align: right;\n",
       "    }\n",
       "</style>\n",
       "<table border=\"1\" class=\"dataframe\">\n",
       "  <thead>\n",
       "    <tr style=\"text-align: right;\">\n",
       "      <th></th>\n",
       "      <th>Constituency</th>\n",
       "      <th>Winning Candidate</th>\n",
       "      <th>Total Votes</th>\n",
       "      <th>Margin</th>\n",
       "      <th>Status</th>\n",
       "      <th>No_of_candidates</th>\n",
       "    </tr>\n",
       "  </thead>\n",
       "  <tbody>\n",
       "    <tr>\n",
       "      <th>16</th>\n",
       "      <td>Bhimili(20)</td>\n",
       "      <td>GANTA SRINIVASA RAO</td>\n",
       "      <td>176230</td>\n",
       "      <td>92401</td>\n",
       "      <td>26/26</td>\n",
       "      <td>20</td>\n",
       "    </tr>\n",
       "  </tbody>\n",
       "</table>\n",
       "</div>"
      ],
      "text/plain": [
       "   Constituency    Winning Candidate  Total Votes  Margin Status  \\\n",
       "16  Bhimili(20)  GANTA SRINIVASA RAO       176230   92401  26/26   \n",
       "\n",
       "    No_of_candidates  \n",
       "16                20  "
      ]
     },
     "execution_count": 77,
     "metadata": {},
     "output_type": "execute_result"
    }
   ],
   "source": [
    "ap[ap['Total Votes']==ap['Total Votes'].max()]"
   ]
  },
  {
   "cell_type": "code",
   "execution_count": 71,
   "id": "d688f927",
   "metadata": {},
   "outputs": [
    {
     "data": {
      "text/plain": [
       "14658528"
      ]
     },
     "execution_count": 71,
     "metadata": {},
     "output_type": "execute_result"
    }
   ],
   "source": [
    "ap['Total Votes'].sum()"
   ]
  },
  {
   "cell_type": "code",
   "execution_count": 72,
   "id": "0967e865",
   "metadata": {},
   "outputs": [
    {
     "data": {
      "text/plain": [
       "848353"
      ]
     },
     "execution_count": 72,
     "metadata": {},
     "output_type": "execute_result"
    }
   ],
   "source": [
    "bp['Total Votes'].sum()"
   ]
  },
  {
   "cell_type": "code",
   "execution_count": 73,
   "id": "a6f9a821",
   "metadata": {},
   "outputs": [
    {
     "data": {
      "text/plain": [
       "13810175"
      ]
     },
     "execution_count": 73,
     "metadata": {},
     "output_type": "execute_result"
    }
   ],
   "source": [
    "ap['Total Votes'].sum()-bp['Total Votes'].sum()"
   ]
  },
  {
   "cell_type": "markdown",
   "id": "29a5b693",
   "metadata": {},
   "source": [
    "**The margin of Telugu Desam and BJP is not even close and hence BJP has very less chances of winning in this area and GANTA SRINIVASA RAO has the power in that area.**"
   ]
  },
  {
   "cell_type": "code",
   "execution_count": 80,
   "id": "b01542e7",
   "metadata": {},
   "outputs": [],
   "source": [
    "url='https://results.eci.gov.in/AcResultGenJune2024/partywiseresult-S18.htm'\n",
    "page=requests.get(url)\n",
    "soup=BeautifulSoup(page.text,'html')"
   ]
  },
  {
   "cell_type": "code",
   "execution_count": 81,
   "id": "0ee68467",
   "metadata": {},
   "outputs": [
    {
     "data": {
      "text/plain": [
       "['Party', 'Won', 'Leading', 'Total']"
      ]
     },
     "execution_count": 81,
     "metadata": {},
     "output_type": "execute_result"
    }
   ],
   "source": [
    "titles=soup.find_all('th')\n",
    "titles=[title.text for title in titles]\n",
    "titles=titles[0:4]\n",
    "titles"
   ]
  },
  {
   "cell_type": "code",
   "execution_count": 82,
   "id": "54f3ac81",
   "metadata": {},
   "outputs": [
    {
     "data": {
      "text/plain": [
       "['Total', '147', '0', '147']"
      ]
     },
     "execution_count": 82,
     "metadata": {},
     "output_type": "execute_result"
    }
   ],
   "source": [
    "dat=[]\n",
    "for i in range(1,len(soup.find_all('tr'))):\n",
    "    dat.append(data(soup.find_all('tr')[i]))\n",
    "dat.pop(-1)"
   ]
  },
  {
   "cell_type": "code",
   "execution_count": 83,
   "id": "3abd850d",
   "metadata": {},
   "outputs": [
    {
     "data": {
      "text/html": [
       "<div>\n",
       "<style scoped>\n",
       "    .dataframe tbody tr th:only-of-type {\n",
       "        vertical-align: middle;\n",
       "    }\n",
       "\n",
       "    .dataframe tbody tr th {\n",
       "        vertical-align: top;\n",
       "    }\n",
       "\n",
       "    .dataframe thead th {\n",
       "        text-align: right;\n",
       "    }\n",
       "</style>\n",
       "<table border=\"1\" class=\"dataframe\">\n",
       "  <thead>\n",
       "    <tr style=\"text-align: right;\">\n",
       "      <th></th>\n",
       "      <th>Party</th>\n",
       "      <th>Won</th>\n",
       "      <th>Leading</th>\n",
       "      <th>Total</th>\n",
       "    </tr>\n",
       "  </thead>\n",
       "  <tbody>\n",
       "    <tr>\n",
       "      <th>0</th>\n",
       "      <td>Bharatiya Janata Party - BJP</td>\n",
       "      <td>78</td>\n",
       "      <td>0</td>\n",
       "      <td>78</td>\n",
       "    </tr>\n",
       "    <tr>\n",
       "      <th>1</th>\n",
       "      <td>Biju Janata Dal - BJD</td>\n",
       "      <td>51</td>\n",
       "      <td>0</td>\n",
       "      <td>51</td>\n",
       "    </tr>\n",
       "    <tr>\n",
       "      <th>2</th>\n",
       "      <td>Indian National Congress - INC</td>\n",
       "      <td>14</td>\n",
       "      <td>0</td>\n",
       "      <td>14</td>\n",
       "    </tr>\n",
       "    <tr>\n",
       "      <th>3</th>\n",
       "      <td>Communist Party of India  (Marxist) - CPI(M)</td>\n",
       "      <td>1</td>\n",
       "      <td>0</td>\n",
       "      <td>1</td>\n",
       "    </tr>\n",
       "    <tr>\n",
       "      <th>4</th>\n",
       "      <td>Independent - IND</td>\n",
       "      <td>3</td>\n",
       "      <td>0</td>\n",
       "      <td>3</td>\n",
       "    </tr>\n",
       "  </tbody>\n",
       "</table>\n",
       "</div>"
      ],
      "text/plain": [
       "                                          Party Won Leading Total\n",
       "0                  Bharatiya Janata Party - BJP  78       0    78\n",
       "1                         Biju Janata Dal - BJD  51       0    51\n",
       "2                Indian National Congress - INC  14       0    14\n",
       "3  Communist Party of India  (Marxist) - CPI(M)   1       0     1\n",
       "4                             Independent - IND   3       0     3"
      ]
     },
     "execution_count": 83,
     "metadata": {},
     "output_type": "execute_result"
    }
   ],
   "source": [
    "od=pd.DataFrame(data=dat,columns=titles)\n",
    "od"
   ]
  },
  {
   "cell_type": "code",
   "execution_count": 84,
   "id": "8c658994",
   "metadata": {},
   "outputs": [],
   "source": [
    "od['Party_Code']=od['Party'].apply(code)"
   ]
  },
  {
   "cell_type": "code",
   "execution_count": 85,
   "id": "15dc8570",
   "metadata": {},
   "outputs": [
    {
     "data": {
      "text/html": [
       "<div>\n",
       "<style scoped>\n",
       "    .dataframe tbody tr th:only-of-type {\n",
       "        vertical-align: middle;\n",
       "    }\n",
       "\n",
       "    .dataframe tbody tr th {\n",
       "        vertical-align: top;\n",
       "    }\n",
       "\n",
       "    .dataframe thead th {\n",
       "        text-align: right;\n",
       "    }\n",
       "</style>\n",
       "<table border=\"1\" class=\"dataframe\">\n",
       "  <thead>\n",
       "    <tr style=\"text-align: right;\">\n",
       "      <th></th>\n",
       "      <th>Party</th>\n",
       "      <th>Won</th>\n",
       "      <th>Leading</th>\n",
       "      <th>Total</th>\n",
       "      <th>Party_Code</th>\n",
       "    </tr>\n",
       "  </thead>\n",
       "  <tbody>\n",
       "    <tr>\n",
       "      <th>0</th>\n",
       "      <td>Bharatiya Janata Party - BJP</td>\n",
       "      <td>78</td>\n",
       "      <td>0</td>\n",
       "      <td>78</td>\n",
       "      <td>BJP</td>\n",
       "    </tr>\n",
       "    <tr>\n",
       "      <th>1</th>\n",
       "      <td>Biju Janata Dal - BJD</td>\n",
       "      <td>51</td>\n",
       "      <td>0</td>\n",
       "      <td>51</td>\n",
       "      <td>BJD</td>\n",
       "    </tr>\n",
       "    <tr>\n",
       "      <th>2</th>\n",
       "      <td>Indian National Congress - INC</td>\n",
       "      <td>14</td>\n",
       "      <td>0</td>\n",
       "      <td>14</td>\n",
       "      <td>INC</td>\n",
       "    </tr>\n",
       "    <tr>\n",
       "      <th>3</th>\n",
       "      <td>Communist Party of India  (Marxist) - CPI(M)</td>\n",
       "      <td>1</td>\n",
       "      <td>0</td>\n",
       "      <td>1</td>\n",
       "      <td>CPI(M)</td>\n",
       "    </tr>\n",
       "    <tr>\n",
       "      <th>4</th>\n",
       "      <td>Independent - IND</td>\n",
       "      <td>3</td>\n",
       "      <td>0</td>\n",
       "      <td>3</td>\n",
       "      <td>IND</td>\n",
       "    </tr>\n",
       "  </tbody>\n",
       "</table>\n",
       "</div>"
      ],
      "text/plain": [
       "                                          Party Won Leading Total Party_Code\n",
       "0                  Bharatiya Janata Party - BJP  78       0    78        BJP\n",
       "1                         Biju Janata Dal - BJD  51       0    51        BJD\n",
       "2                Indian National Congress - INC  14       0    14        INC\n",
       "3  Communist Party of India  (Marxist) - CPI(M)   1       0     1     CPI(M)\n",
       "4                             Independent - IND   3       0     3        IND"
      ]
     },
     "execution_count": 85,
     "metadata": {},
     "output_type": "execute_result"
    }
   ],
   "source": [
    "od"
   ]
  },
  {
   "cell_type": "markdown",
   "id": "ab6bda17",
   "metadata": {},
   "source": [
    "**Here it is evident that BJP is leading with 78 seats. Hence we can conclude that BJP has more power over the north part of India than the southern part of India.**"
   ]
  },
  {
   "cell_type": "code",
   "execution_count": null,
   "id": "7ddc54c9",
   "metadata": {},
   "outputs": [],
   "source": []
  }
 ],
 "metadata": {
  "kernelspec": {
   "display_name": "Python 3 (ipykernel)",
   "language": "python",
   "name": "python3"
  },
  "language_info": {
   "codemirror_mode": {
    "name": "ipython",
    "version": 3
   },
   "file_extension": ".py",
   "mimetype": "text/x-python",
   "name": "python",
   "nbconvert_exporter": "python",
   "pygments_lexer": "ipython3",
   "version": "3.11.7"
  }
 },
 "nbformat": 4,
 "nbformat_minor": 5
}
